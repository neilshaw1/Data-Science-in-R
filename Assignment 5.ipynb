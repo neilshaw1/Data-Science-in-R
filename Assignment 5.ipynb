{
 "cells": [
  {
   "cell_type": "markdown",
   "id": "a39183f6-6cfa-4af0-aa1f-5136e003e639",
   "metadata": {},
   "source": [
    "# Assignment 5"
   ]
  },
  {
   "cell_type": "markdown",
   "id": "1b7b651f-c5bf-4213-b02f-85929af99764",
   "metadata": {},
   "source": [
    "## Exercise 6"
   ]
  },
  {
   "cell_type": "markdown",
   "id": "40f543fb-07f7-470a-ac9a-637a21280aaa",
   "metadata": {},
   "source": [
    "Suppose we collect data for a group of students in a statistics class with variables X1 =hours studied, X2=undergrad GPA, and Y = receive an A. We fit a logistic regression and produce estimated coefficient, ˆβ0 = −6, ˆβ1 =0.05, ˆβ2 =1."
   ]
  },
  {
   "cell_type": "markdown",
   "id": "26dc67bc-4957-4873-967c-e7be860455a5",
   "metadata": {},
   "source": [
    "### Exercise 6a:"
   ]
  },
  {
   "cell_type": "markdown",
   "id": "eed5a7d1-0540-408c-b9d2-8d3d4e57fc55",
   "metadata": {},
   "source": [
    "Estimate the probability that a student who studies for 40h and has an undergrad GPA of 3.5 gets an A in the class."
   ]
  },
  {
   "cell_type": "markdown",
   "id": "6c7f0c19-cd0d-4b86-a83b-cc84ca693d44",
   "metadata": {},
   "source": [
    "<span style=\"color: blue;\">logit(p) = β0 + β1 * X1 + β2 * X2.\n",
    "\n",
    "<span style=\"color: blue;\">Plug in the numbers:\n",
    "\n",
    "<span style=\"color: blue;\">logit(p) = -6 + (0.05)(40) + (1)(3.5).\n",
    "\n",
    "<span style=\"color: blue;\">= -6 + 2 + 3.5.\n",
    "\n",
    "<span style=\"color: blue;\">= -0.5.\n",
    "\n",
    "<span style=\"color: blue;\">Convert logit to probability:\n",
    "\n",
    "<span style=\"color: blue;\">p = exp(-0.5) / (1 + exp(-0.5)).\n",
    "\n",
    "<span style=\"color: blue;\">exp(-0.5) ≈ 0.6065.\n",
    "\n",
    "<span style=\"color: blue;\">p ≈ 0.6065 / 1.6065 ≈ 0.38."
   ]
  },
  {
   "cell_type": "markdown",
   "id": "8e706f4b-b29e-40b9-a3cb-a4f4e08563b9",
   "metadata": {},
   "source": [
    "### Exercise 6b:"
   ]
  },
  {
   "cell_type": "markdown",
   "id": "07af6e3b-4c10-4c22-9208-c511cc4948c1",
   "metadata": {},
   "source": [
    "How many hours would the student in part (a) need to study to have a 50% chance of getting an A in the class?"
   ]
  },
  {
   "cell_type": "markdown",
   "id": "9bc15051-4e9f-4cde-a85e-b1d1a60cd99b",
   "metadata": {},
   "source": [
    "<span style=\"color: blue;\">We want p = 0.5. That means logit(p) = 0\n",
    "\n",
    "<span style=\"color: blue;\">So set: -6 + 0.05 * X1 + 1 * 3.5 = 0\n",
    "\n",
    "<span style=\"color: blue;\">Simplify:\n",
    "\n",
    "<span style=\"color: blue;\">-6 + 0.05 * X1 + 3.5 = 0\n",
    "\n",
    "<span style=\"color: blue;\">-2.5 + 0.05 * X1 = 0\n",
    "\n",
    "<span style=\"color: blue;\">0.05 * X1 = 2.5\n",
    "\n",
    "<span style=\"color: blue;\">X1 = 50"
   ]
  },
  {
   "cell_type": "markdown",
   "id": "9d0bdd19-a115-45a8-a934-b8c1f9b71a83",
   "metadata": {},
   "source": [
    "<br><br><br><br><br><br>"
   ]
  },
  {
   "cell_type": "markdown",
   "id": "b6249305-745e-4e3d-bbd9-07308f3d5900",
   "metadata": {},
   "source": [
    "## Exercise 8"
   ]
  },
  {
   "cell_type": "markdown",
   "id": "e6b76144-42ee-432a-80f4-648d46ce6e72",
   "metadata": {},
   "source": [
    "Suppose that we take a data set, divide it into equally-sized training and test sets, and then try out two different classification procedures. First we use logistic regression and get an error rate of 20% on the training data and 30% on the test data. Next we use 1-nearest neigh-bors (i.e. K = 1) and get an average error rate (averaged over both test and training data sets) of 18%. Based on these results, which method should we prefer to use for classification of new observations? Why?"
   ]
  },
  {
   "cell_type": "markdown",
   "id": "1c106d0c-a2ee-444d-884e-26727f3e49f4",
   "metadata": {},
   "source": [
    "<span style=\"color: blue;\">What matters most is test error, since that reflects performance on new data. Logistic regression shows a 30% test error, while 1-NN reports an 18% average error. Because 1-NN almost always has near-zero training error, that average implies a test error around 36%, which is worse than logistic regression. This happens because 1-NN tends to overfit. Therefore, logistic regression is the safer choice for classifying new observations.<span>"
   ]
  },
  {
   "cell_type": "markdown",
   "id": "421ec3dd-4b39-40df-b975-b8015878dd1d",
   "metadata": {},
   "source": [
    "<br><br><br><br><br><br>"
   ]
  },
  {
   "cell_type": "markdown",
   "id": "0ee9703c-7dd5-4fe4-92a8-1974d37dbcdd",
   "metadata": {},
   "source": [
    "## Exercise 9"
   ]
  },
  {
   "cell_type": "markdown",
   "id": "5353052e-ff1a-45b3-b491-f573cacb53ef",
   "metadata": {},
   "source": [
    "This problem has to do with odds."
   ]
  },
  {
   "cell_type": "markdown",
   "id": "5e948169-66ad-4dc1-b4cc-66df791109b7",
   "metadata": {},
   "source": [
    "### Exercise 9a:"
   ]
  },
  {
   "cell_type": "markdown",
   "id": "f04210ab-e41e-4665-8e44-60114abca0c0",
   "metadata": {},
   "source": [
    "On average, what fraction of people with an odds of 0.37 of defaulting on their credit card payment will in fact default?"
   ]
  },
  {
   "cell_type": "markdown",
   "id": "30501dc9-b0ce-4abf-850f-f2e53085cf9d",
   "metadata": {},
   "source": [
    "<span style=\"color: blue;\">probability = odds / (1 + odds)\n",
    "\n",
    "<span style=\"color: blue;\">With odds = 0.37: probability = 0.37 / (1 + 0.37) = 0.37 / 1.37 ≈ 0.27.\n",
    "\n",
    "<span style=\"color: blue;\">So about 27% of people will default.<span>"
   ]
  },
  {
   "cell_type": "markdown",
   "id": "57753cea-8eb7-40bc-9dce-cd61a727de2d",
   "metadata": {},
   "source": [
    "### Exercise 9b:"
   ]
  },
  {
   "cell_type": "markdown",
   "id": "848c0abd-28ac-4c8e-b800-d8a96f9b26bc",
   "metadata": {},
   "source": [
    "Suppose that an individual has a 16% chance of defaulting on her credit card payment. What are the odds that she will default?"
   ]
  },
  {
   "cell_type": "markdown",
   "id": "7dc00a76-b4eb-42f5-bc46-09636bbb4eb6",
   "metadata": {},
   "source": [
    "<span style=\"color: blue;\">odds = probability / (1 - probability)\n",
    "\n",
    "<span style=\"color: blue;\">With probability = 0.16: odds = 0.16 / (1 - 0.16) = 0.16 / 0.84 ≈ 0.19. \n",
    "\n",
    "<span style=\"color: blue;\">So the odds are about 0.19."
   ]
  },
  {
   "cell_type": "markdown",
   "id": "1f3f09e5-2f59-4d4e-a732-623862df0e00",
   "metadata": {},
   "source": [
    "<br><br><br><br><br><br>"
   ]
  },
  {
   "cell_type": "markdown",
   "id": "c01484b1-9897-4b33-bf91-829cf0125c02",
   "metadata": {},
   "source": [
    "## Exercise 10"
   ]
  },
  {
   "cell_type": "markdown",
   "id": "8e28ab07-43bf-4949-b01a-26cd58620113",
   "metadata": {},
   "source": [
    "This question should be answered using the Weekly data set, which is part of the ISLR package. This data is similar in nature to the Smarket data from this chapter’s lab, except that it contains 1,089 weekly returns for 21 years, from the beginning of 1990 to the end of 2010."
   ]
  },
  {
   "cell_type": "markdown",
   "id": "b7d52902-de35-406b-b5e7-6821494afe1d",
   "metadata": {},
   "source": [
    "### Exercise 10a:"
   ]
  },
  {
   "cell_type": "markdown",
   "id": "9990e6ed-2453-428a-bb23-ff5dd5e38658",
   "metadata": {},
   "source": [
    "Produce some numerical and graphical summaries of the Weekly data. Do there appear to be any patterns?"
   ]
  },
  {
   "cell_type": "code",
   "execution_count": 2,
   "id": "452837ac-3946-4ff6-9155-e7af2cf9498d",
   "metadata": {},
   "outputs": [
    {
     "data": {
      "text/plain": [
       "      Year           Lag1               Lag2               Lag3         \n",
       " Min.   :1990   Min.   :-18.1950   Min.   :-18.1950   Min.   :-18.1950  \n",
       " 1st Qu.:1995   1st Qu.: -1.1540   1st Qu.: -1.1540   1st Qu.: -1.1580  \n",
       " Median :2000   Median :  0.2410   Median :  0.2410   Median :  0.2410  \n",
       " Mean   :2000   Mean   :  0.1506   Mean   :  0.1511   Mean   :  0.1472  \n",
       " 3rd Qu.:2005   3rd Qu.:  1.4050   3rd Qu.:  1.4090   3rd Qu.:  1.4090  \n",
       " Max.   :2010   Max.   : 12.0260   Max.   : 12.0260   Max.   : 12.0260  \n",
       "      Lag4               Lag5              Volume            Today         \n",
       " Min.   :-18.1950   Min.   :-18.1950   Min.   :0.08747   Min.   :-18.1950  \n",
       " 1st Qu.: -1.1580   1st Qu.: -1.1660   1st Qu.:0.33202   1st Qu.: -1.1540  \n",
       " Median :  0.2380   Median :  0.2340   Median :1.00268   Median :  0.2410  \n",
       " Mean   :  0.1458   Mean   :  0.1399   Mean   :1.57462   Mean   :  0.1499  \n",
       " 3rd Qu.:  1.4090   3rd Qu.:  1.4050   3rd Qu.:2.05373   3rd Qu.:  1.4050  \n",
       " Max.   : 12.0260   Max.   : 12.0260   Max.   :9.32821   Max.   : 12.0260  \n",
       " Direction \n",
       " Down:484  \n",
       " Up  :605  \n",
       "           \n",
       "           \n",
       "           \n",
       "           "
      ]
     },
     "metadata": {},
     "output_type": "display_data"
    },
    {
     "data": {
      "text/html": [
       "<table class=\"dataframe\">\n",
       "<caption>A matrix: 8 × 8 of type dbl</caption>\n",
       "<thead>\n",
       "\t<tr><th></th><th scope=col>Year</th><th scope=col>Lag1</th><th scope=col>Lag2</th><th scope=col>Lag3</th><th scope=col>Lag4</th><th scope=col>Lag5</th><th scope=col>Volume</th><th scope=col>Today</th></tr>\n",
       "</thead>\n",
       "<tbody>\n",
       "\t<tr><th scope=row>Year</th><td> 1.00000000</td><td>-0.032289274</td><td>-0.03339001</td><td>-0.03000649</td><td>-0.031127923</td><td>-0.030519101</td><td> 0.84194162</td><td>-0.032459894</td></tr>\n",
       "\t<tr><th scope=row>Lag1</th><td>-0.03228927</td><td> 1.000000000</td><td>-0.07485305</td><td> 0.05863568</td><td>-0.071273876</td><td>-0.008183096</td><td>-0.06495131</td><td>-0.075031842</td></tr>\n",
       "\t<tr><th scope=row>Lag2</th><td>-0.03339001</td><td>-0.074853051</td><td> 1.00000000</td><td>-0.07572091</td><td> 0.058381535</td><td>-0.072499482</td><td>-0.08551314</td><td> 0.059166717</td></tr>\n",
       "\t<tr><th scope=row>Lag3</th><td>-0.03000649</td><td> 0.058635682</td><td>-0.07572091</td><td> 1.00000000</td><td>-0.075395865</td><td> 0.060657175</td><td>-0.06928771</td><td>-0.071243639</td></tr>\n",
       "\t<tr><th scope=row>Lag4</th><td>-0.03112792</td><td>-0.071273876</td><td> 0.05838153</td><td>-0.07539587</td><td> 1.000000000</td><td>-0.075675027</td><td>-0.06107462</td><td>-0.007825873</td></tr>\n",
       "\t<tr><th scope=row>Lag5</th><td>-0.03051910</td><td>-0.008183096</td><td>-0.07249948</td><td> 0.06065717</td><td>-0.075675027</td><td> 1.000000000</td><td>-0.05851741</td><td> 0.011012698</td></tr>\n",
       "\t<tr><th scope=row>Volume</th><td> 0.84194162</td><td>-0.064951313</td><td>-0.08551314</td><td>-0.06928771</td><td>-0.061074617</td><td>-0.058517414</td><td> 1.00000000</td><td>-0.033077783</td></tr>\n",
       "\t<tr><th scope=row>Today</th><td>-0.03245989</td><td>-0.075031842</td><td> 0.05916672</td><td>-0.07124364</td><td>-0.007825873</td><td> 0.011012698</td><td>-0.03307778</td><td> 1.000000000</td></tr>\n",
       "</tbody>\n",
       "</table>\n"
      ],
      "text/latex": [
       "A matrix: 8 × 8 of type dbl\n",
       "\\begin{tabular}{r|llllllll}\n",
       "  & Year & Lag1 & Lag2 & Lag3 & Lag4 & Lag5 & Volume & Today\\\\\n",
       "\\hline\n",
       "\tYear &  1.00000000 & -0.032289274 & -0.03339001 & -0.03000649 & -0.031127923 & -0.030519101 &  0.84194162 & -0.032459894\\\\\n",
       "\tLag1 & -0.03228927 &  1.000000000 & -0.07485305 &  0.05863568 & -0.071273876 & -0.008183096 & -0.06495131 & -0.075031842\\\\\n",
       "\tLag2 & -0.03339001 & -0.074853051 &  1.00000000 & -0.07572091 &  0.058381535 & -0.072499482 & -0.08551314 &  0.059166717\\\\\n",
       "\tLag3 & -0.03000649 &  0.058635682 & -0.07572091 &  1.00000000 & -0.075395865 &  0.060657175 & -0.06928771 & -0.071243639\\\\\n",
       "\tLag4 & -0.03112792 & -0.071273876 &  0.05838153 & -0.07539587 &  1.000000000 & -0.075675027 & -0.06107462 & -0.007825873\\\\\n",
       "\tLag5 & -0.03051910 & -0.008183096 & -0.07249948 &  0.06065717 & -0.075675027 &  1.000000000 & -0.05851741 &  0.011012698\\\\\n",
       "\tVolume &  0.84194162 & -0.064951313 & -0.08551314 & -0.06928771 & -0.061074617 & -0.058517414 &  1.00000000 & -0.033077783\\\\\n",
       "\tToday & -0.03245989 & -0.075031842 &  0.05916672 & -0.07124364 & -0.007825873 &  0.011012698 & -0.03307778 &  1.000000000\\\\\n",
       "\\end{tabular}\n"
      ],
      "text/markdown": [
       "\n",
       "A matrix: 8 × 8 of type dbl\n",
       "\n",
       "| <!--/--> | Year | Lag1 | Lag2 | Lag3 | Lag4 | Lag5 | Volume | Today |\n",
       "|---|---|---|---|---|---|---|---|---|\n",
       "| Year |  1.00000000 | -0.032289274 | -0.03339001 | -0.03000649 | -0.031127923 | -0.030519101 |  0.84194162 | -0.032459894 |\n",
       "| Lag1 | -0.03228927 |  1.000000000 | -0.07485305 |  0.05863568 | -0.071273876 | -0.008183096 | -0.06495131 | -0.075031842 |\n",
       "| Lag2 | -0.03339001 | -0.074853051 |  1.00000000 | -0.07572091 |  0.058381535 | -0.072499482 | -0.08551314 |  0.059166717 |\n",
       "| Lag3 | -0.03000649 |  0.058635682 | -0.07572091 |  1.00000000 | -0.075395865 |  0.060657175 | -0.06928771 | -0.071243639 |\n",
       "| Lag4 | -0.03112792 | -0.071273876 |  0.05838153 | -0.07539587 |  1.000000000 | -0.075675027 | -0.06107462 | -0.007825873 |\n",
       "| Lag5 | -0.03051910 | -0.008183096 | -0.07249948 |  0.06065717 | -0.075675027 |  1.000000000 | -0.05851741 |  0.011012698 |\n",
       "| Volume |  0.84194162 | -0.064951313 | -0.08551314 | -0.06928771 | -0.061074617 | -0.058517414 |  1.00000000 | -0.033077783 |\n",
       "| Today | -0.03245989 | -0.075031842 |  0.05916672 | -0.07124364 | -0.007825873 |  0.011012698 | -0.03307778 |  1.000000000 |\n",
       "\n"
      ],
      "text/plain": [
       "       Year        Lag1         Lag2        Lag3        Lag4        \n",
       "Year    1.00000000 -0.032289274 -0.03339001 -0.03000649 -0.031127923\n",
       "Lag1   -0.03228927  1.000000000 -0.07485305  0.05863568 -0.071273876\n",
       "Lag2   -0.03339001 -0.074853051  1.00000000 -0.07572091  0.058381535\n",
       "Lag3   -0.03000649  0.058635682 -0.07572091  1.00000000 -0.075395865\n",
       "Lag4   -0.03112792 -0.071273876  0.05838153 -0.07539587  1.000000000\n",
       "Lag5   -0.03051910 -0.008183096 -0.07249948  0.06065717 -0.075675027\n",
       "Volume  0.84194162 -0.064951313 -0.08551314 -0.06928771 -0.061074617\n",
       "Today  -0.03245989 -0.075031842  0.05916672 -0.07124364 -0.007825873\n",
       "       Lag5         Volume      Today       \n",
       "Year   -0.030519101  0.84194162 -0.032459894\n",
       "Lag1   -0.008183096 -0.06495131 -0.075031842\n",
       "Lag2   -0.072499482 -0.08551314  0.059166717\n",
       "Lag3    0.060657175 -0.06928771 -0.071243639\n",
       "Lag4   -0.075675027 -0.06107462 -0.007825873\n",
       "Lag5    1.000000000 -0.05851741  0.011012698\n",
       "Volume -0.058517414  1.00000000 -0.033077783\n",
       "Today   0.011012698 -0.03307778  1.000000000"
      ]
     },
     "metadata": {},
     "output_type": "display_data"
    },
    {
     "data": {
      "image/png": "[encoded data removed]",
      "text/plain": [
       "plot without title"
      ]
     },
     "metadata": {
      "image/png": {
       "height": 420,
       "width": 420
      }
     },
     "output_type": "display_data"
    },
    {
     "data": {
      "image/png": "[encoded data removed]",
      "text/plain": [
       "plot without title"
      ]
     },
     "metadata": {
      "image/png": {
       "height": 420,
       "width": 420
      }
     },
     "output_type": "display_data"
    }
   ],
   "source": [
    "library(ISLR)\n",
    "data(\"Weekly\")\n",
    "\n",
    "summary(Weekly)\n",
    "pairs(Weekly[, -9])\n",
    "cor(Weekly[, -9])\n",
    "plot(Weekly$Volume, type = \"l\")"
   ]
  },
  {
   "cell_type": "markdown",
   "id": "5ae59b96-7f17-48ba-b9fa-caba73955f96",
   "metadata": {},
   "source": [
    "<span style=\"color: blue;\"> Volume increases steadily over time in years, but that's about it<span>"
   ]
  },
  {
   "cell_type": "markdown",
   "id": "3701ee8b-962f-400b-b13e-53648749773e",
   "metadata": {},
   "source": [
    "### Exercise 10b:"
   ]
  },
  {
   "cell_type": "markdown",
   "id": "248d98a2-fa09-4cbc-a506-2089ecd7e492",
   "metadata": {},
   "source": [
    "Use the full data set to perform a logistic regression with Direction as the response and the five lag variables plus Volume as predictors. Use the summary function to print the results. Do any of the predictors appear to be statistically significant? If so, which ones?"
   ]
  },
  {
   "cell_type": "code",
   "execution_count": 4,
   "id": "49457e64-97b8-4527-97ae-d6ec7b5c8330",
   "metadata": {},
   "outputs": [
    {
     "data": {
      "text/plain": [
       "\n",
       "Call:\n",
       "glm(formula = Direction ~ Lag1 + Lag2 + Lag3 + Lag4 + Lag5 + \n",
       "    Volume, family = binomial, data = Weekly)\n",
       "\n",
       "Coefficients:\n",
       "            Estimate Std. Error z value Pr(>|z|)   \n",
       "(Intercept)  0.26686    0.08593   3.106   0.0019 **\n",
       "Lag1        -0.04127    0.02641  -1.563   0.1181   \n",
       "Lag2         0.05844    0.02686   2.175   0.0296 * \n",
       "Lag3        -0.01606    0.02666  -0.602   0.5469   \n",
       "Lag4        -0.02779    0.02646  -1.050   0.2937   \n",
       "Lag5        -0.01447    0.02638  -0.549   0.5833   \n",
       "Volume      -0.02274    0.03690  -0.616   0.5377   \n",
       "---\n",
       "Signif. codes:  0 '***' 0.001 '**' 0.01 '*' 0.05 '.' 0.1 ' ' 1\n",
       "\n",
       "(Dispersion parameter for binomial family taken to be 1)\n",
       "\n",
       "    Null deviance: 1496.2  on 1088  degrees of freedom\n",
       "Residual deviance: 1486.4  on 1082  degrees of freedom\n",
       "AIC: 1500.4\n",
       "\n",
       "Number of Fisher Scoring iterations: 4\n"
      ]
     },
     "metadata": {},
     "output_type": "display_data"
    }
   ],
   "source": [
    "glm.fit = glm(Direction ~ Lag1 + Lag2 + Lag3 + Lag4 + Lag5 + Volume,\n",
    "               data = Weekly, family = binomial)\n",
    "summary(glm.fit)"
   ]
  },
  {
   "cell_type": "markdown",
   "id": "615b74de-e2c4-4293-8f1b-0e8db0cca6f0",
   "metadata": {},
   "source": [
    "<span style=\"color: blue;\">Only Lag2 has a statistically significant coefficient (p ≈ 0.03), suggesting that past two-week returns have an effect on predicting the market direction. The other predictors, including Lag1, Lag3–Lag5, and Volume, are not statistically significant."
   ]
  },
  {
   "cell_type": "markdown",
   "id": "3242bac3-11f1-4aaa-b01f-f2700cb8086e",
   "metadata": {},
   "source": [
    "### Exercise 10c:"
   ]
  },
  {
   "cell_type": "markdown",
   "id": "a754b597-f75b-41b9-8dd6-af6e002ea610",
   "metadata": {},
   "source": [
    "Compute the confusion matrix and overall fraction of correct predictions. Explain what the confusion matrix is telling you about the types of mistakes made by logistic regression."
   ]
  },
  {
   "cell_type": "code",
   "execution_count": 15,
   "id": "10299bbf-fb1c-40e7-9106-6dea56b70718",
   "metadata": {},
   "outputs": [
    {
     "data": {
      "text/plain": [
       "        \n",
       "glm.pred Down  Up\n",
       "    Down   54  48\n",
       "    Up    430 557"
      ]
     },
     "metadata": {},
     "output_type": "display_data"
    },
    {
     "data": {
      "text/html": [
       "0.561065197428834"
      ],
      "text/latex": [
       "0.561065197428834"
      ],
      "text/markdown": [
       "0.561065197428834"
      ],
      "text/plain": [
       "[1] 0.5610652"
      ]
     },
     "metadata": {},
     "output_type": "display_data"
    }
   ],
   "source": [
    "glm.probs = predict(glm.fit, type = \"response\")\n",
    "glm.pred =ifelse(glm.probs > 0.5, \"Up\", \"Down\")\n",
    "table(glm.pred, Weekly$Direction)\n",
    "\n",
    "mean(glm.pred == Weekly$Direction)"
   ]
  },
  {
   "cell_type": "markdown",
   "id": "2e3fe166-0e39-4752-8057-ac4cac6dfde1",
   "metadata": {},
   "source": [
    "<span style=\"color: blue;\">The confusion matrix shows that the logistic regression correctly predicted 54 Downs and 557 Ups, but misclassified 48 Downs as Ups and 430 Ups as Downs. The overall accuracy is about 56%, indicating the model predicts \"Up\" much more reliably than \"Down.\""
   ]
  },
  {
   "cell_type": "markdown",
   "id": "32f77980-2ed8-4834-b5ad-135b1e358015",
   "metadata": {},
   "source": [
    "### Exercise 10d:"
   ]
  },
  {
   "cell_type": "markdown",
   "id": "38ead8f7-a7e4-40e9-85aa-a3473ac25c7f",
   "metadata": {},
   "source": [
    "Now fit the logistic regression model using a training data period from 1990 to 2008, with Lag2 as the only predictor. Compute the confusion matrix and the overall fraction of correct predictions for the held out data (that is, the data from 2009 and 2010)."
   ]
  },
  {
   "cell_type": "code",
   "execution_count": 16,
   "id": "2ae6644a-4f55-412f-825a-f4e01848e55e",
   "metadata": {},
   "outputs": [
    {
     "data": {
      "text/plain": [
       "         Direction.test\n",
       "glm.pred2 Down Up\n",
       "     Down    9  5\n",
       "     Up     34 56"
      ]
     },
     "metadata": {},
     "output_type": "display_data"
    },
    {
     "data": {
      "text/html": [
       "0.625"
      ],
      "text/latex": [
       "0.625"
      ],
      "text/markdown": [
       "0.625"
      ],
      "text/plain": [
       "[1] 0.625"
      ]
     },
     "metadata": {},
     "output_type": "display_data"
    }
   ],
   "source": [
    "train = (Weekly$Year <= 2008)\n",
    "Weekly.train = Weekly[train, ]\n",
    "Weekly.test = Weekly[!train, ]\n",
    "Direction.test = Weekly$Direction[!train]\n",
    "\n",
    "glm.fit2 = glm(Direction ~ Lag2, data = Weekly.train, family = binomial)\n",
    "glm.probs2 = predict(glm.fit2, Weekly.test, type = \"response\")\n",
    "glm.pred2 = ifelse(glm.probs2 > 0.5, \"Up\", \"Down\")\n",
    "\n",
    "table(glm.pred2, Direction.test)\n",
    "mean(glm.pred2 == Direction.test)"
   ]
  },
  {
   "cell_type": "markdown",
   "id": "17e86550-2d50-4aa6-ae18-41ad5d078e7d",
   "metadata": {},
   "source": [
    "### Exercise 10e:"
   ]
  },
  {
   "cell_type": "markdown",
   "id": "b8ae50b1-9937-4528-984f-5731721eeb07",
   "metadata": {},
   "source": [
    "Repeat (d) using LDA."
   ]
  },
  {
   "cell_type": "code",
   "execution_count": 17,
   "id": "0874e42e-3019-46f0-a371-9fc4e4c7efbe",
   "metadata": {},
   "outputs": [
    {
     "data": {
      "text/plain": [
       "      Direction.test\n",
       "       Down Up\n",
       "  Down    9  5\n",
       "  Up     34 56"
      ]
     },
     "metadata": {},
     "output_type": "display_data"
    },
    {
     "data": {
      "text/html": [
       "0.625"
      ],
      "text/latex": [
       "0.625"
      ],
      "text/markdown": [
       "0.625"
      ],
      "text/plain": [
       "[1] 0.625"
      ]
     },
     "metadata": {},
     "output_type": "display_data"
    }
   ],
   "source": [
    "library(MASS)\n",
    "lda.fit = lda(Direction ~ Lag2, data = Weekly.train)\n",
    "lda.pred = predict(lda.fit, Weekly.test)\n",
    "table(lda.pred$class, Direction.test)\n",
    "mean(lda.pred$class == Direction.test)"
   ]
  },
  {
   "cell_type": "markdown",
   "id": "90d8a84b-47c8-44ef-adc2-4b37d66e5211",
   "metadata": {},
   "source": [
    "### Exercise 10f:"
   ]
  },
  {
   "cell_type": "markdown",
   "id": "ba706eaa-6cdf-4ae4-89c7-6a6b8f00ac87",
   "metadata": {},
   "source": [
    "Repeat (d) using QDA."
   ]
  },
  {
   "cell_type": "code",
   "execution_count": 18,
   "id": "f2c9e368-8de0-4e6c-9237-793188fef51b",
   "metadata": {},
   "outputs": [
    {
     "data": {
      "text/plain": [
       "      Direction.test\n",
       "       Down Up\n",
       "  Down    0  0\n",
       "  Up     43 61"
      ]
     },
     "metadata": {},
     "output_type": "display_data"
    },
    {
     "data": {
      "text/html": [
       "0.586538461538462"
      ],
      "text/latex": [
       "0.586538461538462"
      ],
      "text/markdown": [
       "0.586538461538462"
      ],
      "text/plain": [
       "[1] 0.5865385"
      ]
     },
     "metadata": {},
     "output_type": "display_data"
    }
   ],
   "source": [
    "qda.fit = qda(Direction ~ Lag2, data = Weekly.train)\n",
    "qda.pred = predict(qda.fit, Weekly.test)\n",
    "table(qda.pred$class, Direction.test)\n",
    "mean(qda.pred$class == Direction.test)"
   ]
  },
  {
   "cell_type": "markdown",
   "id": "8ada9a9f-4add-4826-801d-c45aaa5bcd61",
   "metadata": {},
   "source": [
    "### Exercise 10g:"
   ]
  },
  {
   "cell_type": "markdown",
   "id": "bee2b229-e760-46d3-b7c3-77d0f695ce71",
   "metadata": {},
   "source": [
    "Repeat (d) using KNN with K =1"
   ]
  },
  {
   "cell_type": "code",
   "execution_count": 19,
   "id": "0415876b-e8d3-41d4-a061-4fd7c323cb71",
   "metadata": {},
   "outputs": [
    {
     "data": {
      "text/plain": [
       "        Direction.test\n",
       "knn.pred Down Up\n",
       "    Down   21 30\n",
       "    Up     22 31"
      ]
     },
     "metadata": {},
     "output_type": "display_data"
    },
    {
     "data": {
      "text/html": [
       "0.5"
      ],
      "text/latex": [
       "0.5"
      ],
      "text/markdown": [
       "0.5"
      ],
      "text/plain": [
       "[1] 0.5"
      ]
     },
     "metadata": {},
     "output_type": "display_data"
    }
   ],
   "source": [
    "library(class)\n",
    "train.X = as.matrix(Weekly.train$Lag2)\n",
    "test.X = as.matrix(Weekly.test$Lag2)\n",
    "train.Direction = Weekly.train$Direction\n",
    "\n",
    "set.seed(1)\n",
    "knn.pred = knn(train.X, test.X, train.Direction, k = 1)\n",
    "table(knn.pred, Direction.test)\n",
    "mean(knn.pred == Direction.test)"
   ]
  },
  {
   "cell_type": "markdown",
   "id": "fdaa1342-d0e3-401b-8e01-6225457c033e",
   "metadata": {},
   "source": [
    "### Exercise 10h:"
   ]
  },
  {
   "cell_type": "markdown",
   "id": "791e46e2-6089-42fc-8b04-2ae87c79d681",
   "metadata": {},
   "source": [
    "Which of these methods appears to provide the best results on this data?"
   ]
  },
  {
   "cell_type": "markdown",
   "id": "d72d7f72-7e81-4636-b2e5-a72067aa3b15",
   "metadata": {},
   "source": [
    "<span style=\"color: blue;\">Logistic Regression (Lag2) and LDA (Lag2) both perform best (~62%). QDA and KNN with K=1 are worse."
   ]
  },
  {
   "cell_type": "markdown",
   "id": "1a1e65d3-609c-46c6-ae44-2120e891983c",
   "metadata": {},
   "source": [
    "### Exercise 10i:"
   ]
  },
  {
   "cell_type": "markdown",
   "id": "c006d4b6-a666-413e-9614-ef1cc6eed1a8",
   "metadata": {},
   "source": [
    "Experiment with different combinations of predictors, including possible transformations and interactions, for each of the methods. Report the variables, method, and associated confusion matrix that appears to provide the best results on the held out data. Note that you should also experiment with values for K in the KNN classifier."
   ]
  },
  {
   "cell_type": "code",
   "execution_count": 21,
   "id": "0ff73c59-4284-4b60-8ec3-39218a11e4e1",
   "metadata": {},
   "outputs": [
    {
     "data": {
      "text/plain": [
       "         Direction.test\n",
       "glm.pred3 Down Up\n",
       "     Down    3  3\n",
       "     Up     40 58"
      ]
     },
     "metadata": {},
     "output_type": "display_data"
    },
    {
     "data": {
      "text/html": [
       "0.586538461538462"
      ],
      "text/latex": [
       "0.586538461538462"
      ],
      "text/markdown": [
       "0.586538461538462"
      ],
      "text/plain": [
       "[1] 0.5865385"
      ]
     },
     "metadata": {},
     "output_type": "display_data"
    },
    {
     "name": "stdout",
     "output_type": "stream",
     "text": [
      "\n"
     ]
    },
    {
     "data": {
      "text/plain": [
       "         Direction.test\n",
       "knn.pred5 Down Up\n",
       "     Down   16 20\n",
       "     Up     27 41"
      ]
     },
     "metadata": {},
     "output_type": "display_data"
    },
    {
     "data": {
      "text/html": [
       "0.548076923076923"
      ],
      "text/latex": [
       "0.548076923076923"
      ],
      "text/markdown": [
       "0.548076923076923"
      ],
      "text/plain": [
       "[1] 0.5480769"
      ]
     },
     "metadata": {},
     "output_type": "display_data"
    }
   ],
   "source": [
    "glm.fit3 = glm(Direction ~ Lag2:Lag1 + Lag2^2, data = Weekly.train, family = binomial)\n",
    "glm.probs3 = predict(glm.fit3, Weekly.test, type = \"response\")\n",
    "glm.pred3 = ifelse(glm.probs3 > 0.5, \"Up\", \"Down\")\n",
    "table(glm.pred3, Direction.test)\n",
    "mean(glm.pred3 == Direction.test)\n",
    "cat(\"\\n\")\n",
    "knn.pred5 = knn(train.X, test.X, train.Direction, k = 5)\n",
    "table(knn.pred5, Direction.test)\n",
    "mean(knn.pred5 == Direction.test)"
   ]
  }
 ],
 "metadata": {
  "kernelspec": {
   "display_name": "R",
   "language": "R",
   "name": "ir"
  },
  "language_info": {
   "codemirror_mode": "r",
   "file_extension": ".r",
   "mimetype": "text/x-r-source",
   "name": "R",
   "pygments_lexer": "r",
   "version": "4.5.1"
  }
 },
 "nbformat": 4,
 "nbformat_minor": 5
}
