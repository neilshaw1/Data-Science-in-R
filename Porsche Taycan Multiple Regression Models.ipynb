{
 "cells": [
  {
   "cell_type": "markdown",
   "id": "989cc3ba-1298-41cd-9383-5174696bc321",
   "metadata": {},
   "source": [
    "# Short Project 2: Porsche Taycan Multiple Regression Models"
   ]
  },
  {
   "cell_type": "markdown",
   "id": "911cd607-6df2-427b-935f-1e896a729a60",
   "metadata": {},
   "source": [
    "## Model #1: Use Age and Miles as predictors"
   ]
  },
  {
   "cell_type": "markdown",
   "id": "13b447ec-ac1e-4321-8627-abef1f1929c7",
   "metadata": {},
   "source": [
    "### Part (a):"
   ]
  },
  {
   "cell_type": "markdown",
   "id": "aaac94dd-446e-45e4-8ad9-88afc8ccb83c",
   "metadata": {},
   "source": [
    "Run the model with two predictors (age and miles) for price as the response variable and provide the output (both the summary and the anova for the model)"
   ]
  },
  {
   "cell_type": "code",
   "execution_count": 2,
   "id": "5fc23a11-e243-4e92-8985-6dcbc958f573",
   "metadata": {},
   "outputs": [
    {
     "name": "stdout",
     "output_type": "stream",
     "text": [
      "Summary of Model 1:\n"
     ]
    },
    {
     "data": {
      "text/plain": [
       "\n",
       "Call:\n",
       "lm(formula = Price ~ Age + Miles)\n",
       "\n",
       "Residuals:\n",
       "   Min     1Q Median     3Q    Max \n",
       "-24.78 -10.36  -3.89   6.30  45.38 \n",
       "\n",
       "Coefficients:\n",
       "            Estimate Std. Error t value Pr(>|t|)    \n",
       "(Intercept) 125.0002     6.6659  18.752   <2e-16 ***\n",
       "Age          -5.7944     2.8239  -2.052    0.050 *  \n",
       "Miles        -1.3081     0.5785  -2.261    0.032 *  \n",
       "---\n",
       "Signif. codes:  0 '***' 0.001 '**' 0.01 '*' 0.05 '.' 0.1 ' ' 1\n",
       "\n",
       "Residual standard error: 17.57 on 27 degrees of freedom\n",
       "Multiple R-squared:  0.5277,\tAdjusted R-squared:  0.4927 \n",
       "F-statistic: 15.08 on 2 and 27 DF,  p-value: 4e-05\n"
      ]
     },
     "metadata": {},
     "output_type": "display_data"
    },
    {
     "name": "stdout",
     "output_type": "stream",
     "text": [
      "\n",
      "\n",
      "Anova of Model 1:\n"
     ]
    },
    {
     "data": {
      "text/html": [
       "<table class=\"dataframe\">\n",
       "<caption>A anova: 3 × 5</caption>\n",
       "<thead>\n",
       "\t<tr><th></th><th scope=col>Df</th><th scope=col>Sum Sq</th><th scope=col>Mean Sq</th><th scope=col>F value</th><th scope=col>Pr(&gt;F)</th></tr>\n",
       "\t<tr><th></th><th scope=col>&lt;int&gt;</th><th scope=col>&lt;dbl&gt;</th><th scope=col>&lt;dbl&gt;</th><th scope=col>&lt;dbl&gt;</th><th scope=col>&lt;dbl&gt;</th></tr>\n",
       "</thead>\n",
       "<tbody>\n",
       "\t<tr><th scope=row>Age</th><td> 1</td><td>7731.301</td><td>7731.3013</td><td>25.05366</td><td>3.001987e-05</td></tr>\n",
       "\t<tr><th scope=row>Miles</th><td> 1</td><td>1577.702</td><td>1577.7017</td><td> 5.11262</td><td>3.201875e-02</td></tr>\n",
       "\t<tr><th scope=row>Residuals</th><td>27</td><td>8331.921</td><td> 308.5897</td><td>      NA</td><td>          NA</td></tr>\n",
       "</tbody>\n",
       "</table>\n"
      ],
      "text/latex": [
       "A anova: 3 × 5\n",
       "\\begin{tabular}{r|lllll}\n",
       "  & Df & Sum Sq & Mean Sq & F value & Pr(>F)\\\\\n",
       "  & <int> & <dbl> & <dbl> & <dbl> & <dbl>\\\\\n",
       "\\hline\n",
       "\tAge &  1 & 7731.301 & 7731.3013 & 25.05366 & 3.001987e-05\\\\\n",
       "\tMiles &  1 & 1577.702 & 1577.7017 &  5.11262 & 3.201875e-02\\\\\n",
       "\tResiduals & 27 & 8331.921 &  308.5897 &       NA &           NA\\\\\n",
       "\\end{tabular}\n"
      ],
      "text/markdown": [
       "\n",
       "A anova: 3 × 5\n",
       "\n",
       "| <!--/--> | Df &lt;int&gt; | Sum Sq &lt;dbl&gt; | Mean Sq &lt;dbl&gt; | F value &lt;dbl&gt; | Pr(&gt;F) &lt;dbl&gt; |\n",
       "|---|---|---|---|---|---|\n",
       "| Age |  1 | 7731.301 | 7731.3013 | 25.05366 | 3.001987e-05 |\n",
       "| Miles |  1 | 1577.702 | 1577.7017 |  5.11262 | 3.201875e-02 |\n",
       "| Residuals | 27 | 8331.921 |  308.5897 |       NA |           NA |\n",
       "\n"
      ],
      "text/plain": [
       "          Df Sum Sq   Mean Sq   F value  Pr(>F)      \n",
       "Age        1 7731.301 7731.3013 25.05366 3.001987e-05\n",
       "Miles      1 1577.702 1577.7017  5.11262 3.201875e-02\n",
       "Residuals 27 8331.921  308.5897       NA           NA"
      ]
     },
     "metadata": {},
     "output_type": "display_data"
    }
   ],
   "source": [
    "taycan = read.csv(\"Porsche Taycan Data.csv\")\n",
    "\n",
    "attach(taycan)\n",
    "\n",
    "model1 = lm(Price ~ Age + Miles)\n",
    "cat(\"Summary of Model 1:\\n\")\n",
    "summary(model1)\n",
    "\n",
    "cat(\"\\n\\nAnova of Model 1:\\n\")\n",
    "anova(model1)"
   ]
  },
  {
   "cell_type": "markdown",
   "id": "a939981e-307b-4f33-a11d-682a19b5d1d8",
   "metadata": {},
   "source": [
    "### Part (b):"
   ]
  },
  {
   "cell_type": "markdown",
   "id": "3f8add0b-4b9a-4ffb-9f9e-2097879d75f3",
   "metadata": {},
   "source": [
    "Find the residual for the first car in your sample. Show the actual computation for this part, based on your prediction equation and the data for that car."
   ]
  },
  {
   "cell_type": "code",
   "execution_count": 3,
   "id": "89c96f2f-9ab6-479b-9184-5a929974242d",
   "metadata": {},
   "outputs": [
    {
     "name": "stdout",
     "output_type": "stream",
     "text": [
      "The residual for the first car in the sample is -13.64887"
     ]
    }
   ],
   "source": [
    "intercept = 125\n",
    "beta_age = -5.7944\n",
    "beta_miles = -1.3081\n",
    "\n",
    "age1 = Age[1]\n",
    "miles1 = Miles[1]\n",
    "price1 = Price[1]\n",
    "\n",
    "pred1 = intercept + beta_age * age1 + beta_miles * miles1\n",
    "\n",
    "resid1 = price1 - pred1\n",
    "cat(\"The residual for the first car in the sample is\", resid1)"
   ]
  },
  {
   "cell_type": "markdown",
   "id": "d67ff3a8-07a8-440d-b152-9af090dcc8be",
   "metadata": {},
   "source": [
    "### Part (c):"
   ]
  },
  {
   "cell_type": "markdown",
   "id": "5e805849-89e5-4d2c-9374-c1bcb204d875",
   "metadata": {},
   "source": [
    "Assess the importance of each of the predictors in the model—be sure to indicate the specific value(s) from the output you are using to make the assessments. Include hypotheses and conclusions in context."
   ]
  },
  {
   "cell_type": "code",
   "execution_count": 4,
   "id": "956c5dc7-e03e-4748-9b00-f9adf566f2db",
   "metadata": {},
   "outputs": [
    {
     "data": {
      "text/html": [
       "<table class=\"dataframe\">\n",
       "<caption>A matrix: 3 × 4 of type dbl</caption>\n",
       "<thead>\n",
       "\t<tr><th></th><th scope=col>Estimate</th><th scope=col>Std. Error</th><th scope=col>t value</th><th scope=col>Pr(&gt;|t|)</th></tr>\n",
       "</thead>\n",
       "<tbody>\n",
       "\t<tr><th scope=row>(Intercept)</th><td>125.000196</td><td>6.6658796</td><td>18.752243</td><td>5.180949e-17</td></tr>\n",
       "\t<tr><th scope=row>Age</th><td> -5.794375</td><td>2.8238724</td><td>-2.051925</td><td>4.999017e-02</td></tr>\n",
       "\t<tr><th scope=row>Miles</th><td> -1.308122</td><td>0.5785309</td><td>-2.261110</td><td>3.201875e-02</td></tr>\n",
       "</tbody>\n",
       "</table>\n"
      ],
      "text/latex": [
       "A matrix: 3 × 4 of type dbl\n",
       "\\begin{tabular}{r|llll}\n",
       "  & Estimate & Std. Error & t value & Pr(>\\textbar{}t\\textbar{})\\\\\n",
       "\\hline\n",
       "\t(Intercept) & 125.000196 & 6.6658796 & 18.752243 & 5.180949e-17\\\\\n",
       "\tAge &  -5.794375 & 2.8238724 & -2.051925 & 4.999017e-02\\\\\n",
       "\tMiles &  -1.308122 & 0.5785309 & -2.261110 & 3.201875e-02\\\\\n",
       "\\end{tabular}\n"
      ],
      "text/markdown": [
       "\n",
       "A matrix: 3 × 4 of type dbl\n",
       "\n",
       "| <!--/--> | Estimate | Std. Error | t value | Pr(&gt;|t|) |\n",
       "|---|---|---|---|---|\n",
       "| (Intercept) | 125.000196 | 6.6658796 | 18.752243 | 5.180949e-17 |\n",
       "| Age |  -5.794375 | 2.8238724 | -2.051925 | 4.999017e-02 |\n",
       "| Miles |  -1.308122 | 0.5785309 | -2.261110 | 3.201875e-02 |\n",
       "\n"
      ],
      "text/plain": [
       "            Estimate   Std. Error t value   Pr(>|t|)    \n",
       "(Intercept) 125.000196 6.6658796  18.752243 5.180949e-17\n",
       "Age          -5.794375 2.8238724  -2.051925 4.999017e-02\n",
       "Miles        -1.308122 0.5785309  -2.261110 3.201875e-02"
      ]
     },
     "metadata": {},
     "output_type": "display_data"
    }
   ],
   "source": [
    "coef(summary(model1))"
   ]
  },
  {
   "cell_type": "markdown",
   "id": "d6bd74d0-9db2-41ac-bb12-37960f546ef7",
   "metadata": {},
   "source": [
    "<span style=\"color: blue;\">Hypotheses for each predictor:<span>\n",
    "\n",
    "<span style=\"color: blue;\">H0: beta j = 0 (no effect on car price)<span>\n",
    "\n",
    "<span style=\"color: blue;\">Ha: beta j not equal 0 (price depends on predictor)<span>\n",
    "\n",
    "<span style=\"color: blue;\">Age: Estimate = -5.79437, t = -2.05, p = 0.050. Since p is about 0.05, Age is borderline significant. Holding miles constant, each extra year lowers price by about 5794 dollars.<span>\n",
    "\n",
    "<span style=\"color: blue;\">Miles: Estimate = -1.31, t = -2.26, p = 0.032. Since p < 0.05, Miles is significant. Each extra 1000 miles lowers price by about 1308 dollars.<span>\n",
    "\n",
    "<span style=\"color: blue;\">Conclusion: Both predictors are important. Age is only marginally significant, while Miles has a clearer negative effect on price.<span>"
   ]
  },
  {
   "cell_type": "markdown",
   "id": "ac379351-2713-48c0-8fab-0e012659506a",
   "metadata": {},
   "source": [
    "### Part (d):"
   ]
  },
  {
   "cell_type": "markdown",
   "id": "279e5629-95ee-4075-ad32-a65eeb594652",
   "metadata": {},
   "source": [
    "Assess the overall effectiveness of this model (with a formal test). Again, be sure to include hypotheses and the specific value(s) you are using from the output to reach a conclusion."
   ]
  },
  {
   "cell_type": "code",
   "execution_count": 5,
   "id": "ea5626fc-81d3-4558-a11f-2db2183abb1b",
   "metadata": {},
   "outputs": [
    {
     "data": {
      "text/html": [
       "<table class=\"dataframe\">\n",
       "<caption>A anova: 3 × 5</caption>\n",
       "<thead>\n",
       "\t<tr><th></th><th scope=col>Df</th><th scope=col>Sum Sq</th><th scope=col>Mean Sq</th><th scope=col>F value</th><th scope=col>Pr(&gt;F)</th></tr>\n",
       "\t<tr><th></th><th scope=col>&lt;int&gt;</th><th scope=col>&lt;dbl&gt;</th><th scope=col>&lt;dbl&gt;</th><th scope=col>&lt;dbl&gt;</th><th scope=col>&lt;dbl&gt;</th></tr>\n",
       "</thead>\n",
       "<tbody>\n",
       "\t<tr><th scope=row>Age</th><td> 1</td><td>7731.301</td><td>7731.3013</td><td>25.05366</td><td>3.001987e-05</td></tr>\n",
       "\t<tr><th scope=row>Miles</th><td> 1</td><td>1577.702</td><td>1577.7017</td><td> 5.11262</td><td>3.201875e-02</td></tr>\n",
       "\t<tr><th scope=row>Residuals</th><td>27</td><td>8331.921</td><td> 308.5897</td><td>      NA</td><td>          NA</td></tr>\n",
       "</tbody>\n",
       "</table>\n"
      ],
      "text/latex": [
       "A anova: 3 × 5\n",
       "\\begin{tabular}{r|lllll}\n",
       "  & Df & Sum Sq & Mean Sq & F value & Pr(>F)\\\\\n",
       "  & <int> & <dbl> & <dbl> & <dbl> & <dbl>\\\\\n",
       "\\hline\n",
       "\tAge &  1 & 7731.301 & 7731.3013 & 25.05366 & 3.001987e-05\\\\\n",
       "\tMiles &  1 & 1577.702 & 1577.7017 &  5.11262 & 3.201875e-02\\\\\n",
       "\tResiduals & 27 & 8331.921 &  308.5897 &       NA &           NA\\\\\n",
       "\\end{tabular}\n"
      ],
      "text/markdown": [
       "\n",
       "A anova: 3 × 5\n",
       "\n",
       "| <!--/--> | Df &lt;int&gt; | Sum Sq &lt;dbl&gt; | Mean Sq &lt;dbl&gt; | F value &lt;dbl&gt; | Pr(&gt;F) &lt;dbl&gt; |\n",
       "|---|---|---|---|---|---|\n",
       "| Age |  1 | 7731.301 | 7731.3013 | 25.05366 | 3.001987e-05 |\n",
       "| Miles |  1 | 1577.702 | 1577.7017 |  5.11262 | 3.201875e-02 |\n",
       "| Residuals | 27 | 8331.921 |  308.5897 |       NA |           NA |\n",
       "\n"
      ],
      "text/plain": [
       "          Df Sum Sq   Mean Sq   F value  Pr(>F)      \n",
       "Age        1 7731.301 7731.3013 25.05366 3.001987e-05\n",
       "Miles      1 1577.702 1577.7017  5.11262 3.201875e-02\n",
       "Residuals 27 8331.921  308.5897       NA           NA"
      ]
     },
     "metadata": {},
     "output_type": "display_data"
    }
   ],
   "source": [
    "anova(model1)"
   ]
  },
  {
   "cell_type": "markdown",
   "id": "dbc62e4f-fc47-441b-ad7f-4c28bde8428c",
   "metadata": {},
   "source": [
    "<span style=\"color: blue;\">\n",
    "Hypotheses:\n",
    "\n",
    "H0: Age and Miles have no effect on car price (all slopes equal 0)\n",
    "\n",
    "Ha: At least one predictor affects car price\n",
    "\n",
    "Test statistic and p-value:\n",
    "\n",
    "Overall F = 25.05\n",
    "\n",
    "p-value = 0.00003\n",
    "\n",
    "Conclusion:\n",
    "Since the p-value is much smaller than 0.05, we reject H0. The model with Age and Miles is statistically significant, so these predictors together explain a meaningful amount of variation in used Taycan prices.    \n",
    "<span>"
   ]
  },
  {
   "cell_type": "markdown",
   "id": "934cd427-3ccd-4d9f-afce-ea6a92e67dce",
   "metadata": {},
   "source": [
    "<br><br><br><br><br><br>"
   ]
  },
  {
   "cell_type": "markdown",
   "id": "52595ea3-fab5-4786-bd73-cde07bc8a10f",
   "metadata": {},
   "source": [
    "## Model #2: Polynomial models"
   ]
  },
  {
   "cell_type": "markdown",
   "id": "1259d21b-6cf8-4cf1-941e-9475cb8cd93d",
   "metadata": {},
   "source": [
    "One of the drawbacks of the linear model in the original project was the \"free car\" phenomenon that often occurred where the predicted price is eventually negative as the line decreases for older cars. Let’s see if adding one or more polynomial terms might help with this"
   ]
  },
  {
   "cell_type": "markdown",
   "id": "b101edec-4ed2-4a25-8c69-97b49afe4c52",
   "metadata": {},
   "source": [
    "### Part (a):"
   ]
  },
  {
   "cell_type": "markdown",
   "id": "fe71bf44-51ce-414f-834b-19eda1e2649c",
   "metadata": {},
   "source": [
    "Fit a quadratic model using age to predict price. Give the prediction equation and show a scatterplot of the data with the quadratic fit drawn on it."
   ]
  },
  {
   "cell_type": "code",
   "execution_count": 6,
   "id": "0c5b6024-4d62-417c-b6dc-75dd2a37f55b",
   "metadata": {},
   "outputs": [
    {
     "data": {
      "text/plain": [
       "\n",
       "Call:\n",
       "lm(formula = Price ~ Age + I(Age^2))\n",
       "\n",
       "Residuals:\n",
       "    Min      1Q  Median      3Q     Max \n",
       "-24.758 -12.283  -4.333   6.885  53.201 \n",
       "\n",
       "Coefficients:\n",
       "            Estimate Std. Error t value Pr(>|t|)    \n",
       "(Intercept) 127.7894    14.4319   8.855  1.8e-09 ***\n",
       "Age         -14.3093    11.0427  -1.296    0.206    \n",
       "I(Age^2)      0.6545     1.7272   0.379    0.708    \n",
       "---\n",
       "Signif. codes:  0 '***' 0.001 '**' 0.01 '*' 0.05 '.' 0.1 ' ' 1\n",
       "\n",
       "Residual standard error: 19.11 on 27 degrees of freedom\n",
       "Multiple R-squared:  0.4412,\tAdjusted R-squared:  0.3998 \n",
       "F-statistic: 10.66 on 2 and 27 DF,  p-value: 0.0003869\n"
      ]
     },
     "metadata": {},
     "output_type": "display_data"
    },
    {
     "data": {
      "text/html": [
       "<table class=\"dataframe\">\n",
       "<caption>A anova: 3 × 5</caption>\n",
       "<thead>\n",
       "\t<tr><th></th><th scope=col>Df</th><th scope=col>Sum Sq</th><th scope=col>Mean Sq</th><th scope=col>F value</th><th scope=col>Pr(&gt;F)</th></tr>\n",
       "\t<tr><th></th><th scope=col>&lt;int&gt;</th><th scope=col>&lt;dbl&gt;</th><th scope=col>&lt;dbl&gt;</th><th scope=col>&lt;dbl&gt;</th><th scope=col>&lt;dbl&gt;</th></tr>\n",
       "</thead>\n",
       "<tbody>\n",
       "\t<tr><th scope=row>Age</th><td> 1</td><td>7731.30128</td><td>7731.30128</td><td>21.1769303</td><td>0.000088789</td></tr>\n",
       "\t<tr><th scope=row>I(Age^2)</th><td> 1</td><td>  52.42764</td><td>  52.42764</td><td> 0.1436054</td><td>0.707686556</td></tr>\n",
       "\t<tr><th scope=row>Residuals</th><td>27</td><td>9857.19514</td><td> 365.08130</td><td>        NA</td><td>         NA</td></tr>\n",
       "</tbody>\n",
       "</table>\n"
      ],
      "text/latex": [
       "A anova: 3 × 5\n",
       "\\begin{tabular}{r|lllll}\n",
       "  & Df & Sum Sq & Mean Sq & F value & Pr(>F)\\\\\n",
       "  & <int> & <dbl> & <dbl> & <dbl> & <dbl>\\\\\n",
       "\\hline\n",
       "\tAge &  1 & 7731.30128 & 7731.30128 & 21.1769303 & 0.000088789\\\\\n",
       "\tI(Age\\textasciicircum{}2) &  1 &   52.42764 &   52.42764 &  0.1436054 & 0.707686556\\\\\n",
       "\tResiduals & 27 & 9857.19514 &  365.08130 &         NA &          NA\\\\\n",
       "\\end{tabular}\n"
      ],
      "text/markdown": [
       "\n",
       "A anova: 3 × 5\n",
       "\n",
       "| <!--/--> | Df &lt;int&gt; | Sum Sq &lt;dbl&gt; | Mean Sq &lt;dbl&gt; | F value &lt;dbl&gt; | Pr(&gt;F) &lt;dbl&gt; |\n",
       "|---|---|---|---|---|---|\n",
       "| Age |  1 | 7731.30128 | 7731.30128 | 21.1769303 | 0.000088789 |\n",
       "| I(Age^2) |  1 |   52.42764 |   52.42764 |  0.1436054 | 0.707686556 |\n",
       "| Residuals | 27 | 9857.19514 |  365.08130 |         NA |          NA |\n",
       "\n"
      ],
      "text/plain": [
       "          Df Sum Sq     Mean Sq    F value    Pr(>F)     \n",
       "Age        1 7731.30128 7731.30128 21.1769303 0.000088789\n",
       "I(Age^2)   1   52.42764   52.42764  0.1436054 0.707686556\n",
       "Residuals 27 9857.19514  365.08130         NA          NA"
      ]
     },
     "metadata": {},
     "output_type": "display_data"
    },
    {
     "data": {
      "image/png": "[encoded data removed]",
      "text/plain": [
       "plot without title"
      ]
     },
     "metadata": {
      "image/png": {
       "height": 420,
       "width": 420
      }
     },
     "output_type": "display_data"
    }
   ],
   "source": [
    "model2_quad = lm(Price ~ Age + I(Age^2))\n",
    "summary(model2_quad)\n",
    "anova(model2_quad)\n",
    "\n",
    "library(ggplot2)\n",
    "ggplot(taycan, aes(x=Age, y=Price)) + geom_point() + \n",
    "stat_smooth(method=\"lm\", formula = y ~ poly(x,2), se=TRUE)"
   ]
  },
  {
   "cell_type": "markdown",
   "id": "61d23657-dd44-46ee-8f81-573fc1e0abd7",
   "metadata": {},
   "source": [
    "### Part (b):"
   ]
  },
  {
   "cell_type": "markdown",
   "id": "1478f712-2e34-4b93-9757-43d81f8d25e7",
   "metadata": {},
   "source": [
    "Does the quadratic model allow for some age where a car has a zero or negative predicted price? Justify your answer using a calculation or graph."
   ]
  },
  {
   "cell_type": "code",
   "execution_count": 7,
   "id": "170d977e-d2e0-4e70-80b9-7d523eff1530",
   "metadata": {},
   "outputs": [
    {
     "data": {
      "text/html": [
       "<style>\n",
       ".list-inline {list-style: none; margin:0; padding: 0}\n",
       ".list-inline>li {display: inline-block}\n",
       ".list-inline>li:not(:last-child)::after {content: \"\\00b7\"; padding: 0 .5ex}\n",
       "</style>\n",
       "<ol class=list-inline><li>10.9307429190892+8.70366555976451i</li><li>10.9307429190892-8.70366555976451i</li></ol>\n"
      ],
      "text/latex": [
       "\\begin{enumerate*}\n",
       "\\item 10.9307429190892+8.70366555976451i\n",
       "\\item 10.9307429190892-8.70366555976451i\n",
       "\\end{enumerate*}\n"
      ],
      "text/markdown": [
       "1. 10.9307429190892+8.70366555976451i\n",
       "2. 10.9307429190892-8.70366555976451i\n",
       "\n",
       "\n"
      ],
      "text/plain": [
       "[1] 10.93074+8.703666i 10.93074-8.703666i"
      ]
     },
     "metadata": {},
     "output_type": "display_data"
    },
    {
     "data": {
      "text/html": [],
      "text/latex": [],
      "text/markdown": [],
      "text/plain": [
       "numeric(0)"
      ]
     },
     "metadata": {},
     "output_type": "display_data"
    }
   ],
   "source": [
    "coefs2 = coef(model2_quad)\n",
    "a = coefs2[\"I(Age^2)\"]\n",
    "b = coefs2[\"Age\"]\n",
    "c = coefs2[\"(Intercept)\"]\n",
    "roots = polyroot(c(c, b, a))\n",
    "roots_real = roots[abs(Im(roots)) < 1e-8]\n",
    "roots\n",
    "as.numeric(roots_real)"
   ]
  },
  {
   "cell_type": "markdown",
   "id": "c7c5a566-7d91-4011-b6bd-5dcd4b143a8e",
   "metadata": {},
   "source": [
    "<span style=\"color: blue;\">The quadratic model has no real solutions for when the predicted price equals zero. The roots of the equation are 10.93 ± 8.70i, which are complex numbers. Since age can't be complex, this means the quadratic curve never crosses the x axis. Thus, according to this model, the predicted car price never reaches zero.<span>"
   ]
  },
  {
   "cell_type": "markdown",
   "id": "6703563b-63bd-43b5-ab78-a92b15ee2795",
   "metadata": {},
   "source": [
    "### Part (c):"
   ]
  },
  {
   "cell_type": "markdown",
   "id": "1fe1f62c-55e0-4dc1-a1a8-ad03bcdbb7aa",
   "metadata": {},
   "source": [
    "What happens in the quadratic model for cars that are very old? Can you think of a plausible explanation for this, or is it a flaw of the quadratic model?"
   ]
  },
  {
   "cell_type": "code",
   "execution_count": 8,
   "id": "1994fb57-592f-4f08-9c25-cd0f2213e1ab",
   "metadata": {},
   "outputs": [
    {
     "data": {
      "text/html": [
       "<table class=\"dataframe\">\n",
       "<caption>A data.frame: 3 × 2</caption>\n",
       "<thead>\n",
       "\t<tr><th></th><th scope=col>Age</th><th scope=col>Predicted</th></tr>\n",
       "\t<tr><th></th><th scope=col>&lt;dbl&gt;</th><th scope=col>&lt;dbl&gt;</th></tr>\n",
       "</thead>\n",
       "<tbody>\n",
       "\t<tr><th scope=row>1</th><td>  0</td><td>  127.78940</td></tr>\n",
       "\t<tr><th scope=row>201</th><td>200</td><td>23447.60473</td></tr>\n",
       "\t<tr><th scope=row>12</th><td> 11</td><td>   49.58715</td></tr>\n",
       "</tbody>\n",
       "</table>\n"
      ],
      "text/latex": [
       "A data.frame: 3 × 2\n",
       "\\begin{tabular}{r|ll}\n",
       "  & Age & Predicted\\\\\n",
       "  & <dbl> & <dbl>\\\\\n",
       "\\hline\n",
       "\t1 &   0 &   127.78940\\\\\n",
       "\t201 & 200 & 23447.60473\\\\\n",
       "\t12 &  11 &    49.58715\\\\\n",
       "\\end{tabular}\n"
      ],
      "text/markdown": [
       "\n",
       "A data.frame: 3 × 2\n",
       "\n",
       "| <!--/--> | Age &lt;dbl&gt; | Predicted &lt;dbl&gt; |\n",
       "|---|---|---|\n",
       "| 1 |   0 |   127.78940 |\n",
       "| 201 | 200 | 23447.60473 |\n",
       "| 12 |  11 |    49.58715 |\n",
       "\n"
      ],
      "text/plain": [
       "    Age Predicted  \n",
       "1     0   127.78940\n",
       "201 200 23447.60473\n",
       "12   11    49.58715"
      ]
     },
     "metadata": {},
     "output_type": "display_data"
    }
   ],
   "source": [
    "newages = data.frame(Age = seq(0, 200, by=1))\n",
    "newpreds = predict(model2_quad, newdata=newages)\n",
    "data.frame(Age=newages$Age, Predicted=newpreds)[c(1, length(newpreds), \n",
    "                                                which.min(newpreds)), ]"
   ]
  },
  {
   "cell_type": "markdown",
   "id": "88351fb4-4912-4ce1-a7b7-8d7b5bc00a74",
   "metadata": {},
   "source": [
    "<span style=\"color: blue;\">For very old cars, the quadratic model produces unrealistic predictions. For example, at Age = 200 years the predicted price is over 23 million dollars. Obviously, used cars can't appreciate that much as they get older. This shows that the quadratic model bends upward as age increases, which is a flaw of the quadratic model.<span>"
   ]
  },
  {
   "cell_type": "markdown",
   "id": "6ebfb782-257d-4455-9065-b0f59c307e36",
   "metadata": {},
   "source": [
    "### Part (d):"
   ]
  },
  {
   "cell_type": "markdown",
   "id": "508de6f2-8773-4470-a1d2-34c32e06826d",
   "metadata": {},
   "source": [
    "Would the fit improve significantly if you also included a cubic term? Justify your answer."
   ]
  },
  {
   "cell_type": "code",
   "execution_count": 9,
   "id": "0f777635-f161-43f6-bcd7-6c72835d6994",
   "metadata": {},
   "outputs": [
    {
     "data": {
      "text/plain": [
       "\n",
       "Call:\n",
       "lm(formula = Price ~ poly(Age, 3, raw = TRUE), data = taycan)\n",
       "\n",
       "Residuals:\n",
       "   Min     1Q Median     3Q    Max \n",
       "-25.76 -12.27  -5.43   5.93  48.03 \n",
       "\n",
       "Coefficients:\n",
       "                          Estimate Std. Error t value Pr(>|t|)   \n",
       "(Intercept)                 95.146     27.639   3.442  0.00196 **\n",
       "poly(Age, 3, raw = TRUE)1   29.993     33.967   0.883  0.38533   \n",
       "poly(Age, 3, raw = TRUE)2  -15.381     11.772  -1.307  0.20280   \n",
       "poly(Age, 3, raw = TRUE)3    1.669      1.212   1.377  0.18038   \n",
       "---\n",
       "Signif. codes:  0 '***' 0.001 '**' 0.01 '*' 0.05 '.' 0.1 ' ' 1\n",
       "\n",
       "Residual standard error: 18.8 on 26 degrees of freedom\n",
       "Multiple R-squared:  0.4792,\tAdjusted R-squared:  0.4191 \n",
       "F-statistic: 7.974 on 3 and 26 DF,  p-value: 0.0006234\n"
      ]
     },
     "metadata": {},
     "output_type": "display_data"
    },
    {
     "data": {
      "text/html": [
       "<table class=\"dataframe\">\n",
       "<caption>A anova: 2 × 6</caption>\n",
       "<thead>\n",
       "\t<tr><th></th><th scope=col>Res.Df</th><th scope=col>RSS</th><th scope=col>Df</th><th scope=col>Sum of Sq</th><th scope=col>F</th><th scope=col>Pr(&gt;F)</th></tr>\n",
       "\t<tr><th></th><th scope=col>&lt;dbl&gt;</th><th scope=col>&lt;dbl&gt;</th><th scope=col>&lt;dbl&gt;</th><th scope=col>&lt;dbl&gt;</th><th scope=col>&lt;dbl&gt;</th><th scope=col>&lt;dbl&gt;</th></tr>\n",
       "</thead>\n",
       "<tbody>\n",
       "\t<tr><th scope=row>1</th><td>27</td><td>9857.195</td><td>NA</td><td>      NA</td><td>      NA</td><td>       NA</td></tr>\n",
       "\t<tr><th scope=row>2</th><td>26</td><td>9187.576</td><td> 1</td><td>669.6191</td><td>1.894961</td><td>0.1803833</td></tr>\n",
       "</tbody>\n",
       "</table>\n"
      ],
      "text/latex": [
       "A anova: 2 × 6\n",
       "\\begin{tabular}{r|llllll}\n",
       "  & Res.Df & RSS & Df & Sum of Sq & F & Pr(>F)\\\\\n",
       "  & <dbl> & <dbl> & <dbl> & <dbl> & <dbl> & <dbl>\\\\\n",
       "\\hline\n",
       "\t1 & 27 & 9857.195 & NA &       NA &       NA &        NA\\\\\n",
       "\t2 & 26 & 9187.576 &  1 & 669.6191 & 1.894961 & 0.1803833\\\\\n",
       "\\end{tabular}\n"
      ],
      "text/markdown": [
       "\n",
       "A anova: 2 × 6\n",
       "\n",
       "| <!--/--> | Res.Df &lt;dbl&gt; | RSS &lt;dbl&gt; | Df &lt;dbl&gt; | Sum of Sq &lt;dbl&gt; | F &lt;dbl&gt; | Pr(&gt;F) &lt;dbl&gt; |\n",
       "|---|---|---|---|---|---|---|\n",
       "| 1 | 27 | 9857.195 | NA |       NA |       NA |        NA |\n",
       "| 2 | 26 | 9187.576 |  1 | 669.6191 | 1.894961 | 0.1803833 |\n",
       "\n"
      ],
      "text/plain": [
       "  Res.Df RSS      Df Sum of Sq F        Pr(>F)   \n",
       "1 27     9857.195 NA       NA        NA        NA\n",
       "2 26     9187.576  1 669.6191  1.894961 0.1803833"
      ]
     },
     "metadata": {},
     "output_type": "display_data"
    }
   ],
   "source": [
    "model2_cubic = lm(Price ~ poly(Age,3, raw=TRUE), data=taycan)\n",
    "summary(model2_cubic)\n",
    "anova(model2_quad, model2_cubic)"
   ]
  },
  {
   "cell_type": "markdown",
   "id": "02bfe2b8-0f7a-40cd-93e4-a5f80de55eb3",
   "metadata": {},
   "source": [
    "<span style=\"color: blue;\">The coefficient for the cubic term has a p-value of 0.18, which is above the significance level of 0.05. The ANOVA comparison of the quadratic versus cubic model also gives F=1.89 with a p-value 0.18, which means that the cubic term doesn't improve the fit.<span>"
   ]
  },
  {
   "cell_type": "markdown",
   "id": "e0b3cd1b-c7e3-41a9-b53a-66553c79a1d0",
   "metadata": {},
   "source": [
    "<br><br><br><br><br><br>"
   ]
  },
  {
   "cell_type": "markdown",
   "id": "a53a0a7f-99b9-4c70-a100-c4d79776bd79",
   "metadata": {},
   "source": [
    "## Model #3: Complete second-order model"
   ]
  },
  {
   "cell_type": "markdown",
   "id": "1c5b5cbb-7e07-4beb-8803-70a2e1d4704d",
   "metadata": {},
   "source": [
    "### Part (a):"
   ]
  },
  {
   "cell_type": "markdown",
   "id": "388ba164-d204-4d86-bb73-76b2f4545d84",
   "metadata": {},
   "source": [
    "Write down the complete second-order model for predicting a used car price based on age and miles. Note: This is before estimating the fit."
   ]
  },
  {
   "cell_type": "markdown",
   "id": "a82a5623-21e3-40d7-9aa1-17243c63497e",
   "metadata": {},
   "source": [
    "<span style=\"color: blue;\">\n",
    "$$ \\text{Price} = \\beta_{0} \n",
    "+ \\beta_{1}\\,\\text{Age} \n",
    "+ \\beta_{2}\\,\\text{Miles} \n",
    "+ \\beta_{3}\\,\\text{Age}^{2} \n",
    "+ \\beta_{4}\\,\\text{Miles}^{2} \n",
    "+ \\beta_{5}\\,(\\text{Age}\\times\\text{Miles}) \n",
    "+ \\varepsilon $$\n",
    "<span>"
   ]
  },
  {
   "cell_type": "markdown",
   "id": "845a7066-5e20-4f3b-9e15-d9f5cb86e931",
   "metadata": {},
   "source": [
    "### Part (b):"
   ]
  },
  {
   "cell_type": "markdown",
   "id": "edfd7254-84f1-4708-972d-73b711217aac",
   "metadata": {},
   "source": [
    "Use R to estimate the coefficients in this model. Include the summary and anova output and write down the prediction equation."
   ]
  },
  {
   "cell_type": "code",
   "execution_count": 10,
   "id": "f2ec33d5-1fd3-4d17-95a6-c37e517e1dea",
   "metadata": {},
   "outputs": [
    {
     "data": {
      "text/plain": [
       "\n",
       "Call:\n",
       "lm(formula = Price ~ Age + Miles + I(Age^2) + I(Miles^2) + I(Age * \n",
       "    Miles), data = taycan)\n",
       "\n",
       "Residuals:\n",
       "    Min      1Q  Median      3Q     Max \n",
       "-21.506 -13.883  -0.496   6.380  41.935 \n",
       "\n",
       "Coefficients:\n",
       "                Estimate Std. Error t value Pr(>|t|)    \n",
       "(Intercept)    136.28836   13.35415  10.206  3.3e-10 ***\n",
       "Age             -6.77467   10.75455  -0.630   0.5347    \n",
       "Miles           -3.79760    1.42903  -2.657   0.0138 *  \n",
       "I(Age^2)        -0.02713    2.65815  -0.010   0.9919    \n",
       "I(Miles^2)       0.07626    0.07912   0.964   0.3447    \n",
       "I(Age * Miles)   0.13825    0.70175   0.197   0.8455    \n",
       "---\n",
       "Signif. codes:  0 '***' 0.001 '**' 0.01 '*' 0.05 '.' 0.1 ' ' 1\n",
       "\n",
       "Residual standard error: 17.26 on 24 degrees of freedom\n",
       "Multiple R-squared:  0.5945,\tAdjusted R-squared:   0.51 \n",
       "F-statistic: 7.037 on 5 and 24 DF,  p-value: 0.000355\n"
      ]
     },
     "metadata": {},
     "output_type": "display_data"
    },
    {
     "data": {
      "text/html": [
       "<table class=\"dataframe\">\n",
       "<caption>A anova: 6 × 5</caption>\n",
       "<thead>\n",
       "\t<tr><th></th><th scope=col>Df</th><th scope=col>Sum Sq</th><th scope=col>Mean Sq</th><th scope=col>F value</th><th scope=col>Pr(&gt;F)</th></tr>\n",
       "\t<tr><th></th><th scope=col>&lt;int&gt;</th><th scope=col>&lt;dbl&gt;</th><th scope=col>&lt;dbl&gt;</th><th scope=col>&lt;dbl&gt;</th><th scope=col>&lt;dbl&gt;</th></tr>\n",
       "</thead>\n",
       "<tbody>\n",
       "\t<tr><th scope=row>Age</th><td> 1</td><td>7731.30128</td><td>7731.30128</td><td>25.93918791</td><td>3.284252e-05</td></tr>\n",
       "\t<tr><th scope=row>Miles</th><td> 1</td><td>1577.70166</td><td>1577.70166</td><td> 5.29332622</td><td>3.040228e-02</td></tr>\n",
       "\t<tr><th scope=row>I(Age^2)</th><td> 1</td><td> 137.37286</td><td> 137.37286</td><td> 0.46089789</td><td>5.036994e-01</td></tr>\n",
       "\t<tr><th scope=row>I(Miles^2)</th><td> 1</td><td>1029.66333</td><td>1029.66333</td><td> 3.45460997</td><td>7.538218e-02</td></tr>\n",
       "\t<tr><th scope=row>I(Age * Miles)</th><td> 1</td><td>  11.56805</td><td>  11.56805</td><td> 0.03881182</td><td>8.454808e-01</td></tr>\n",
       "\t<tr><th scope=row>Residuals</th><td>24</td><td>7153.31688</td><td> 298.05487</td><td>         NA</td><td>          NA</td></tr>\n",
       "</tbody>\n",
       "</table>\n"
      ],
      "text/latex": [
       "A anova: 6 × 5\n",
       "\\begin{tabular}{r|lllll}\n",
       "  & Df & Sum Sq & Mean Sq & F value & Pr(>F)\\\\\n",
       "  & <int> & <dbl> & <dbl> & <dbl> & <dbl>\\\\\n",
       "\\hline\n",
       "\tAge &  1 & 7731.30128 & 7731.30128 & 25.93918791 & 3.284252e-05\\\\\n",
       "\tMiles &  1 & 1577.70166 & 1577.70166 &  5.29332622 & 3.040228e-02\\\\\n",
       "\tI(Age\\textasciicircum{}2) &  1 &  137.37286 &  137.37286 &  0.46089789 & 5.036994e-01\\\\\n",
       "\tI(Miles\\textasciicircum{}2) &  1 & 1029.66333 & 1029.66333 &  3.45460997 & 7.538218e-02\\\\\n",
       "\tI(Age * Miles) &  1 &   11.56805 &   11.56805 &  0.03881182 & 8.454808e-01\\\\\n",
       "\tResiduals & 24 & 7153.31688 &  298.05487 &          NA &           NA\\\\\n",
       "\\end{tabular}\n"
      ],
      "text/markdown": [
       "\n",
       "A anova: 6 × 5\n",
       "\n",
       "| <!--/--> | Df &lt;int&gt; | Sum Sq &lt;dbl&gt; | Mean Sq &lt;dbl&gt; | F value &lt;dbl&gt; | Pr(&gt;F) &lt;dbl&gt; |\n",
       "|---|---|---|---|---|---|\n",
       "| Age |  1 | 7731.30128 | 7731.30128 | 25.93918791 | 3.284252e-05 |\n",
       "| Miles |  1 | 1577.70166 | 1577.70166 |  5.29332622 | 3.040228e-02 |\n",
       "| I(Age^2) |  1 |  137.37286 |  137.37286 |  0.46089789 | 5.036994e-01 |\n",
       "| I(Miles^2) |  1 | 1029.66333 | 1029.66333 |  3.45460997 | 7.538218e-02 |\n",
       "| I(Age * Miles) |  1 |   11.56805 |   11.56805 |  0.03881182 | 8.454808e-01 |\n",
       "| Residuals | 24 | 7153.31688 |  298.05487 |          NA |           NA |\n",
       "\n"
      ],
      "text/plain": [
       "               Df Sum Sq     Mean Sq    F value     Pr(>F)      \n",
       "Age             1 7731.30128 7731.30128 25.93918791 3.284252e-05\n",
       "Miles           1 1577.70166 1577.70166  5.29332622 3.040228e-02\n",
       "I(Age^2)        1  137.37286  137.37286  0.46089789 5.036994e-01\n",
       "I(Miles^2)      1 1029.66333 1029.66333  3.45460997 7.538218e-02\n",
       "I(Age * Miles)  1   11.56805   11.56805  0.03881182 8.454808e-01\n",
       "Residuals      24 7153.31688  298.05487          NA           NA"
      ]
     },
     "metadata": {},
     "output_type": "display_data"
    },
    {
     "data": {
      "text/html": [
       "<style>\n",
       ".dl-inline {width: auto; margin:0; padding: 0}\n",
       ".dl-inline>dt, .dl-inline>dd {float: none; width: auto; display: inline-block}\n",
       ".dl-inline>dt::after {content: \":\\0020\"; padding-right: .5ex}\n",
       ".dl-inline>dt:not(:first-of-type) {padding-left: .5ex}\n",
       "</style><dl class=dl-inline><dt>(Intercept)</dt><dd>136.288359493099</dd><dt>Age</dt><dd>-6.77466522951835</dd><dt>Miles</dt><dd>-3.79759607850764</dd><dt>I(Age^2)</dt><dd>-0.0271258768695204</dd><dt>I(Miles^2)</dt><dd>0.0762612373502088</dd><dt>I(Age * Miles)</dt><dd>0.138249718012795</dd></dl>\n"
      ],
      "text/latex": [
       "\\begin{description*}\n",
       "\\item[(Intercept)] 136.288359493099\n",
       "\\item[Age] -6.77466522951835\n",
       "\\item[Miles] -3.79759607850764\n",
       "\\item[I(Age\\textbackslash{}textasciicircum\\{\\}2)] -0.0271258768695204\n",
       "\\item[I(Miles\\textbackslash{}textasciicircum\\{\\}2)] 0.0762612373502088\n",
       "\\item[I(Age * Miles)] 0.138249718012795\n",
       "\\end{description*}\n"
      ],
      "text/markdown": [
       "(Intercept)\n",
       ":   136.288359493099Age\n",
       ":   -6.77466522951835Miles\n",
       ":   -3.79759607850764I(Age^2)\n",
       ":   -0.0271258768695204I(Miles^2)\n",
       ":   0.0762612373502088I(Age * Miles)\n",
       ":   0.138249718012795\n",
       "\n"
      ],
      "text/plain": [
       "   (Intercept)            Age          Miles       I(Age^2)     I(Miles^2) \n",
       "  136.28835949    -6.77466523    -3.79759608    -0.02712588     0.07626124 \n",
       "I(Age * Miles) \n",
       "    0.13824972 "
      ]
     },
     "metadata": {},
     "output_type": "display_data"
    }
   ],
   "source": [
    "model3 = lm(Price ~ Age + Miles + I(Age^2) + I(Miles^2) + I(Age*Miles), \n",
    "            data=taycan)\n",
    "summary(model3)\n",
    "anova(model3)\n",
    "coef(model3)"
   ]
  },
  {
   "cell_type": "markdown",
   "id": "9586aa5d-379b-4aab-a8cf-d54ddc60b06d",
   "metadata": {},
   "source": [
    "<span style=\"color: blue;\">$\\widehat{Price} = 136.29 - 6.77\\,Age - 3.80\\,Miles - 0.027\\,Age^2 + 0.076\\,Miles^2 + 0.138\\,(Age \\times Miles)$<span>"
   ]
  },
  {
   "cell_type": "markdown",
   "id": "b0963e19-086d-4128-848c-baa8a5a7f835",
   "metadata": {},
   "source": [
    "### Part (c):"
   ]
  },
  {
   "cell_type": "markdown",
   "id": "96d2914f-0c22-4c71-ac5c-7e695bff14f9",
   "metadata": {},
   "source": [
    "Show the details of a nested F-test for just the second-order terms (quadratic and interaction) that involve miles from this model. Include whatever output you need to get the information to complete the test. Be sure to show all the usual details (hypotheses, test statistic, p-value and an informative conclusion in context). In particular, show how the test statistic is computed by putting values into a formula."
   ]
  },
  {
   "cell_type": "code",
   "execution_count": 11,
   "id": "a634c3ce-cb24-4b9c-aa5c-f828e0c7e337",
   "metadata": {},
   "outputs": [
    {
     "name": "stdout",
     "output_type": "stream",
     "text": [
      "=== ANOVA Comparison (Reduced vs Full) ===\n"
     ]
    },
    {
     "data": {
      "text/html": [
       "<table class=\"dataframe\">\n",
       "<caption>A anova: 2 × 6</caption>\n",
       "<thead>\n",
       "\t<tr><th></th><th scope=col>Res.Df</th><th scope=col>RSS</th><th scope=col>Df</th><th scope=col>Sum of Sq</th><th scope=col>F</th><th scope=col>Pr(&gt;F)</th></tr>\n",
       "\t<tr><th></th><th scope=col>&lt;dbl&gt;</th><th scope=col>&lt;dbl&gt;</th><th scope=col>&lt;dbl&gt;</th><th scope=col>&lt;dbl&gt;</th><th scope=col>&lt;dbl&gt;</th><th scope=col>&lt;dbl&gt;</th></tr>\n",
       "</thead>\n",
       "<tbody>\n",
       "\t<tr><th scope=row>1</th><td>26</td><td>8194.548</td><td>NA</td><td>      NA</td><td>      NA</td><td>       NA</td></tr>\n",
       "\t<tr><th scope=row>2</th><td>24</td><td>7153.317</td><td> 2</td><td>1041.231</td><td>1.746711</td><td>0.1957895</td></tr>\n",
       "</tbody>\n",
       "</table>\n"
      ],
      "text/latex": [
       "A anova: 2 × 6\n",
       "\\begin{tabular}{r|llllll}\n",
       "  & Res.Df & RSS & Df & Sum of Sq & F & Pr(>F)\\\\\n",
       "  & <dbl> & <dbl> & <dbl> & <dbl> & <dbl> & <dbl>\\\\\n",
       "\\hline\n",
       "\t1 & 26 & 8194.548 & NA &       NA &       NA &        NA\\\\\n",
       "\t2 & 24 & 7153.317 &  2 & 1041.231 & 1.746711 & 0.1957895\\\\\n",
       "\\end{tabular}\n"
      ],
      "text/markdown": [
       "\n",
       "A anova: 2 × 6\n",
       "\n",
       "| <!--/--> | Res.Df &lt;dbl&gt; | RSS &lt;dbl&gt; | Df &lt;dbl&gt; | Sum of Sq &lt;dbl&gt; | F &lt;dbl&gt; | Pr(&gt;F) &lt;dbl&gt; |\n",
       "|---|---|---|---|---|---|---|\n",
       "| 1 | 26 | 8194.548 | NA |       NA |       NA |        NA |\n",
       "| 2 | 24 | 7153.317 |  2 | 1041.231 | 1.746711 | 0.1957895 |\n",
       "\n"
      ],
      "text/plain": [
       "  Res.Df RSS      Df Sum of Sq F        Pr(>F)   \n",
       "1 26     8194.548 NA       NA        NA        NA\n",
       "2 24     7153.317  2 1041.231  1.746711 0.1957895"
      ]
     },
     "metadata": {},
     "output_type": "display_data"
    },
    {
     "name": "stdout",
     "output_type": "stream",
     "text": [
      "\n",
      "=== Nested F-test Details ===\n",
      "SSE (Reduced) = 8194.548 \n",
      "SSE (Full)    = 7153.317 \n",
      "df (Reduced)  = 26 \n",
      "df (Full)     = 24 \n",
      "Numerator df  = 2 \n",
      "Denominator df= 24 \n",
      "F-statistic   = 1.746711 \n",
      "p-value       = 0.1957895 \n",
      "\n",
      "H0: Beta_Miles^2 = Beta_Age*Miles = 0\n",
      "Ha: At least one of them ≠ 0\n"
     ]
    }
   ],
   "source": [
    "reduced_model <- lm(Price ~ Age + Miles + I(Age^2), data = taycan)\n",
    "\n",
    "model3 <- lm(Price ~ Age + Miles + I(Age^2) + I(Miles^2) + I(Age * Miles), \n",
    "             data = taycan)\n",
    "\n",
    "cat(\"=== ANOVA Comparison (Reduced vs Full) ===\\n\")\n",
    "anova(reduced_model, model3)\n",
    "\n",
    "\n",
    "SSE_reduced <- deviance(reduced_model)\n",
    "SSE_full <- deviance(model3)\n",
    "df_reduced <- df.residual(reduced_model)\n",
    "df_full <- df.residual(model3)\n",
    "\n",
    "num_df <- df_reduced - df_full\n",
    "den_df <- df_full\n",
    "Fstat <- ((SSE_reduced - SSE_full) / num_df) / (SSE_full / den_df)\n",
    "pval <- pf(Fstat, num_df, den_df, lower.tail = FALSE)\n",
    "\n",
    "cat(\"\\n=== Nested F-test Details ===\\n\")\n",
    "cat(\"SSE (Reduced) =\", SSE_reduced, \"\\n\")\n",
    "cat(\"SSE (Full)    =\", SSE_full, \"\\n\")\n",
    "cat(\"df (Reduced)  =\", df_reduced, \"\\n\")\n",
    "cat(\"df (Full)     =\", df_full, \"\\n\")\n",
    "cat(\"Numerator df  =\", num_df, \"\\n\")\n",
    "cat(\"Denominator df=\", den_df, \"\\n\")\n",
    "cat(\"F-statistic   =\", Fstat, \"\\n\")\n",
    "cat(\"p-value       =\", pval, \"\\n\")\n",
    "\n",
    "cat(\"\\nH0: Beta_Miles^2 = Beta_Age*Miles = 0\\n\")\n",
    "cat(\"Ha: At least one of them ≠ 0\\n\")"
   ]
  },
  {
   "cell_type": "markdown",
   "id": "b9f9f608-0e0c-41c5-baa1-47606d9ff1f5",
   "metadata": {},
   "source": [
    "<span style=\"color: blue;\">Because the p value of 0.1957 is greater than our significance value of 0.05, we don't have sufficient statistical evidence to reject the null hypthesis.<span>"
   ]
  },
  {
   "cell_type": "markdown",
   "id": "01a45b7e-79c8-4682-883d-9088428775d3",
   "metadata": {},
   "source": [
    "<br><br><br><br><br><br>"
   ]
  },
  {
   "cell_type": "markdown",
   "id": "d4a63ea4-f382-43a4-9ab5-96e4d9e4d602",
   "metadata": {},
   "source": [
    "## Wrap-up:"
   ]
  },
  {
   "cell_type": "markdown",
   "id": "c90e612a-e9f0-4147-baa5-36a2a868648e",
   "metadata": {},
   "source": [
    "Based on the various models you have considered for predicting the price of a used car, which would you recommend using in practice? Give some justification for your answer."
   ]
  },
  {
   "cell_type": "markdown",
   "id": "d810fcf8-fe3b-413e-935c-f29c030dc90e",
   "metadata": {},
   "source": [
    "<span style=\"color: blue;\">Model #1 (linear in Age & Miles) explains some variation but predicts negative prices for very old cars, so it's not too feasable.<span>\n",
    "\n",
    "<span style=\"color: blue;\">Model #2 (quadratic in Age) fits the observed data better locally, but the quadratic can behave unrealistically for very old ages. The cubic term doesn’t add much improvement.<span>\n",
    "\n",
    "<span style=\"color: blue;\">Model #3 (full second-order in Age and Miles) gives the highest adjusted R^2 and passes significance tests for some nonlinear and interaction terms.<span>\n",
    "\n",
    "<span style=\"color: blue;\">I would recommend using the complete second-order model (Model #3) in practice. The inclusion of quadratic and interaction terms allows the model to show curvature in the relationships between age, miles, and price while avoiding the unrealistic end behavior of simpler polynomials. Compared to the basic linear model, it explains more variation in price and shows statistically significant improvements in fit. And it doesn't overcomplicate the prediction structure.<span>"
   ]
  }
 ],
 "metadata": {
  "kernelspec": {
   "display_name": "R",
   "language": "R",
   "name": "ir"
  },
  "language_info": {
   "codemirror_mode": "r",
   "file_extension": ".r",
   "mimetype": "text/x-r-source",
   "name": "R",
   "pygments_lexer": "r",
   "version": "4.5.1"
  }
 },
 "nbformat": 4,
 "nbformat_minor": 5
}
