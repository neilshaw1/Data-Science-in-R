{
 "cells": [
  {
   "cell_type": "code",
   "execution_count": 12,
   "id": "1110974a-d2ae-4577-ad71-63784c4ba5f9",
   "metadata": {},
   "outputs": [],
   "source": [
    "library(dplyr)\n",
    "library(ggplot2)\n",
    "library(repr)\n",
    "library(stats)\n",
    "library(caret)"
   ]
  },
  {
   "cell_type": "code",
   "execution_count": 28,
   "id": "6a41f815-fcea-41a4-9767-ba78f7a1532c",
   "metadata": {
    "scrolled": true
   },
   "outputs": [
    {
     "name": "stdout",
     "output_type": "stream",
     "text": [
      "'data.frame':\t140 obs. of  8 variables:\n",
      " $ Location     : Factor w/ 3 levels \"DesMoines\",\"GrinnellCampus\",..: 1 1 1 1 1 1 1 1 1 1 ...\n",
      " $ Address      : Factor w/ 2 levels \"Confederacy\",..: 2 2 2 2 2 2 2 2 2 2 ...\n",
      " $ Returned     : int  1 1 1 1 1 1 1 1 1 1 ...\n",
      " $ DesMoines    : int  1 1 1 1 1 1 1 1 1 1 ...\n",
      " $ GrinnellTown : int  0 0 0 0 0 0 0 0 0 0 ...\n",
      " $ GrinellCampus: int  0 0 0 0 0 0 0 0 0 0 ...\n",
      " $ Peaceworks   : int  1 1 1 1 1 1 1 1 1 1 ...\n",
      " $ Confederacy  : int  0 0 0 0 0 0 0 0 0 0 ...\n"
     ]
    },
    {
     "data": {
      "text/html": [
       "<table class=\"dataframe\">\n",
       "<caption>A data.frame: 6 × 8</caption>\n",
       "<thead>\n",
       "\t<tr><th></th><th scope=col>Location</th><th scope=col>Address</th><th scope=col>Returned</th><th scope=col>DesMoines</th><th scope=col>GrinnellTown</th><th scope=col>GrinellCampus</th><th scope=col>Peaceworks</th><th scope=col>Confederacy</th></tr>\n",
       "\t<tr><th></th><th scope=col>&lt;fct&gt;</th><th scope=col>&lt;fct&gt;</th><th scope=col>&lt;int&gt;</th><th scope=col>&lt;int&gt;</th><th scope=col>&lt;int&gt;</th><th scope=col>&lt;int&gt;</th><th scope=col>&lt;int&gt;</th><th scope=col>&lt;int&gt;</th></tr>\n",
       "</thead>\n",
       "<tbody>\n",
       "\t<tr><th scope=row>1</th><td>DesMoines</td><td>Peaceworks</td><td>1</td><td>1</td><td>0</td><td>0</td><td>1</td><td>0</td></tr>\n",
       "\t<tr><th scope=row>2</th><td>DesMoines</td><td>Peaceworks</td><td>1</td><td>1</td><td>0</td><td>0</td><td>1</td><td>0</td></tr>\n",
       "\t<tr><th scope=row>3</th><td>DesMoines</td><td>Peaceworks</td><td>1</td><td>1</td><td>0</td><td>0</td><td>1</td><td>0</td></tr>\n",
       "\t<tr><th scope=row>4</th><td>DesMoines</td><td>Peaceworks</td><td>1</td><td>1</td><td>0</td><td>0</td><td>1</td><td>0</td></tr>\n",
       "\t<tr><th scope=row>5</th><td>DesMoines</td><td>Peaceworks</td><td>1</td><td>1</td><td>0</td><td>0</td><td>1</td><td>0</td></tr>\n",
       "\t<tr><th scope=row>6</th><td>DesMoines</td><td>Peaceworks</td><td>1</td><td>1</td><td>0</td><td>0</td><td>1</td><td>0</td></tr>\n",
       "</tbody>\n",
       "</table>\n"
      ],
      "text/latex": [
       "A data.frame: 6 × 8\n",
       "\\begin{tabular}{r|llllllll}\n",
       "  & Location & Address & Returned & DesMoines & GrinnellTown & GrinellCampus & Peaceworks & Confederacy\\\\\n",
       "  & <fct> & <fct> & <int> & <int> & <int> & <int> & <int> & <int>\\\\\n",
       "\\hline\n",
       "\t1 & DesMoines & Peaceworks & 1 & 1 & 0 & 0 & 1 & 0\\\\\n",
       "\t2 & DesMoines & Peaceworks & 1 & 1 & 0 & 0 & 1 & 0\\\\\n",
       "\t3 & DesMoines & Peaceworks & 1 & 1 & 0 & 0 & 1 & 0\\\\\n",
       "\t4 & DesMoines & Peaceworks & 1 & 1 & 0 & 0 & 1 & 0\\\\\n",
       "\t5 & DesMoines & Peaceworks & 1 & 1 & 0 & 0 & 1 & 0\\\\\n",
       "\t6 & DesMoines & Peaceworks & 1 & 1 & 0 & 0 & 1 & 0\\\\\n",
       "\\end{tabular}\n"
      ],
      "text/markdown": [
       "\n",
       "A data.frame: 6 × 8\n",
       "\n",
       "| <!--/--> | Location &lt;fct&gt; | Address &lt;fct&gt; | Returned &lt;int&gt; | DesMoines &lt;int&gt; | GrinnellTown &lt;int&gt; | GrinellCampus &lt;int&gt; | Peaceworks &lt;int&gt; | Confederacy &lt;int&gt; |\n",
       "|---|---|---|---|---|---|---|---|---|\n",
       "| 1 | DesMoines | Peaceworks | 1 | 1 | 0 | 0 | 1 | 0 |\n",
       "| 2 | DesMoines | Peaceworks | 1 | 1 | 0 | 0 | 1 | 0 |\n",
       "| 3 | DesMoines | Peaceworks | 1 | 1 | 0 | 0 | 1 | 0 |\n",
       "| 4 | DesMoines | Peaceworks | 1 | 1 | 0 | 0 | 1 | 0 |\n",
       "| 5 | DesMoines | Peaceworks | 1 | 1 | 0 | 0 | 1 | 0 |\n",
       "| 6 | DesMoines | Peaceworks | 1 | 1 | 0 | 0 | 1 | 0 |\n",
       "\n"
      ],
      "text/plain": [
       "  Location  Address    Returned DesMoines GrinnellTown GrinellCampus Peaceworks\n",
       "1 DesMoines Peaceworks 1        1         0            0             1         \n",
       "2 DesMoines Peaceworks 1        1         0            0             1         \n",
       "3 DesMoines Peaceworks 1        1         0            0             1         \n",
       "4 DesMoines Peaceworks 1        1         0            0             1         \n",
       "5 DesMoines Peaceworks 1        1         0            0             1         \n",
       "6 DesMoines Peaceworks 1        1         0            0             1         \n",
       "  Confederacy\n",
       "1 0          \n",
       "2 0          \n",
       "3 0          \n",
       "4 0          \n",
       "5 0          \n",
       "6 0          "
      ]
     },
     "metadata": {},
     "output_type": "display_data"
    },
    {
     "name": "stdout",
     "output_type": "stream",
     "text": [
      "Counts per cell (Location x Address):\n",
      "                Address\n",
      "Location         Confederacy Peaceworks\n",
      "  DesMoines               40         40\n",
      "  GrinnellCampus          10         10\n",
      "  GrinnellTown            20         20\n"
     ]
    }
   ],
   "source": [
    "# --- Setup -------------------------------------------------------------------\n",
    "# install.packages(\"Stat2Data\") # uncomment if you don't have it\n",
    "library(Stat2Data)\n",
    "\n",
    "# load dataset (name as provided by package)\n",
    "data(\"LostLetter\", package=\"Stat2Data\")\n",
    "LL <- LostLetter\n",
    "\n",
    "# quick peek\n",
    "str(LL)\n",
    "head(LL)\n",
    "\n",
    "# If the dataset contains aggregated counts (e.g. Returned and NotReturned),\n",
    "# the code below will adapt. If it's one row per letter with Returned in {0,1},\n",
    "# the code will also work.\n",
    "# Create an aggregated table by Location x Address:\n",
    "tab <- with(LL, table(Location, Address))\n",
    "cat(\"Counts per cell (Location x Address):\\n\")\n",
    "print(tab)\n",
    "\n",
    "# If LL has per-letter rows:\n",
    "#   Returned should be 0/1 (or logical). If it contains counts instead,\n",
    "#   the following aggregate will attempt to detect that.\n",
    "if (any(LL$Returned > 1)) {\n",
    "  message(\"Detected counts in Returned column; assuming Returned is number returned per cell.\")\n",
    "  # assume LL contains variables: Returned, Total (or try to compute Total)\n",
    "  # Try to find a 'Total' or 'N' column; if none, attempt to aggregate from dataset\n",
    "  if (\"Total\" %in% names(LL)) {\n",
    "    agg <- aggregate(cbind(returned = Returned, total = Total) ~ Location + Address, data = LL, sum)\n",
    "  } else if (\"n\" %in% names(LL)) {\n",
    "    agg <- aggregate(cbind(returned = Returned, total = n) ~ Location + Address, data = LL, sum)\n",
    "  } else {\n",
    "    # if no explicit total, try to set total = Returned (not ideal) -> user should confirm\n",
    "    stop(\"Dataset appears to have counts in 'Returned' but no 'Total'/'n' column found. Please provide totals.\")\n",
    "  }\n",
    "  agg$notReturned <- agg$total - agg$returned\n",
    "  # models below will use 'agg' and cbind(returned, notReturned)\n",
    "  use_agg <- TRUE\n",
    "} else {\n",
    "  # per-letter rows with Returned = 0/1\n",
    "  use_agg <- FALSE\n",
    "}"
   ]
  },
  {
   "cell_type": "code",
   "execution_count": 29,
   "id": "1c60f002-791c-4f75-89d8-9c9da2d6a857",
   "metadata": {},
   "outputs": [
    {
     "data": {
      "text/plain": [
       "\n",
       "Call:\n",
       "glm(formula = Returned ~ Location + Address, family = binomial, \n",
       "    data = LL)\n",
       "\n",
       "Coefficients:\n",
       "                       Estimate Std. Error z value Pr(>|z|)    \n",
       "(Intercept)             -0.4243     0.2995  -1.417 0.156571    \n",
       "LocationGrinnellCampus  -1.5089     0.5965  -2.530 0.011417 *  \n",
       "LocationGrinnellTown     1.2520     0.4786   2.616 0.008897 ** \n",
       "AddressPeaceworks        1.4166     0.3983   3.557 0.000376 ***\n",
       "---\n",
       "Signif. codes:  0 '***' 0.001 '**' 0.01 '*' 0.05 '.' 0.1 ' ' 1\n",
       "\n",
       "(Dispersion parameter for binomial family taken to be 1)\n",
       "\n",
       "    Null deviance: 189.95  on 139  degrees of freedom\n",
       "Residual deviance: 158.40  on 136  degrees of freedom\n",
       "AIC: 166.4\n",
       "\n",
       "Number of Fisher Scoring iterations: 4\n"
      ]
     },
     "metadata": {},
     "output_type": "display_data"
    },
    {
     "name": "stdout",
     "output_type": "stream",
     "text": [
      "\n",
      "Odds ratios (exp(coef)) and 95% Wald CIs:\n",
      "                              OR      2.5 %    97.5 %\n",
      "(Intercept)            0.6541968 0.36370252 1.1767128\n",
      "LocationGrinnellCampus 0.2211424 0.06869616 0.7118877\n",
      "LocationGrinnellTown   3.4972390 1.36883805 8.9350822\n",
      "AddressPeaceworks      4.1228758 1.88876883 8.9995686\n"
     ]
    }
   ],
   "source": [
    "# ----------------- Fit primary logistic model --------------------------------\n",
    "# Model: Returned ~ Location + Address\n",
    "if (!use_agg) {\n",
    "  m1 <- glm(Returned ~ Location + Address, data = LL, family = binomial)\n",
    "} else {\n",
    "  m1 <- glm(cbind(returned, notReturned) ~ Location + Address, data = agg, family = binomial)\n",
    "}\n",
    "\n",
    "summary(m1)\n",
    "\n",
    "# Odds ratios and 95% CIs\n",
    "coefs <- coef(m1)\n",
    "OR <- exp(coefs)\n",
    "ci <- confint.default(m1)           # Wald CIs\n",
    "ORci <- exp(ci)\n",
    "cat(\"\\nOdds ratios (exp(coef)) and 95% Wald CIs:\\n\")\n",
    "print(cbind(OR, ORci))"
   ]
  },
  {
   "cell_type": "code",
   "execution_count": 30,
   "id": "cd49ec73-297e-4591-bae0-deb0c2e1b06e",
   "metadata": {},
   "outputs": [
    {
     "name": "stdout",
     "output_type": "stream",
     "text": [
      "\n",
      "Residual deviance: 158.404  on 136 df\n",
      "Goodness-of-fit p-value (Chi-square): 0.091726 \n"
     ]
    }
   ],
   "source": [
    "# ----------------- Goodness of fit (residual deviance) -----------------------\n",
    "resDev <- deviance(m1)\n",
    "dfRes  <- df.residual(m1)\n",
    "p_chisq <- 1 - pchisq(resDev, dfRes)\n",
    "cat(\"\\nResidual deviance:\", round(resDev,3), \" on\", dfRes, \"df\\n\")\n",
    "cat(\"Goodness-of-fit p-value (Chi-square):\", format.pval(p_chisq), \"\\n\")\n",
    "# Interpretation: small p-value => lack of fit."
   ]
  },
  {
   "cell_type": "code",
   "execution_count": 31,
   "id": "8237f4d3-95f5-403c-880c-851b6bab73ac",
   "metadata": {},
   "outputs": [
    {
     "data": {
      "text/plain": [
       "\n",
       "Call:\n",
       "glm(formula = Returned ~ Location * Address, family = binomial, \n",
       "    data = LL)\n",
       "\n",
       "Coefficients:\n",
       "                                         Estimate Std. Error z value Pr(>|z|)  \n",
       "(Intercept)                               -0.3023     0.3198  -0.945   0.3446  \n",
       "LocationGrinnellCampus                    -1.8949     1.1016  -1.720   0.0854 .\n",
       "LocationGrinnellTown                       0.9213     0.5675   1.623   0.1045  \n",
       "AddressPeaceworks                          1.1496     0.4705   2.443   0.0145 *\n",
       "LocationGrinnellCampus:AddressPeaceworks   0.6422     1.3225   0.486   0.6273  \n",
       "LocationGrinnellTown:AddressPeaceworks     1.1758     1.2222   0.962   0.3360  \n",
       "---\n",
       "Signif. codes:  0 '***' 0.001 '**' 0.01 '*' 0.05 '.' 0.1 ' ' 1\n",
       "\n",
       "(Dispersion parameter for binomial family taken to be 1)\n",
       "\n",
       "    Null deviance: 189.95  on 139  degrees of freedom\n",
       "Residual deviance: 157.22  on 134  degrees of freedom\n",
       "AIC: 169.22\n",
       "\n",
       "Number of Fisher Scoring iterations: 5\n"
      ]
     },
     "metadata": {},
     "output_type": "display_data"
    },
    {
     "name": "stdout",
     "output_type": "stream",
     "text": [
      "\n",
      "Empirical proportions and model probs (per cell):\n",
      "        Location     Address returned total prop_empirical prop_model_m1\n",
      "1      DesMoines Confederacy       17    40          0.425     0.3954770\n",
      "2 GrinnellCampus Confederacy        1    10          0.100     0.1263863\n",
      "3   GrinnellTown Confederacy       13    20          0.650     0.6958529\n",
      "4      DesMoines  Peaceworks       28    40          0.700     0.7295230\n",
      "5 GrinnellCampus  Peaceworks        4    10          0.400     0.3736137\n",
      "6   GrinnellTown  Peaceworks       19    20          0.950     0.9041471\n",
      "  prop_model_sat\n",
      "1          0.425\n",
      "2          0.100\n",
      "3          0.650\n",
      "4          0.700\n",
      "5          0.400\n",
      "6          0.950\n"
     ]
    }
   ],
   "source": [
    "# --- Fit saturated model ---\n",
    "if (!use_agg) {\n",
    "  msat <- glm(Returned ~ Location * Address, data = LL, family = binomial)\n",
    "} else {\n",
    "  msat <- glm(cbind(returned, notReturned) ~ Location * Address, data = agg, family = binomial)\n",
    "}\n",
    "summary(msat)\n",
    "\n",
    "# --- Extract empirical and model proportions ---\n",
    "if (!use_agg) {\n",
    "  # Aggregate success counts and totals\n",
    "  agg_obs <- aggregate(Returned ~ Location + Address, data = LL,\n",
    "                       FUN = function(x) c(success = sum(x), total = length(x)))\n",
    "\n",
    "  # Expand the matrix-column into separate columns safely\n",
    "  df_obs <- data.frame(\n",
    "    Location = agg_obs$Location,\n",
    "    Address = agg_obs$Address,\n",
    "    returned = agg_obs$Returned[, \"success\"],\n",
    "    total = agg_obs$Returned[, \"total\"]\n",
    "  )\n",
    "\n",
    "  # Empirical proportions\n",
    "  df_obs$prop_empirical <- df_obs$returned / df_obs$total\n",
    "\n",
    "  # Predicted proportions from both models\n",
    "  df_obs$prop_model_m1  <- predict(m1, newdata = df_obs, type = \"response\")\n",
    "  df_obs$prop_model_sat <- predict(msat, newdata = df_obs, type = \"response\")\n",
    "\n",
    "} else {\n",
    "  df_obs <- agg\n",
    "  df_obs$prop_empirical <- df_obs$returned / df_obs$total\n",
    "  df_obs$prop_model_m1  <- predict(m1, newdata = df_obs, type = \"response\")\n",
    "  df_obs$prop_model_sat <- predict(msat, newdata = df_obs, type = \"response\")\n",
    "}\n",
    "\n",
    "# --- Print results ---\n",
    "cat(\"\\nEmpirical proportions and model probs (per cell):\\n\")\n",
    "print(df_obs[, c(\"Location\", \"Address\", \"returned\", \"total\",\n",
    "                 \"prop_empirical\", \"prop_model_m1\", \"prop_model_sat\")])\n"
   ]
  },
  {
   "cell_type": "code",
   "execution_count": 21,
   "id": "f6a855ae-1e6f-464a-87cd-ccb770dcfcad",
   "metadata": {},
   "outputs": [
    {
     "name": "stdout",
     "output_type": "stream",
     "text": [
      "\n",
      "Differences (empirical - model) summary:\n",
      "   Min. 1st Qu.  Median    Mean 3rd Qu.    Max. \n",
      "0.02639 0.02717 0.02952 0.03392 0.04177 0.04585 \n",
      "   Min. 1st Qu.  Median    Mean 3rd Qu.    Max. \n",
      " 0.1113  0.1278  0.1767  0.2585  0.2501  0.7003 \n"
     ]
    },
    {
     "data": {
      "image/png": "[encoded data removed]",
      "text/plain": [
       "Plot with title \"Model linear logits (m1) vs empirical logits\""
      ]
     },
     "metadata": {
      "image/png": {
       "height": 420,
       "width": 420
      }
     },
     "output_type": "display_data"
    }
   ],
   "source": [
    "# ----------------- Compare empirical vs estimated logits & plot ----------------\n",
    "# compute logits: log(p/(1-p))\n",
    "logit <- function(p) log(p/(1-p))\n",
    "df_obs$logit_empirical <- logit(df_obs$prop_empirical)\n",
    "df_obs$logit_model     <- logit(df_obs$prop_model_m1)\n",
    "\n",
    "# Basic plot: empirical logits vs model logits (same plot by cell)\n",
    "# Order rows for plotting aesthetic\n",
    "df_obs$cell <- paste(df_obs$Location, df_obs$Address, sep=\":\")\n",
    "ord <- order(df_obs$Location, df_obs$Address)\n",
    "df_obs <- df_obs[ord, ]\n",
    "\n",
    "# Plot (you can tweak labels)\n",
    "plot(df_obs$logit_model, type=\"b\", pch=16, xlab=\"cell (Location:Address)\", ylab=\"logit(p)\",\n",
    "     xaxt=\"n\", main=\"Model linear logits (m1) vs empirical logits\")\n",
    "axis(1, at=1:nrow(df_obs), labels=df_obs$cell, las=2, cex.axis=0.8)\n",
    "lines(df_obs$logit_empirical, type=\"b\", pch=1, lty=2)\n",
    "legend(\"topright\", legend=c(\"model logits (m1)\",\"empirical logits\"), lty=c(1,2), pch=c(16,1), bty=\"n\")\n",
    "\n",
    "# Compute numeric differences\n",
    "df_obs$abs_diff_prop <- abs(df_obs$prop_empirical - df_obs$prop_model_m1)\n",
    "df_obs$abs_diff_logit <- abs(df_obs$logit_empirical - df_obs$logit_model)\n",
    "cat(\"\\nDifferences (empirical - model) summary:\\n\")\n",
    "print(summary(df_obs$abs_diff_prop))\n",
    "print(summary(df_obs$abs_diff_logit))"
   ]
  },
  {
   "cell_type": "code",
   "execution_count": 23,
   "id": "7565b069-3b32-4722-bd4c-271ea396eed5",
   "metadata": {},
   "outputs": [
    {
     "name": "stdout",
     "output_type": "stream",
     "text": [
      "\n",
      "Dispersion statistic (residual deviance / df): 1.165 \n",
      "Dispersion > 1.2 -> fitting quasi-binomial to get corrected SEs.\n",
      "\n",
      "Estimated dispersion (from summary of quasi-binomial) reported as 'Dispersion parameter for binomial family':\n"
     ]
    }
   ],
   "source": [
    "# ----------------- Overdispersion check -------------------------------------\n",
    "dispersion <- deviance(m1) / df.residual(m1)\n",
    "cat(\"\\nDispersion statistic (residual deviance / df):\", round(dispersion,3), \"\\n\")\n",
    "# Rule of thumb: dispersion >> 1 suggests overdispersion for binomial models.\n",
    "\n",
    "# If overdispersion suspected, refit with quasi-binomial:\n",
    "if (dispersion > 1.1) {\n",
    "  cat(\"Dispersion > 1.2 -> fitting quasi-binomial to get corrected SEs.\\n\")\n",
    "  if (!use_agg) {\n",
    "    mq <- glm(Returned ~ Location + Address, data = LL, family = quasibinomial)\n",
    "    mq_sat <- glm(Returned ~ Location * Address, data = LL, family = quasibinomial)\n",
    "  } else {\n",
    "    mq <- glm(cbind(returned, notReturned) ~ Location + Address, data = agg, family = quasibinomial)\n",
    "    mq_sat <- glm(cbind(returned, notReturned) ~ Location * Address, data = agg, family = quasibinomial)\n",
    "  }\n",
    "  summary(mq)\n",
    "  cat(\"\\nEstimated dispersion (from summary of quasi-binomial) reported as 'Dispersion parameter for binomial family':\\n\")\n",
    "  # note: model summary will show the dispersion estimate\n",
    "} else {\n",
    "  cat(\"No strong evidence of overdispersion (dispersion <= 1.2 by rule-of-thumb).\\n\")\n",
    "}"
   ]
  }
 ],
 "metadata": {
  "kernelspec": {
   "display_name": "R",
   "language": "R",
   "name": "ir"
  },
  "language_info": {
   "codemirror_mode": "r",
   "file_extension": ".r",
   "mimetype": "text/x-r-source",
   "name": "R",
   "pygments_lexer": "r",
   "version": "4.5.1"
  }
 },
 "nbformat": 4,
 "nbformat_minor": 5
}
