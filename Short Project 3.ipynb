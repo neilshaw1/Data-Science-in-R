{
 "cells": [
  {
   "cell_type": "code",
   "execution_count": 10,
   "id": "eac8928c-40c0-40d4-9e76-b011e72c7edc",
   "metadata": {},
   "outputs": [
    {
     "data": {
      "text/plain": [
       "\n",
       "Call:\n",
       "glm(formula = sex_binary ~ ARSQ_19, family = binomial, data = data)\n",
       "\n",
       "Coefficients:\n",
       "            Estimate Std. Error z value Pr(>|z|)  \n",
       "(Intercept)   1.7055     0.8476   2.012   0.0442 *\n",
       "ARSQ_19      -0.5960     0.2891  -2.062   0.0392 *\n",
       "---\n",
       "Signif. codes:  0 '***' 0.001 '**' 0.01 '*' 0.05 '.' 0.1 ' ' 1\n",
       "\n",
       "(Dispersion parameter for binomial family taken to be 1)\n",
       "\n",
       "    Null deviance: 58.129  on 41  degrees of freedom\n",
       "Residual deviance: 53.416  on 40  degrees of freedom\n",
       "AIC: 57.416\n",
       "\n",
       "Number of Fisher Scoring iterations: 4\n"
      ]
     },
     "metadata": {},
     "output_type": "display_data"
    }
   ],
   "source": [
    "data <- read.csv(\"Data for Short Project 3.csv\")\n",
    "data$sex_binary <- ifelse(data$sex == \"F\", 1, 0)\n",
    "\n",
    "model_single <- glm(sex_binary ~ ARSQ_19, data = data, family = binomial)\n",
    "summary(model_single)"
   ]
  },
  {
   "cell_type": "code",
   "execution_count": 11,
   "id": "cdabca5d-f962-4de7-b99f-37e1590c2d3d",
   "metadata": {},
   "outputs": [
    {
     "name": "stderr",
     "output_type": "stream",
     "text": [
      "Waiting for profiling to be done...\n",
      "\n"
     ]
    },
    {
     "data": {
      "text/html": [
       "<table class=\"dataframe\">\n",
       "<caption>A matrix: 2 × 2 of type dbl</caption>\n",
       "<thead>\n",
       "\t<tr><th></th><th scope=col>2.5 %</th><th scope=col>97.5 %</th></tr>\n",
       "</thead>\n",
       "<tbody>\n",
       "\t<tr><th scope=row>(Intercept)</th><td> 0.1212903</td><td> 3.49281730</td></tr>\n",
       "\t<tr><th scope=row>ARSQ_19</th><td>-1.2057875</td><td>-0.05605575</td></tr>\n",
       "</tbody>\n",
       "</table>\n"
      ],
      "text/latex": [
       "A matrix: 2 × 2 of type dbl\n",
       "\\begin{tabular}{r|ll}\n",
       "  & 2.5 \\% & 97.5 \\%\\\\\n",
       "\\hline\n",
       "\t(Intercept) &  0.1212903 &  3.49281730\\\\\n",
       "\tARSQ\\_19 & -1.2057875 & -0.05605575\\\\\n",
       "\\end{tabular}\n"
      ],
      "text/markdown": [
       "\n",
       "A matrix: 2 × 2 of type dbl\n",
       "\n",
       "| <!--/--> | 2.5 % | 97.5 % |\n",
       "|---|---|---|\n",
       "| (Intercept) |  0.1212903 |  3.49281730 |\n",
       "| ARSQ_19 | -1.2057875 | -0.05605575 |\n",
       "\n"
      ],
      "text/plain": [
       "            2.5 %      97.5 %     \n",
       "(Intercept)  0.1212903  3.49281730\n",
       "ARSQ_19     -1.2057875 -0.05605575"
      ]
     },
     "metadata": {},
     "output_type": "display_data"
    },
    {
     "name": "stderr",
     "output_type": "stream",
     "text": [
      "Waiting for profiling to be done...\n",
      "\n"
     ]
    },
    {
     "data": {
      "text/html": [
       "<table class=\"dataframe\">\n",
       "<caption>A matrix: 2 × 2 of type dbl</caption>\n",
       "<thead>\n",
       "\t<tr><th></th><th scope=col>2.5 %</th><th scope=col>97.5 %</th></tr>\n",
       "</thead>\n",
       "<tbody>\n",
       "\t<tr><th scope=row>(Intercept)</th><td>1.1289525</td><td>32.8784458</td></tr>\n",
       "\t<tr><th scope=row>ARSQ_19</th><td>0.2994561</td><td> 0.9454864</td></tr>\n",
       "</tbody>\n",
       "</table>\n"
      ],
      "text/latex": [
       "A matrix: 2 × 2 of type dbl\n",
       "\\begin{tabular}{r|ll}\n",
       "  & 2.5 \\% & 97.5 \\%\\\\\n",
       "\\hline\n",
       "\t(Intercept) & 1.1289525 & 32.8784458\\\\\n",
       "\tARSQ\\_19 & 0.2994561 &  0.9454864\\\\\n",
       "\\end{tabular}\n"
      ],
      "text/markdown": [
       "\n",
       "A matrix: 2 × 2 of type dbl\n",
       "\n",
       "| <!--/--> | 2.5 % | 97.5 % |\n",
       "|---|---|---|\n",
       "| (Intercept) | 1.1289525 | 32.8784458 |\n",
       "| ARSQ_19 | 0.2994561 |  0.9454864 |\n",
       "\n"
      ],
      "text/plain": [
       "            2.5 %     97.5 %    \n",
       "(Intercept) 1.1289525 32.8784458\n",
       "ARSQ_19     0.2994561  0.9454864"
      ]
     },
     "metadata": {},
     "output_type": "display_data"
    }
   ],
   "source": [
    "confint(model_single)\n",
    "exp(confint(model_single))"
   ]
  },
  {
   "cell_type": "code",
   "execution_count": 12,
   "id": "4cd40d21-026f-453f-ba90-9069e49cb0f9",
   "metadata": {},
   "outputs": [
    {
     "name": "stderr",
     "output_type": "stream",
     "text": [
      "\u001b[1m\u001b[22m`geom_smooth()` using formula = 'y ~ x'\n"
     ]
    },
    {
     "data": {
      "image/png": "[encoded data removed]",
      "text/plain": [
       "plot without title"
      ]
     },
     "metadata": {
      "image/png": {
       "height": 420,
       "width": 420
      }
     },
     "output_type": "display_data"
    }
   ],
   "source": [
    "library(ggplot2)\n",
    "ggplot(data, aes(x = ARSQ_19, y = sex_binary)) +\n",
    "  geom_jitter(width = 0.3, height = 0.05, alpha = 0.6, color = \"blue\") + \n",
    "  stat_smooth(method = \"glm\", method.args = list(family = \"binomial\"), se = FALSE, color = \"red\", linewidth = 1.5) +\n",
    "  labs(\n",
    "    y = \"Probability of Female\",\n",
    "    x = \"ARSQ_19\",\n",
    "    title = \"Logistic Regression Fit for Sex ~ ARSQ_19\"\n",
    "  ) +\n",
    "  theme_minimal(base_size = 16) +\n",
    "  theme(plot.title = element_text(hjust = 0.5))"
   ]
  },
  {
   "cell_type": "code",
   "execution_count": 13,
   "id": "060ef3f5-edc8-485b-8667-7b440ebf57f5",
   "metadata": {},
   "outputs": [
    {
     "data": {
      "text/html": [
       "<table class=\"dataframe\">\n",
       "<caption>A anova: 2 × 5</caption>\n",
       "<thead>\n",
       "\t<tr><th></th><th scope=col>Resid. Df</th><th scope=col>Resid. Dev</th><th scope=col>Df</th><th scope=col>Deviance</th><th scope=col>Pr(&gt;Chi)</th></tr>\n",
       "\t<tr><th></th><th scope=col>&lt;dbl&gt;</th><th scope=col>&lt;dbl&gt;</th><th scope=col>&lt;dbl&gt;</th><th scope=col>&lt;dbl&gt;</th><th scope=col>&lt;dbl&gt;</th></tr>\n",
       "</thead>\n",
       "<tbody>\n",
       "\t<tr><th scope=row>1</th><td>41</td><td>58.12909</td><td>NA</td><td>     NA</td><td>        NA</td></tr>\n",
       "\t<tr><th scope=row>2</th><td>40</td><td>53.41563</td><td> 1</td><td>4.71346</td><td>0.02992736</td></tr>\n",
       "</tbody>\n",
       "</table>\n"
      ],
      "text/latex": [
       "A anova: 2 × 5\n",
       "\\begin{tabular}{r|lllll}\n",
       "  & Resid. Df & Resid. Dev & Df & Deviance & Pr(>Chi)\\\\\n",
       "  & <dbl> & <dbl> & <dbl> & <dbl> & <dbl>\\\\\n",
       "\\hline\n",
       "\t1 & 41 & 58.12909 & NA &      NA &         NA\\\\\n",
       "\t2 & 40 & 53.41563 &  1 & 4.71346 & 0.02992736\\\\\n",
       "\\end{tabular}\n"
      ],
      "text/markdown": [
       "\n",
       "A anova: 2 × 5\n",
       "\n",
       "| <!--/--> | Resid. Df &lt;dbl&gt; | Resid. Dev &lt;dbl&gt; | Df &lt;dbl&gt; | Deviance &lt;dbl&gt; | Pr(&gt;Chi) &lt;dbl&gt; |\n",
       "|---|---|---|---|---|---|\n",
       "| 1 | 41 | 58.12909 | NA |      NA |         NA |\n",
       "| 2 | 40 | 53.41563 |  1 | 4.71346 | 0.02992736 |\n",
       "\n"
      ],
      "text/plain": [
       "  Resid. Df Resid. Dev Df Deviance Pr(>Chi)  \n",
       "1 41        58.12909   NA      NA          NA\n",
       "2 40        53.41563    1 4.71346  0.02992736"
      ]
     },
     "metadata": {},
     "output_type": "display_data"
    }
   ],
   "source": [
    "null_model <- glm(sex_binary ~ 1, data = data, family = binomial)\n",
    "anova(null_model, model_single, test = \"Chisq\")"
   ]
  },
  {
   "cell_type": "code",
   "execution_count": 26,
   "id": "4693bfff-1ff2-4529-9706-ab30ec088c21",
   "metadata": {},
   "outputs": [
    {
     "name": "stdout",
     "output_type": "stream",
     "text": [
      "Start:  AIC=54.4\n",
      "sex_binary ~ ARSQ_19 + UMACL.UWIST.Pogodny.Bright + UMACL.UWIST.Usatysfakcjonowany.Satisfied + \n",
      "    UMACL.UWIST.Optymistyczny.Optimistic + UMACL.UWIST.Passive.Bierny + \n",
      "    ARSQ_37\n",
      "\n",
      "                                           Df Deviance    AIC\n",
      "- UMACL.UWIST.Optymistyczny.Optimistic      1   40.432 52.432\n",
      "- UMACL.UWIST.Usatysfakcjonowany.Satisfied  1   40.794 52.794\n",
      "- UMACL.UWIST.Passive.Bierny                1   40.980 52.980\n",
      "- UMACL.UWIST.Pogodny.Bright                1   42.330 54.330\n",
      "<none>                                          40.403 54.403\n",
      "- ARSQ_37                                   1   42.862 54.862\n",
      "- ARSQ_19                                   1   49.902 61.902\n",
      "\n",
      "Step:  AIC=52.43\n",
      "sex_binary ~ ARSQ_19 + UMACL.UWIST.Pogodny.Bright + UMACL.UWIST.Usatysfakcjonowany.Satisfied + \n",
      "    UMACL.UWIST.Passive.Bierny + ARSQ_37\n",
      "\n",
      "                                           Df Deviance    AIC\n",
      "- UMACL.UWIST.Passive.Bierny                1   40.998 50.998\n",
      "- UMACL.UWIST.Usatysfakcjonowany.Satisfied  1   41.033 51.033\n",
      "<none>                                          40.432 52.432\n",
      "- ARSQ_37                                   1   42.937 52.937\n",
      "- UMACL.UWIST.Pogodny.Bright                1   43.549 53.549\n",
      "- ARSQ_19                                   1   50.072 60.072\n",
      "\n",
      "Step:  AIC=51\n",
      "sex_binary ~ ARSQ_19 + UMACL.UWIST.Pogodny.Bright + UMACL.UWIST.Usatysfakcjonowany.Satisfied + \n",
      "    ARSQ_37\n",
      "\n",
      "                                           Df Deviance    AIC\n",
      "- UMACL.UWIST.Usatysfakcjonowany.Satisfied  1   41.730 49.730\n",
      "<none>                                          40.998 50.998\n",
      "- ARSQ_37                                   1   43.077 51.077\n",
      "- UMACL.UWIST.Pogodny.Bright                1   45.219 53.219\n",
      "- ARSQ_19                                   1   52.437 60.437\n",
      "\n",
      "Step:  AIC=49.73\n",
      "sex_binary ~ ARSQ_19 + UMACL.UWIST.Pogodny.Bright + ARSQ_37\n",
      "\n",
      "                             Df Deviance    AIC\n",
      "<none>                            41.730 49.730\n",
      "- ARSQ_37                     1   43.780 49.780\n",
      "- UMACL.UWIST.Pogodny.Bright  1   50.905 56.905\n",
      "- ARSQ_19                     1   53.128 59.128\n"
     ]
    },
    {
     "data": {
      "text/plain": [
       "\n",
       "Call:  glm(formula = sex_binary ~ ARSQ_19 + UMACL.UWIST.Pogodny.Bright + \n",
       "    ARSQ_37, family = binomial, data = data)\n",
       "\n",
       "Coefficients:\n",
       "               (Intercept)                     ARSQ_19  \n",
       "                    8.4225                     -1.2982  \n",
       "UMACL.UWIST.Pogodny.Bright                     ARSQ_37  \n",
       "                   -2.0060                     -0.3739  \n",
       "\n",
       "Degrees of Freedom: 41 Total (i.e. Null);  38 Residual\n",
       "Null Deviance:\t    58.13 \n",
       "Residual Deviance: 41.73 \tAIC: 49.73"
      ]
     },
     "metadata": {},
     "output_type": "display_data"
    }
   ],
   "source": [
    "model_full <- glm(sex_binary ~ ARSQ_19 + \n",
    "                  UMACL.UWIST.Pogodny.Bright +\n",
    "                  UMACL.UWIST.Usatysfakcjonowany.Satisfied +\n",
    "                  UMACL.UWIST.Optymistyczny.Optimistic +\n",
    "                  UMACL.UWIST.Passive.Bierny +\n",
    "                  ARSQ_37,\n",
    "                  data = data, family = binomial)\n",
    "step(model_full)"
   ]
  },
  {
   "cell_type": "code",
   "execution_count": 28,
   "id": "8077ac92-3fc8-43d6-8411-f3e6a6883a57",
   "metadata": {},
   "outputs": [
    {
     "data": {
      "text/plain": [
       "\n",
       "Call:\n",
       "glm(formula = sex_binary ~ ARSQ_19 + UMACL.UWIST.Pogodny.Bright + \n",
       "    ARSQ_37, family = binomial, data = data)\n",
       "\n",
       "Coefficients:\n",
       "                           Estimate Std. Error z value Pr(>|z|)   \n",
       "(Intercept)                  8.4225     2.7761   3.034  0.00241 **\n",
       "ARSQ_19                     -1.2982     0.4703  -2.761  0.00577 **\n",
       "UMACL.UWIST.Pogodny.Bright  -2.0060     0.7674  -2.614  0.00894 **\n",
       "ARSQ_37                     -0.3739     0.2703  -1.383  0.16652   \n",
       "---\n",
       "Signif. codes:  0 '***' 0.001 '**' 0.01 '*' 0.05 '.' 0.1 ' ' 1\n",
       "\n",
       "(Dispersion parameter for binomial family taken to be 1)\n",
       "\n",
       "    Null deviance: 58.129  on 41  degrees of freedom\n",
       "Residual deviance: 41.730  on 38  degrees of freedom\n",
       "AIC: 49.73\n",
       "\n",
       "Number of Fisher Scoring iterations: 5\n"
      ]
     },
     "metadata": {},
     "output_type": "display_data"
    }
   ],
   "source": [
    "model_multi <- glm(sex_binary ~ ARSQ_19 + UMACL.UWIST.Pogodny.Bright + \n",
    "                   ARSQ_37, data=data, family=binomial)\n",
    "summary(model_multi)"
   ]
  },
  {
   "cell_type": "code",
   "execution_count": null,
   "id": "35310f15-da36-45da-bd29-32a32f570ad8",
   "metadata": {},
   "outputs": [],
   "source": []
  }
 ],
 "metadata": {
  "kernelspec": {
   "display_name": "R",
   "language": "R",
   "name": "ir"
  },
  "language_info": {
   "codemirror_mode": "r",
   "file_extension": ".r",
   "mimetype": "text/x-r-source",
   "name": "R",
   "pygments_lexer": "r",
   "version": "4.5.1"
  }
 },
 "nbformat": 4,
 "nbformat_minor": 5
}
