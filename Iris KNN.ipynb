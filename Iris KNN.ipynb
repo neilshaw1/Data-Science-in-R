{
 "cells": [
  {
   "cell_type": "code",
   "execution_count": 19,
   "id": "64bb6e02-1898-45ab-9f25-578a3b6ef873",
   "metadata": {},
   "outputs": [],
   "source": [
    "library(class)\n",
    "library(caret)\n",
    "library(pROC)"
   ]
  },
  {
   "cell_type": "code",
   "execution_count": 28,
   "id": "0f4c7cfa-7b80-4308-96df-3691ca44ce2b",
   "metadata": {},
   "outputs": [
    {
     "data": {
      "text/html": [
       "1"
      ],
      "text/latex": [
       "1"
      ],
      "text/markdown": [
       "1"
      ],
      "text/plain": [
       "[1] 1"
      ]
     },
     "metadata": {},
     "output_type": "display_data"
    }
   ],
   "source": [
    "data(iris)\n",
    "\n",
    "index = createDataPartition(iris$Species, p = 0.8, list = FALSE)\n",
    "train_data = iris[index, ]\n",
    "test_data = iris[-index, ]\n",
    "\n",
    "x_train = train_data[, -5]\n",
    "y_train = train_data$Species\n",
    "x_test = test_data[, -5]\n",
    "y_test = test_data$Species\n",
    "\n",
    "k = 1\n",
    "pred_knn = knn(train = x_train, test = x_test, cl = y_train, k = k)\n",
    "\n",
    "accuracy = mean(pred_knn == y_test)\n",
    "\n",
    "accuracy"
   ]
  },
  {
   "cell_type": "code",
   "execution_count": 29,
   "id": "7cfbe9d2-bca4-468f-9739-8f9bf2330d99",
   "metadata": {},
   "outputs": [
    {
     "data": {
      "text/plain": [
       "Confusion Matrix and Statistics\n",
       "\n",
       "            Reference\n",
       "Prediction   setosa versicolor virginica\n",
       "  setosa         10          0         0\n",
       "  versicolor      0         10         0\n",
       "  virginica       0          0        10\n",
       "\n",
       "Overall Statistics\n",
       "                                     \n",
       "               Accuracy : 1          \n",
       "                 95% CI : (0.8843, 1)\n",
       "    No Information Rate : 0.3333     \n",
       "    P-Value [Acc > NIR] : 4.857e-15  \n",
       "                                     \n",
       "                  Kappa : 1          \n",
       "                                     \n",
       " Mcnemar's Test P-Value : NA         \n",
       "\n",
       "Statistics by Class:\n",
       "\n",
       "                     Class: setosa Class: versicolor Class: virginica\n",
       "Sensitivity                 1.0000            1.0000           1.0000\n",
       "Specificity                 1.0000            1.0000           1.0000\n",
       "Pos Pred Value              1.0000            1.0000           1.0000\n",
       "Neg Pred Value              1.0000            1.0000           1.0000\n",
       "Prevalence                  0.3333            0.3333           0.3333\n",
       "Detection Rate              0.3333            0.3333           0.3333\n",
       "Detection Prevalence        0.3333            0.3333           0.3333\n",
       "Balanced Accuracy           1.0000            1.0000           1.0000"
      ]
     },
     "metadata": {},
     "output_type": "display_data"
    }
   ],
   "source": [
    "conf_matrix = confusionMatrix(pred_knn, y_test)\n",
    "conf_matrix"
   ]
  },
  {
   "cell_type": "code",
   "execution_count": 43,
   "id": "3391e6e8-4491-4ff1-b904-970fc3e5ab56",
   "metadata": {},
   "outputs": [
    {
     "data": {
      "image/png": "[encoded data removed]",
      "text/plain": [
       "plot without title"
      ]
     },
     "metadata": {
      "image/png": {
       "height": 420,
       "width": 420
      }
     },
     "output_type": "display_data"
    }
   ],
   "source": [
    "acc_results = data.frame(k = integer(), accuracy = numeric())\n",
    "for (k in 1:42){\n",
    "    pred = knn(train = x_train, test = x_test, cl = y_train, k = k)\n",
    "    acc = mean(pred == y_test)\n",
    "    acc_results = rbind(acc_results, data.frame(k = k, accuracy = acc))\n",
    "}\n",
    "\n",
    "ggplot(acc_results, aes(x = k, y = accuracy)) + geom_point()"
   ]
  },
  {
   "cell_type": "code",
   "execution_count": null,
   "id": "dd32882b-3dd0-4f5e-84cf-92f94849344d",
   "metadata": {},
   "outputs": [],
   "source": []
  }
 ],
 "metadata": {
  "kernelspec": {
   "display_name": "R",
   "language": "R",
   "name": "ir"
  },
  "language_info": {
   "codemirror_mode": "r",
   "file_extension": ".r",
   "mimetype": "text/x-r-source",
   "name": "R",
   "pygments_lexer": "r",
   "version": "4.5.1"
  }
 },
 "nbformat": 4,
 "nbformat_minor": 5
}
