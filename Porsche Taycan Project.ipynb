{
 "cells": [
  {
   "cell_type": "markdown",
   "id": "52c2fe0d-3dba-469e-8a8b-8d5e73d5fcc1",
   "metadata": {},
   "source": [
    "# Short Project 1: Porsche Taycan"
   ]
  },
  {
   "cell_type": "markdown",
   "id": "eb9ce4b2-0298-443e-9413-18db57a785e1",
   "metadata": {},
   "source": [
    "### 1. Introduction"
   ]
  },
  {
   "cell_type": "markdown",
   "id": "ca9a9ca8-f81b-4d43-9139-ade6b471c5cf",
   "metadata": {},
   "source": [
    "I picked the Porsche Taycan as my example used car. I got the data from cars.com. My procedure for choosing the cars was to remove all filters so that the listings would appear at random. Then I selected the top 30 listings while noting the age, miles, and price of the cars. My data is stored in a csv filed called \"Porsche Taycan Data.csv\""
   ]
  },
  {
   "cell_type": "code",
   "execution_count": 1,
   "id": "e93304ef-ecfc-4367-b3af-78b211480f98",
   "metadata": {},
   "outputs": [],
   "source": [
    "taycan = read.csv(\"Porsche Taycan Data.csv\")"
   ]
  },
  {
   "cell_type": "markdown",
   "id": "f3e6e1a0-4f18-498d-91c5-9daedde0de83",
   "metadata": {},
   "source": [
    "### 2. Summary Statistics"
   ]
  },
  {
   "cell_type": "code",
   "execution_count": 2,
   "id": "cadd0a91-05bf-4ab7-8b02-147260743d38",
   "metadata": {},
   "outputs": [
    {
     "name": "stdout",
     "output_type": "stream",
     "text": [
      "\n",
      "Means:"
     ]
    },
    {
     "data": {
      "text/html": [
       "<ol>\n",
       "\t<li>2.83333333333333</li>\n",
       "\t<li>94119.2</li>\n",
       "</ol>\n"
      ],
      "text/latex": [
       "\\begin{enumerate}\n",
       "\\item 2.83333333333333\n",
       "\\item 94119.2\n",
       "\\end{enumerate}\n"
      ],
      "text/markdown": [
       "1. 2.83333333333333\n",
       "2. 94119.2\n",
       "\n",
       "\n"
      ],
      "text/plain": [
       "[[1]]\n",
       "[1] 2.833333\n",
       "\n",
       "[[2]]\n",
       "[1] 94119.2\n"
      ]
     },
     "metadata": {},
     "output_type": "display_data"
    },
    {
     "name": "stdout",
     "output_type": "stream",
     "text": [
      "\n",
      "Standard Deviations:"
     ]
    },
    {
     "data": {
      "text/html": [
       "<ol>\n",
       "\t<li>1.59920957487373</li>\n",
       "\t<li>24663.8951986991</li>\n",
       "</ol>\n"
      ],
      "text/latex": [
       "\\begin{enumerate}\n",
       "\\item 1.59920957487373\n",
       "\\item 24663.8951986991\n",
       "\\end{enumerate}\n"
      ],
      "text/markdown": [
       "1. 1.59920957487373\n",
       "2. 24663.8951986991\n",
       "\n",
       "\n"
      ],
      "text/plain": [
       "[[1]]\n",
       "[1] 1.59921\n",
       "\n",
       "[[2]]\n",
       "[1] 24663.9\n"
      ]
     },
     "metadata": {},
     "output_type": "display_data"
    },
    {
     "name": "stdout",
     "output_type": "stream",
     "text": [
      "\n",
      "SSX, SSY, and SSXY:\n",
      "\n",
      "SSX = 74.16667\n",
      "SSY = 17640924065\n",
      "SSXY = -757235\n",
      "\n",
      "SSModel and SSE:\n",
      "\n",
      "SSModel = 7731301284\n",
      "SSE = 9909622781"
     ]
    }
   ],
   "source": [
    "x = taycan$Age\n",
    "y = taycan$Price\n",
    "x_y = list(x,y)\n",
    "\n",
    "\n",
    "cat(\"\\nMeans:\")\n",
    "lapply(x_y, mean)\n",
    "\n",
    "cat(\"\\nStandard Deviations:\")\n",
    "lapply(x_y, sd)\n",
    "\n",
    "SSX = sum((x-mean(x))^2)\n",
    "SSY = sum((y-mean(y))^2)\n",
    "SSXY = sum((x-mean(x))*(y-mean(y)))\n",
    "\n",
    "cat(\"\\nSSX, SSY, and SSXY:\\n\")\n",
    "cat(\"\\nSSX =\", SSX)\n",
    "cat(\"\\nSSY =\", SSY)\n",
    "cat(\"\\nSSXY =\", SSXY)\n",
    "\n",
    "b1 = SSXY / SSX\n",
    "b0 = mean(y) - b1 * mean(x)\n",
    "\n",
    "y_hat = b0 + b1 * x\n",
    "resid = y - y_hat\n",
    "\n",
    "SSModel = sum((y_hat - mean(y))^2)\n",
    "SSE = sum(resid^2)\n",
    "\n",
    "cat(\"\\n\\nSSModel and SSE:\\n\")\n",
    "cat(\"\\nSSModel =\", SSModel)\n",
    "cat(\"\\nSSE =\", SSE)"
   ]
  },
  {
   "cell_type": "markdown",
   "id": "7e20db81-8231-405c-b027-e301e1f0fef3",
   "metadata": {},
   "source": [
    "### 3. Least Squares Regression Line"
   ]
  },
  {
   "cell_type": "code",
   "execution_count": 3,
   "id": "11b03aeb-4408-4c15-a079-22259daa99ce",
   "metadata": {},
   "outputs": [
    {
     "data": {
      "text/html": [
       "123047.278651685"
      ],
      "text/latex": [
       "123047.278651685"
      ],
      "text/markdown": [
       "123047.278651685"
      ],
      "text/plain": [
       "[1] 123047.3"
      ]
     },
     "metadata": {},
     "output_type": "display_data"
    },
    {
     "data": {
      "text/html": [
       "-10209.9101123596"
      ],
      "text/latex": [
       "-10209.9101123596"
      ],
      "text/markdown": [
       "-10209.9101123596"
      ],
      "text/plain": [
       "[1] -10209.91"
      ]
     },
     "metadata": {},
     "output_type": "display_data"
    },
    {
     "data": {
      "text/plain": [
       "\n",
       "Call:\n",
       "lm(formula = y ~ x)\n",
       "\n",
       "Residuals:\n",
       "   Min     1Q Median     3Q    Max \n",
       "-26423 -13121  -5585   6725  52363 \n",
       "\n",
       "Coefficients:\n",
       "            Estimate Std. Error t value Pr(>|t|)    \n",
       "(Intercept)   123047       7078  17.383  < 2e-16 ***\n",
       "x             -10210       2184  -4.674 6.76e-05 ***\n",
       "---\n",
       "Signif. codes:  0 '***' 0.001 '**' 0.01 '*' 0.05 '.' 0.1 ' ' 1\n",
       "\n",
       "Residual standard error: 18810 on 28 degrees of freedom\n",
       "Multiple R-squared:  0.4383,\tAdjusted R-squared:  0.4182 \n",
       "F-statistic: 21.85 on 1 and 28 DF,  p-value: 6.763e-05\n"
      ]
     },
     "metadata": {},
     "output_type": "display_data"
    },
    {
     "data": {
      "text/html": [
       "<style>\n",
       ".dl-inline {width: auto; margin:0; padding: 0}\n",
       ".dl-inline>dt, .dl-inline>dd {float: none; width: auto; display: inline-block}\n",
       ".dl-inline>dt::after {content: \":\\0020\"; padding-right: .5ex}\n",
       ".dl-inline>dt:not(:first-of-type) {padding-left: .5ex}\n",
       "</style><dl class=dl-inline><dt>(Intercept)</dt><dd>123047.278651685</dd><dt>x</dt><dd>-10209.9101123595</dd></dl>\n"
      ],
      "text/latex": [
       "\\begin{description*}\n",
       "\\item[(Intercept)] 123047.278651685\n",
       "\\item[x] -10209.9101123595\n",
       "\\end{description*}\n"
      ],
      "text/markdown": [
       "(Intercept)\n",
       ":   123047.278651685x\n",
       ":   -10209.9101123595\n",
       "\n"
      ],
      "text/plain": [
       "(Intercept)           x \n",
       "  123047.28   -10209.91 "
      ]
     },
     "metadata": {},
     "output_type": "display_data"
    }
   ],
   "source": [
    "b1 = SSXY / SSX\n",
    "b0 = mean(y) - b1 * mean(x)\n",
    "b0\n",
    "b1\n",
    "\n",
    "fit = lm(y ~ x)\n",
    "summary(fit)\n",
    "coefficients(fit)"
   ]
  },
  {
   "cell_type": "markdown",
   "id": "3472451f-a2ca-4d1d-add4-963ee2db39a4",
   "metadata": {},
   "source": [
    "<span style=\"color: blue;\"> The negative slope makes sense because the value depreciates over time. <span>"
   ]
  },
  {
   "cell_type": "markdown",
   "id": "3747ce43-634d-4439-8b5b-933e96a6258c",
   "metadata": {},
   "source": [
    "### 4. Estimating Standard Deviation of the Error Term"
   ]
  },
  {
   "cell_type": "code",
   "execution_count": 4,
   "id": "71eac65f-6474-41f5-b90d-8ed4160a1d1b",
   "metadata": {},
   "outputs": [
    {
     "data": {
      "text/html": [
       "7731301283.93258"
      ],
      "text/latex": [
       "7731301283.93258"
      ],
      "text/markdown": [
       "7731301283.93258"
      ],
      "text/plain": [
       "[1] 7731301284"
      ]
     },
     "metadata": {},
     "output_type": "display_data"
    },
    {
     "data": {
      "text/html": [
       "9909622780.86741"
      ],
      "text/latex": [
       "9909622780.86741"
      ],
      "text/markdown": [
       "9909622780.86741"
      ],
      "text/plain": [
       "[1] 9909622781"
      ]
     },
     "metadata": {},
     "output_type": "display_data"
    },
    {
     "data": {
      "text/html": [
       "18812.6313767291"
      ],
      "text/latex": [
       "18812.6313767291"
      ],
      "text/markdown": [
       "18812.6313767291"
      ],
      "text/plain": [
       "[1] 18812.63"
      ]
     },
     "metadata": {},
     "output_type": "display_data"
    },
    {
     "data": {
      "text/html": [
       "<table class=\"dataframe\">\n",
       "<caption>A anova: 2 × 5</caption>\n",
       "<thead>\n",
       "\t<tr><th></th><th scope=col>Df</th><th scope=col>Sum Sq</th><th scope=col>Mean Sq</th><th scope=col>F value</th><th scope=col>Pr(&gt;F)</th></tr>\n",
       "\t<tr><th></th><th scope=col>&lt;int&gt;</th><th scope=col>&lt;dbl&gt;</th><th scope=col>&lt;dbl&gt;</th><th scope=col>&lt;dbl&gt;</th><th scope=col>&lt;dbl&gt;</th></tr>\n",
       "</thead>\n",
       "<tbody>\n",
       "\t<tr><th scope=row>x</th><td> 1</td><td>7731301284</td><td>7731301284</td><td>21.84507</td><td>6.762802e-05</td></tr>\n",
       "\t<tr><th scope=row>Residuals</th><td>28</td><td>9909622781</td><td> 353915099</td><td>      NA</td><td>          NA</td></tr>\n",
       "</tbody>\n",
       "</table>\n"
      ],
      "text/latex": [
       "A anova: 2 × 5\n",
       "\\begin{tabular}{r|lllll}\n",
       "  & Df & Sum Sq & Mean Sq & F value & Pr(>F)\\\\\n",
       "  & <int> & <dbl> & <dbl> & <dbl> & <dbl>\\\\\n",
       "\\hline\n",
       "\tx &  1 & 7731301284 & 7731301284 & 21.84507 & 6.762802e-05\\\\\n",
       "\tResiduals & 28 & 9909622781 &  353915099 &       NA &           NA\\\\\n",
       "\\end{tabular}\n"
      ],
      "text/markdown": [
       "\n",
       "A anova: 2 × 5\n",
       "\n",
       "| <!--/--> | Df &lt;int&gt; | Sum Sq &lt;dbl&gt; | Mean Sq &lt;dbl&gt; | F value &lt;dbl&gt; | Pr(&gt;F) &lt;dbl&gt; |\n",
       "|---|---|---|---|---|---|\n",
       "| x |  1 | 7731301284 | 7731301284 | 21.84507 | 6.762802e-05 |\n",
       "| Residuals | 28 | 9909622781 |  353915099 |       NA |           NA |\n",
       "\n"
      ],
      "text/plain": [
       "          Df Sum Sq     Mean Sq    F value  Pr(>F)      \n",
       "x          1 7731301284 7731301284 21.84507 6.762802e-05\n",
       "Residuals 28 9909622781  353915099       NA           NA"
      ]
     },
     "metadata": {},
     "output_type": "display_data"
    },
    {
     "data": {
      "text/html": [
       "18812.6313767291"
      ],
      "text/latex": [
       "18812.6313767291"
      ],
      "text/markdown": [
       "18812.6313767291"
      ],
      "text/plain": [
       "[1] 18812.63"
      ]
     },
     "metadata": {},
     "output_type": "display_data"
    }
   ],
   "source": [
    "SSR = b1 * SSXY\n",
    "\n",
    "sigma_hat = sqrt(SSE / (30 - 2))\n",
    "SSR\n",
    "SSE\n",
    "sigma_hat\n",
    "\n",
    "# confirmed with lm()\n",
    "anova(fit)\n",
    "summary(fit)$sigma\n"
   ]
  },
  {
   "cell_type": "markdown",
   "id": "8c2389d4-6171-47e0-9f2a-583746c25459",
   "metadata": {},
   "source": [
    "### 5. Scatterplot with Regression Line"
   ]
  },
  {
   "cell_type": "code",
   "execution_count": 5,
   "id": "81c5707c-3c33-4032-b720-6166dc6ce006",
   "metadata": {},
   "outputs": [
    {
     "data": {
      "image/png": "[encoded data removed]",
      "text/plain": [
       "Plot with title \"Price vs Age with OLS line\""
      ]
     },
     "metadata": {
      "image/png": {
       "height": 420,
       "width": 420
      }
     },
     "output_type": "display_data"
    }
   ],
   "source": [
    "plot(taycan$Age, taycan$Price, xlab=\"Age (years)\", ylab=\"Price ($)\",\n",
    "     main=\"Price vs Age with OLS line\")\n",
    "abline(b0, b1, lwd=2)"
   ]
  },
  {
   "cell_type": "markdown",
   "id": "744cf856-b92e-47de-8fbd-19bcd8922a87",
   "metadata": {},
   "source": [
    "### 6. Residual Plots"
   ]
  },
  {
   "cell_type": "code",
   "execution_count": 6,
   "id": "6949ede2-da9f-493f-abaf-79ef050fd178",
   "metadata": {},
   "outputs": [
    {
     "data": {
      "image/png": "[encoded data removed]",
      "text/plain": [
       "Plot with title \"Residuals vs Fitted\""
      ]
     },
     "metadata": {
      "image/png": {
       "height": 420,
       "width": 420
      }
     },
     "output_type": "display_data"
    },
    {
     "data": {
      "image/png": "[encoded data removed]",
      "text/plain": [
       "Plot with title \"Residual vs Age\""
      ]
     },
     "metadata": {
      "image/png": {
       "height": 420,
       "width": 420
      }
     },
     "output_type": "display_data"
    },
    {
     "data": {
      "image/png": "[encoded data removed]",
      "text/plain": [
       "Plot with title \"Normal Q-Q Plot\""
      ]
     },
     "metadata": {
      "image/png": {
       "height": 420,
       "width": 420
      }
     },
     "output_type": "display_data"
    },
    {
     "data": {
      "image/png": "[encoded data removed]",
      "text/plain": [
       "Plot with title \"Residuals histogram\""
      ]
     },
     "metadata": {
      "image/png": {
       "height": 420,
       "width": 420
      }
     },
     "output_type": "display_data"
    }
   ],
   "source": [
    "taycan$pred = predict(fit)      \n",
    "taycan$resid = residuals(fit)      \n",
    "taycan$std.resid = rstandard(fit)      \n",
    "taycan$stud.resid = rstudent(fit)      \n",
    "      \n",
    "      \n",
    "plot(taycan$pred, taycan$resid, pch=19, xlab=\"Fitted price\", ylab=\"Residual\",\n",
    "     main=\"Residuals vs Fitted\")      \n",
    "abline(h=0, lty=2)      \n",
    "      \n",
    "plot(taycan$Age, taycan$resid, pch=19, xlab=\"Age\", ylab=\"Residual\", \n",
    "     main=\"Residual vs Age\")      \n",
    "abline(h=0, lty=2)      \n",
    "      \n",
    "qqnorm(taycan$resid)      \n",
    "qqline(taycan$resid)      \n",
    "      \n",
    "hist(taycan$resid, main=\"Residuals histogram\", xlab=\"Residual\")      \n"
   ]
  },
  {
   "cell_type": "markdown",
   "id": "88f65fdc-d5bc-4fcd-9bf9-ec8df91026b6",
   "metadata": {},
   "source": [
    "<span style=\"color: blue;\">The first plot seems to be pretty randomly scattered around the line, so I'd say the condition for linearity is met.\n",
    "The second plot seems to be pretty randomly scattered around the line, so I'd say the condition for independence is met.\n",
    "The third plot seems to have some sort of pattern, so I don't think this meets the condition for normality. However, this data does seem to meet the condition for homoscedasticity, as there is a random scatter of points around zero with no discernible pattern.<span>"
   ]
  },
  {
   "cell_type": "markdown",
   "id": "4d0687dd-ca54-4be2-8e68-079a7f61f8dd",
   "metadata": {},
   "source": [
    "### 7. Largest residual"
   ]
  },
  {
   "cell_type": "code",
   "execution_count": 11,
   "id": "635b8535-3043-4052-bfe2-5b2cd8e7d1d5",
   "metadata": {},
   "outputs": [
    {
     "data": {
      "text/html": [
       "29"
      ],
      "text/latex": [
       "29"
      ],
      "text/markdown": [
       "29"
      ],
      "text/plain": [
       "[1] 29"
      ]
     },
     "metadata": {},
     "output_type": "display_data"
    },
    {
     "data": {
      "text/html": [
       "<table class=\"dataframe\">\n",
       "<caption>A data.frame: 1 × 8</caption>\n",
       "<thead>\n",
       "\t<tr><th></th><th scope=col>Age</th><th scope=col>Miles</th><th scope=col>Price</th><th scope=col>pred</th><th scope=col>resid</th><th scope=col>student</th><th scope=col>h</th><th scope=col>cook</th></tr>\n",
       "\t<tr><th></th><th scope=col>&lt;int&gt;</th><th scope=col>&lt;int&gt;</th><th scope=col>&lt;int&gt;</th><th scope=col>&lt;dbl&gt;</th><th scope=col>&lt;dbl&gt;</th><th scope=col>&lt;dbl&gt;</th><th scope=col>&lt;dbl&gt;</th><th scope=col>&lt;dbl&gt;</th></tr>\n",
       "</thead>\n",
       "<tbody>\n",
       "\t<tr><th scope=row>29</th><td>2</td><td>2902</td><td>154990</td><td>102627.5</td><td>52362.54</td><td>3.313004</td><td>0.04269663</td><td>0.1804707</td></tr>\n",
       "</tbody>\n",
       "</table>\n"
      ],
      "text/latex": [
       "A data.frame: 1 × 8\n",
       "\\begin{tabular}{r|llllllll}\n",
       "  & Age & Miles & Price & pred & resid & student & h & cook\\\\\n",
       "  & <int> & <int> & <int> & <dbl> & <dbl> & <dbl> & <dbl> & <dbl>\\\\\n",
       "\\hline\n",
       "\t29 & 2 & 2902 & 154990 & 102627.5 & 52362.54 & 3.313004 & 0.04269663 & 0.1804707\\\\\n",
       "\\end{tabular}\n"
      ],
      "text/markdown": [
       "\n",
       "A data.frame: 1 × 8\n",
       "\n",
       "| <!--/--> | Age &lt;int&gt; | Miles &lt;int&gt; | Price &lt;int&gt; | pred &lt;dbl&gt; | resid &lt;dbl&gt; | student &lt;dbl&gt; | h &lt;dbl&gt; | cook &lt;dbl&gt; |\n",
       "|---|---|---|---|---|---|---|---|---|\n",
       "| 29 | 2 | 2902 | 154990 | 102627.5 | 52362.54 | 3.313004 | 0.04269663 | 0.1804707 |\n",
       "\n"
      ],
      "text/plain": [
       "   Age Miles Price  pred     resid    student  h          cook     \n",
       "29 2   2902  154990 102627.5 52362.54 3.313004 0.04269663 0.1804707"
      ]
     },
     "metadata": {},
     "output_type": "display_data"
    }
   ],
   "source": [
    "max = which.max(abs(taycan$resid))\n",
    "max\n",
    "\n",
    "students = rstudent(fit)\n",
    "leverages = hatvalues(fit)\n",
    "cooks = cooks.distance(fit)\n",
    "\n",
    "taycan$student = students\n",
    "taycan$h = leverages\n",
    "taycan$cook = cooks\n",
    "\n",
    "taycan[max, c(\"Age\",\"Miles\",\"Price\",\"pred\",\"resid\",\"student\",\"h\",\"cook\")]\n"
   ]
  },
  {
   "cell_type": "markdown",
   "id": "6dfffb55-decb-4b51-8792-bb3d6c74278f",
   "metadata": {},
   "source": [
    "<span style=\"color: blue;\">The car with the largest residual is car #29. Its residual was 52,362.5, meaning its actual price was much higher than the model predicted. The studentized residual is 3.31, which is greater than 3, so it's considered unusual. The leverage value is 0.043, which is below the common cutoff of 4/n, so this car does not have unusually high leverage. Cook’s distance is 0.18, which is below the rough threshold of 4/n (about 0.13 with 29 cars), but still moderately large. This suggests the point is an outlier in price but not highly influential on the regression line.<span>"
   ]
  },
  {
   "cell_type": "markdown",
   "id": "45d82776-7e7b-4087-9219-1c74aa13d9b4",
   "metadata": {},
   "source": [
    "### 8. Compute and interpret a 90% confidence interval for the slope of your model."
   ]
  },
  {
   "cell_type": "code",
   "execution_count": 7,
   "id": "dd67484f-e27c-461a-9932-3fdf4f57fcd2",
   "metadata": {},
   "outputs": [
    {
     "data": {
      "text/html": [
       "<style>\n",
       ".list-inline {list-style: none; margin:0; padding: 0}\n",
       ".list-inline>li {display: inline-block}\n",
       ".list-inline>li:not(:last-child)::after {content: \"\\00b7\"; padding: 0 .5ex}\n",
       "</style>\n",
       "<ol class=list-inline><li>-13925.9717385428</li><li>-6493.84848617631</li></ol>\n"
      ],
      "text/latex": [
       "\\begin{enumerate*}\n",
       "\\item -13925.9717385428\n",
       "\\item -6493.84848617631\n",
       "\\end{enumerate*}\n"
      ],
      "text/markdown": [
       "1. -13925.9717385428\n",
       "2. -6493.84848617631\n",
       "\n",
       "\n"
      ],
      "text/plain": [
       "[1] -13925.972  -6493.848"
      ]
     },
     "metadata": {},
     "output_type": "display_data"
    }
   ],
   "source": [
    "se_b1 = summary(fit)$coefficients[2, 2]\n",
    "\n",
    "b1 = summary(fit)$coefficients[2, 1]\n",
    "\n",
    "n = nrow(taycan)\n",
    "tcrit = qt(0.95, df = n - 2)\n",
    "\n",
    "lower = b1 - tcrit * se_b1\n",
    "upper = b1 + tcrit * se_b1\n",
    "c(lower, upper)\n"
   ]
  },
  {
   "attachments": {},
   "cell_type": "markdown",
   "id": "c369496f-b456-4b8b-b3cb-7380b0446d0b",
   "metadata": {},
   "source": [
    "<span style=\"color: blue;\">We can be 90% confident that the true value of the slope is in between the range, -13077.08 to -7342.74. <span>"
   ]
  },
  {
   "cell_type": "markdown",
   "id": "bed9d98d-4876-4043-942b-e2ea1aad7a65",
   "metadata": {},
   "source": [
    "### 9. Compute the Value of r^2"
   ]
  },
  {
   "cell_type": "code",
   "execution_count": 13,
   "id": "515ca9b5-5c01-44cf-a3b7-b1478b3bac72",
   "metadata": {},
   "outputs": [
    {
     "data": {
      "text/html": [
       "0.438259427654321"
      ],
      "text/latex": [
       "0.438259427654321"
      ],
      "text/markdown": [
       "0.438259427654321"
      ],
      "text/plain": [
       "[1] 0.4382594"
      ]
     },
     "metadata": {},
     "output_type": "display_data"
    },
    {
     "data": {
      "text/html": [
       "0.438259427654321"
      ],
      "text/latex": [
       "0.438259427654321"
      ],
      "text/markdown": [
       "0.438259427654321"
      ],
      "text/plain": [
       "[1] 0.4382594"
      ]
     },
     "metadata": {},
     "output_type": "display_data"
    }
   ],
   "source": [
    "r = cor(taycan$Age, taycan$Price)\n",
    "r2_via_r = r^2\n",
    "r2_via_r\n",
    "\n",
    "\n",
    "anova_fit = anova(fit)\n",
    "\n",
    "SSR = anova_fit[1, \"Sum Sq\"]\n",
    "SSE = anova_fit[2, \"Sum Sq\"]\n",
    "SST = SSR + SSE\n",
    "\n",
    "r2_via_ss = SSR / SST\n",
    "r2_via_ss\n"
   ]
  },
  {
   "cell_type": "markdown",
   "id": "261eabed-1485-44d1-ae0c-c926f88bb0ca",
   "metadata": {},
   "source": [
    "<span style=\"color: blue;\">The coefficient of determination is R^2 = 0.438. This means that about 43.8% of the variation in used car prices can be explained by the age of the car in our model. The remaining variation is due to other factors not mentioned here, like mileage, condition, or location.<span>"
   ]
  },
  {
   "cell_type": "markdown",
   "id": "b11e001a-7bfe-45b0-8ae6-bfe25af747c4",
   "metadata": {},
   "source": [
    "### 10. Test the strengths of the linear relationsip."
   ]
  },
  {
   "cell_type": "code",
   "execution_count": 14,
   "id": "d813f671-9f5b-41f9-be85-728aabf7fcb3",
   "metadata": {},
   "outputs": [
    {
     "data": {
      "text/html": [
       "-4.67387133890146"
      ],
      "text/latex": [
       "-4.67387133890146"
      ],
      "text/markdown": [
       "-4.67387133890146"
      ],
      "text/plain": [
       "[1] -4.673871"
      ]
     },
     "metadata": {},
     "output_type": "display_data"
    },
    {
     "data": {
      "text/html": [
       "6.76280248163564e-05"
      ],
      "text/latex": [
       "6.76280248163564e-05"
      ],
      "text/markdown": [
       "6.76280248163564e-05"
      ],
      "text/plain": [
       "[1] 6.762802e-05"
      ]
     },
     "metadata": {},
     "output_type": "display_data"
    },
    {
     "data": {
      "text/html": [
       "-4.67387133890146"
      ],
      "text/latex": [
       "-4.67387133890146"
      ],
      "text/markdown": [
       "-4.67387133890146"
      ],
      "text/plain": [
       "[1] -4.673871"
      ]
     },
     "metadata": {},
     "output_type": "display_data"
    },
    {
     "data": {
      "text/html": [
       "6.7628024816357e-05"
      ],
      "text/latex": [
       "6.7628024816357e-05"
      ],
      "text/markdown": [
       "6.7628024816357e-05"
      ],
      "text/plain": [
       "[1] 6.762802e-05"
      ]
     },
     "metadata": {},
     "output_type": "display_data"
    },
    {
     "data": {
      "text/html": [
       "21.8450732926045"
      ],
      "text/latex": [
       "21.8450732926045"
      ],
      "text/markdown": [
       "21.8450732926045"
      ],
      "text/plain": [
       "[1] 21.84507"
      ]
     },
     "metadata": {},
     "output_type": "display_data"
    },
    {
     "data": {
      "text/html": [
       "6.7628024816357e-05"
      ],
      "text/latex": [
       "6.7628024816357e-05"
      ],
      "text/markdown": [
       "6.7628024816357e-05"
      ],
      "text/plain": [
       "[1] 6.762802e-05"
      ]
     },
     "metadata": {},
     "output_type": "display_data"
    }
   ],
   "source": [
    "r = cor(taycan$Age, taycan$Price)\n",
    "t_cor = r * sqrt((n-2) / (1 - r^2))\n",
    "p_cor = 2 * pt(-abs(t_cor), df=n-2)\n",
    "t_cor; p_cor\n",
    "\n",
    "\n",
    "\n",
    "t_slope = b1 / se_b1\n",
    "p_slope = 2 * pt(-abs(t_slope), df=n-2)\n",
    "t_slope; p_slope\n",
    "\n",
    "\n",
    "anova_fit = anova(fit)\n",
    "MSR = anova_fit[1, \"Mean Sq\"]\n",
    "MSE = anova_fit[2, \"Mean Sq\"]\n",
    "Fval = MSR / MSE\n",
    "p_F = pf(Fval, df1 = 1, df2 = n - 2, lower.tail = FALSE)\n",
    "Fval\n",
    "p_F"
   ]
  },
  {
   "cell_type": "markdown",
   "id": "fdd75077-6587-4f09-856e-18f6fdcc3309",
   "metadata": {},
   "source": [
    "<span style=\"color: blue;\">For all three tests (correlation, slope, and ANOVA), the results were consistent. The test statistics were large in magnitude (t=−4.67, F=21.85) and the p-values were extremely small (p ≈ 6.8 * 10^−5 ). Since the p-values are below 0.05, we reject the null hypothesis. There is strong evidence of a significant negative linear relationship between car age and price.<span>"
   ]
  },
  {
   "cell_type": "markdown",
   "id": "0e500d9f-e4bf-4f4f-95ab-e6f8a75df855",
   "metadata": {},
   "source": [
    "### 11. Choose a Particular Age"
   ]
  },
  {
   "cell_type": "code",
   "execution_count": 21,
   "id": "cda69aa3-5aec-4c01-8ae7-a1f921686614",
   "metadata": {},
   "outputs": [
    {
     "data": {
      "text/html": [
       "<dl>\n",
       "\t<dt>$Age</dt>\n",
       "\t\t<dd>3</dd>\n",
       "\t<dt>$Predicted_Value</dt>\n",
       "\t\t<dd>92417.55</dd>\n",
       "\t<dt>$CI90_for_Mean</dt>\n",
       "\t\t<dd><style>\n",
       ".dl-inline {width: auto; margin:0; padding: 0}\n",
       ".dl-inline>dt, .dl-inline>dd {float: none; width: auto; display: inline-block}\n",
       ".dl-inline>dt::after {content: \":\\0020\"; padding-right: .5ex}\n",
       ".dl-inline>dt:not(:first-of-type) {padding-left: .5ex}\n",
       "</style><dl class=dl-inline><dt>lower</dt><dd>86541.94</dd><dt>upper</dt><dd>98293.16</dd></dl>\n",
       "</dd>\n",
       "\t<dt>$PI90_for_Individual</dt>\n",
       "\t\t<dd><style>\n",
       ".dl-inline {width: auto; margin:0; padding: 0}\n",
       ".dl-inline>dt, .dl-inline>dd {float: none; width: auto; display: inline-block}\n",
       ".dl-inline>dt::after {content: \":\\0020\"; padding-right: .5ex}\n",
       ".dl-inline>dt:not(:first-of-type) {padding-left: .5ex}\n",
       "</style><dl class=dl-inline><dt>lower</dt><dd>59879.9</dd><dt>upper</dt><dd>124955.2</dd></dl>\n",
       "</dd>\n",
       "</dl>\n"
      ],
      "text/latex": [
       "\\begin{description}\n",
       "\\item[\\$Age] 3\n",
       "\\item[\\$Predicted\\_Value] 92417.55\n",
       "\\item[\\$CI90\\_for\\_Mean] \\begin{description*}\n",
       "\\item[lower] 86541.94\n",
       "\\item[upper] 98293.16\n",
       "\\end{description*}\n",
       "\n",
       "\\item[\\$PI90\\_for\\_Individual] \\begin{description*}\n",
       "\\item[lower] 59879.9\n",
       "\\item[upper] 124955.2\n",
       "\\end{description*}\n",
       "\n",
       "\\end{description}\n"
      ],
      "text/markdown": [
       "$Age\n",
       ":   3\n",
       "$Predicted_Value\n",
       ":   92417.55\n",
       "$CI90_for_Mean\n",
       ":   lower\n",
       ":   86541.94upper\n",
       ":   98293.16\n",
       "\n",
       "\n",
       "$PI90_for_Individual\n",
       ":   lower\n",
       ":   59879.9upper\n",
       ":   124955.2\n",
       "\n",
       "\n",
       "\n",
       "\n"
      ],
      "text/plain": [
       "$Age\n",
       "[1] 3\n",
       "\n",
       "$Predicted_Value\n",
       "[1] 92417.55\n",
       "\n",
       "$CI90_for_Mean\n",
       "   lower    upper \n",
       "86541.94 98293.16 \n",
       "\n",
       "$PI90_for_Individual\n",
       "   lower    upper \n",
       " 59879.9 124955.2 \n"
      ]
     },
     "metadata": {},
     "output_type": "display_data"
    }
   ],
   "source": [
    "age0 = 3\n",
    "yhat = predict(fit, newdata=data.frame(Age=age0), se.fit=TRUE)\n",
    "\n",
    "pred_value = as.numeric(yhat$fit)\n",
    "se_mean = as.numeric(yhat$se.fit)\n",
    "\n",
    "tcrit = qt(0.95, n-2)\n",
    "\n",
    "lower_mean = pred_value - tcrit * se_mean\n",
    "upper_mean = pred_value + tcrit * se_mean\n",
    "\n",
    "pred_se_for_individual = sqrt( yhat$se.fit^2 + summary(fit)$sigma^2 )\n",
    "lower_pred = pred_value - tcrit * pred_se_for_individual\n",
    "upper_pred = pred_value + tcrit * pred_se_for_individual\n",
    "\n",
    "list(\n",
    "  Age = age0,\n",
    "  Predicted_Value = round(pred_value, 2),\n",
    "  CI90_for_Mean = c(lower=round(lower_mean, 2), upper=round(upper_mean, 2)),\n",
    "  PI90_for_Individual = c(lower=round(lower_pred, 2), upper=round(upper_pred, 2))\n",
    ")\n",
    "\n"
   ]
  },
  {
   "cell_type": "markdown",
   "id": "5412715e-64d8-4dc0-8deb-674ece9aba31",
   "metadata": {},
   "source": [
    "<span style=\"color: blue;\">For a 3-year-old car, the model predicts an average price of about 24,170. The 90% confidence interval for the mean price is 19,440 to 29,316, while the 90% prediction interval for an individual car’s price is 9,900 to 24,955. This shows that the average can be estimated pretty accurately, but individual cars may vary much more.<span>"
   ]
  },
  {
   "cell_type": "markdown",
   "id": "1c0e5883-f9b4-4b2b-8f36-e7a59d88fed3",
   "metadata": {},
   "source": [
    "### 12. Free Car Phenomenon "
   ]
  },
  {
   "cell_type": "code",
   "execution_count": 40,
   "id": "59a849a6-ce44-4845-b6cb-defdae2ef2b8",
   "metadata": {},
   "outputs": [
    {
     "data": {
      "text/html": [
       "12.0517494569057"
      ],
      "text/latex": [
       "12.0517494569057"
      ],
      "text/markdown": [
       "12.0517494569057"
      ],
      "text/plain": [
       "[1] 12.05175"
      ]
     },
     "metadata": {},
     "output_type": "display_data"
    }
   ],
   "source": [
    "free_age = -b0 / b1\n",
    "free_age"
   ]
  },
  {
   "cell_type": "markdown",
   "id": "11911f05-1832-40a7-a913-3ed1e7c1a348",
   "metadata": {},
   "source": [
    "<span style=\"color: blue;\">This suggests that a linear model might not be completely accurate, as the price would have to plateau at some point. A car (and especially not a Porsche) wouldn't just free, even if it was 12 years old.<span>"
   ]
  },
  {
   "cell_type": "markdown",
   "id": "df5cbff4-1dc0-4301-821c-5cc8a73ae598",
   "metadata": {},
   "source": [
    "### 13. Conclusion"
   ]
  },
  {
   "cell_type": "markdown",
   "id": "1fc81d29-36d4-481e-a735-481c770a6903",
   "metadata": {},
   "source": [
    "<span style=\"color: blue;\">Overall, the linear model does a pretty good job of describing how car prices decrease with age. The negative slope makes sense, since cars generally lose value over time, and the R² value shows that a decent portion of the variation in prices is explained by age alone. However, there are still other factors that could imapct the price like mileage, condition, or seller differences. A few cars had unusually large residuals, but they didn't affect the model too much. The Residual plots showed that even though the relationship is mostly linear, the spread of residuals increases for older cars. This makes it more difficult to predict price once cars reach a certain age. This could just be because there weren't that many older cars in my data set, as they were less available on cars.com.<span>"
   ]
  }
 ],
 "metadata": {
  "kernelspec": {
   "display_name": "R",
   "language": "R",
   "name": "ir"
  },
  "language_info": {
   "codemirror_mode": "r",
   "file_extension": ".r",
   "mimetype": "text/x-r-source",
   "name": "R",
   "pygments_lexer": "r",
   "version": "4.5.1"
  }
 },
 "nbformat": 4,
 "nbformat_minor": 5
}
