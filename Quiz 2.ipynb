{
 "cells": [
  {
   "cell_type": "markdown",
   "id": "a1a345b5-b6d0-4c1e-a9fd-abd4a3a4cb77",
   "metadata": {},
   "source": [
    "### Question 1 Part a"
   ]
  },
  {
   "cell_type": "code",
   "execution_count": 9,
   "id": "850e76df-fa98-442f-8249-b6bc5c5670b0",
   "metadata": {},
   "outputs": [],
   "source": [
    "infant <- read.csv(\"InfantMortality.csv\")"
   ]
  },
  {
   "cell_type": "code",
   "execution_count": 10,
   "id": "0d32a924-6b71-4dc9-8ee8-0973ed3f864a",
   "metadata": {},
   "outputs": [
    {
     "data": {
      "text/html": [
       "<table class=\"dataframe\">\n",
       "<caption>A data.frame: 6 × 2</caption>\n",
       "<thead>\n",
       "\t<tr><th></th><th scope=col>Mortality</th><th scope=col>Year</th></tr>\n",
       "\t<tr><th></th><th scope=col>&lt;dbl&gt;</th><th scope=col>&lt;int&gt;</th></tr>\n",
       "</thead>\n",
       "<tbody>\n",
       "\t<tr><th scope=row>1</th><td>85.8</td><td>1920</td></tr>\n",
       "\t<tr><th scope=row>2</th><td>64.6</td><td>1930</td></tr>\n",
       "\t<tr><th scope=row>3</th><td>47.0</td><td>1940</td></tr>\n",
       "\t<tr><th scope=row>4</th><td>29.2</td><td>1950</td></tr>\n",
       "\t<tr><th scope=row>5</th><td>26.0</td><td>1960</td></tr>\n",
       "\t<tr><th scope=row>6</th><td>20.0</td><td>1970</td></tr>\n",
       "</tbody>\n",
       "</table>\n"
      ],
      "text/latex": [
       "A data.frame: 6 × 2\n",
       "\\begin{tabular}{r|ll}\n",
       "  & Mortality & Year\\\\\n",
       "  & <dbl> & <int>\\\\\n",
       "\\hline\n",
       "\t1 & 85.8 & 1920\\\\\n",
       "\t2 & 64.6 & 1930\\\\\n",
       "\t3 & 47.0 & 1940\\\\\n",
       "\t4 & 29.2 & 1950\\\\\n",
       "\t5 & 26.0 & 1960\\\\\n",
       "\t6 & 20.0 & 1970\\\\\n",
       "\\end{tabular}\n"
      ],
      "text/markdown": [
       "\n",
       "A data.frame: 6 × 2\n",
       "\n",
       "| <!--/--> | Mortality &lt;dbl&gt; | Year &lt;int&gt; |\n",
       "|---|---|---|\n",
       "| 1 | 85.8 | 1920 |\n",
       "| 2 | 64.6 | 1930 |\n",
       "| 3 | 47.0 | 1940 |\n",
       "| 4 | 29.2 | 1950 |\n",
       "| 5 | 26.0 | 1960 |\n",
       "| 6 | 20.0 | 1970 |\n",
       "\n"
      ],
      "text/plain": [
       "  Mortality Year\n",
       "1 85.8      1920\n",
       "2 64.6      1930\n",
       "3 47.0      1940\n",
       "4 29.2      1950\n",
       "5 26.0      1960\n",
       "6 20.0      1970"
      ]
     },
     "metadata": {},
     "output_type": "display_data"
    }
   ],
   "source": [
    "head(infant)"
   ]
  },
  {
   "cell_type": "code",
   "execution_count": 11,
   "id": "8fa85ae5-61cf-4b1a-96ab-785bef7471df",
   "metadata": {},
   "outputs": [
    {
     "data": {
      "image/png": "[encoded data removed]",
      "text/plain": [
       "Plot with title \"Infant Mortality vs Year\""
      ]
     },
     "metadata": {
      "image/png": {
       "height": 420,
       "width": 420
      }
     },
     "output_type": "display_data"
    }
   ],
   "source": [
    "plot(infant$Year, infant$Mortality,\n",
    "     main=\"Infant Mortality vs Year\",\n",
    "     xlab=\"Year\", ylab=\"Mortality (per 100,000)\")"
   ]
  },
  {
   "cell_type": "code",
   "execution_count": 12,
   "id": "430c3593-a90d-425e-b491-4eba1fac8833",
   "metadata": {},
   "outputs": [
    {
     "data": {
      "text/plain": [
       "\n",
       "Call:\n",
       "lm(formula = log(Mortality) ~ Year, data = infant)\n",
       "\n",
       "Residuals:\n",
       "      Min        1Q    Median        3Q       Max \n",
       "-0.139593 -0.031867 -0.003877  0.023107  0.113316 \n",
       "\n",
       "Coefficients:\n",
       "              Estimate Std. Error t value Pr(>|t|)    \n",
       "(Intercept) 65.0699354  1.8910455   34.41 4.54e-09 ***\n",
       "Year        -0.0315673  0.0009647  -32.72 6.44e-09 ***\n",
       "---\n",
       "Signif. codes:  0 '***' 0.001 '**' 0.01 '*' 0.05 '.' 0.1 ' ' 1\n",
       "\n",
       "Residual standard error: 0.07473 on 7 degrees of freedom\n",
       "Multiple R-squared:  0.9935,\tAdjusted R-squared:  0.9926 \n",
       "F-statistic:  1071 on 1 and 7 DF,  p-value: 6.444e-09\n"
      ]
     },
     "metadata": {},
     "output_type": "display_data"
    },
    {
     "data": {
      "image/png": "[encoded data removed]",
      "text/plain": [
       "Plot with title \"Log(Mortality) vs Year\""
      ]
     },
     "metadata": {
      "image/png": {
       "height": 420,
       "width": 420
      }
     },
     "output_type": "display_data"
    }
   ],
   "source": [
    "fit_logY <- lm(log(Mortality) ~ Year, data=infant)\n",
    "summary(fit_logY)\n",
    "\n",
    "plot(infant$Year, log(infant$Mortality),\n",
    "     main=\"Log(Mortality) vs Year\",\n",
    "     xlab=\"Year\", ylab=\"log(Mortality)\")\n",
    "abline(fit_logY, col=\"blue\")"
   ]
  },
  {
   "cell_type": "markdown",
   "id": "5a29daaf-40c0-44d1-bd67-3cef380caa9f",
   "metadata": {},
   "source": [
    "<span style=\"color: blue;\">$$\\log(\\text{Mortality}) = 65.07 - 0.0316 \\cdot \\text{Year}$$<span>"
   ]
  },
  {
   "cell_type": "markdown",
   "id": "dcef6427-11bc-4879-be08-d8be2a04a5fd",
   "metadata": {},
   "source": [
    "### Question 1 Part b"
   ]
  },
  {
   "cell_type": "code",
   "execution_count": 20,
   "id": "b9ea6f76-51bc-4e86-9a5d-e9ea8c0b9976",
   "metadata": {},
   "outputs": [
    {
     "data": {
      "text/html": [
       "<strong>1:</strong> 5.21371552565181"
      ],
      "text/latex": [
       "\\textbf{1:} 5.21371552565181"
      ],
      "text/markdown": [
       "**1:** 5.21371552565181"
      ],
      "text/plain": [
       "       1 \n",
       "5.213716 "
      ]
     },
     "metadata": {},
     "output_type": "display_data"
    }
   ],
   "source": [
    "newdata <- data.frame(Year = 2009)\n",
    "pred_log <- predict(fit_logY, newdata)\n",
    "\n",
    "pred_mortality <- exp(pred_log)\n",
    "pred_mortality"
   ]
  },
  {
   "cell_type": "markdown",
   "id": "07d0048e-5285-4fa0-84a6-91df2b063805",
   "metadata": {},
   "source": [
    "### Question 2"
   ]
  },
  {
   "cell_type": "code",
   "execution_count": 19,
   "id": "976aaf63-e7e8-47ba-92e5-0e6d6b77874e",
   "metadata": {},
   "outputs": [
    {
     "data": {
      "text/plain": [
       "\n",
       "Call:\n",
       "lm(formula = GPA ~ VerbalSAT, data = satgpa)\n",
       "\n",
       "Residuals:\n",
       "     Min       1Q   Median       3Q      Max \n",
       "-0.62002 -0.25932  0.03885  0.20502  0.51621 \n",
       "\n",
       "Coefficients:\n",
       "             Estimate Std. Error t value Pr(>|t|)    \n",
       "(Intercept) 2.6042036  0.4377919   5.948  5.5e-06 ***\n",
       "VerbalSAT   0.0009056  0.0007659   1.182     0.25    \n",
       "---\n",
       "Signif. codes:  0 '***' 0.001 '**' 0.01 '*' 0.05 '.' 0.1 ' ' 1\n",
       "\n",
       "Residual standard error: 0.3154 on 22 degrees of freedom\n",
       "Multiple R-squared:  0.05976,\tAdjusted R-squared:  0.01702 \n",
       "F-statistic: 1.398 on 1 and 22 DF,  p-value: 0.2496\n"
      ]
     },
     "metadata": {},
     "output_type": "display_data"
    }
   ],
   "source": [
    "satgpa <- read.csv(\"SATGPA.csv\")\n",
    "\n",
    "fit <- lm(GPA ~ VerbalSAT, data = satgpa)\n",
    "\n",
    "summary(fit)"
   ]
  },
  {
   "cell_type": "markdown",
   "id": "72fd7e15-5d97-467e-a470-66fd13e379cc",
   "metadata": {},
   "source": [
    "<span style=\"color: blue;\">I used a linear regression t-test on the slope to check if VerbalSAT is linearly related to GPA. The hypotheses were \n",
    "\n",
    "<span style=\"color: blue;\">H0: β1 = 0 (no linear relationship) \n",
    "\n",
    "<span style=\"color: blue;\">Ha: β1 ≠ 0 (linear relationship). \n",
    "\n",
    "<span style=\"color: blue;\">From the regression output, the test statistic for VerbalSAT is t = 1.182 with a p-value of 0.25. Since the p-value is much larger than 0.05, we fail to reject the null hypothesis. There is not enough evidence to conclude that VerbalSAT and GPA are linearly related for this sample of students.<span>"
   ]
  },
  {
   "cell_type": "markdown",
   "id": "674e212a-2e8e-499b-a029-033d34046f7c",
   "metadata": {},
   "source": [
    "### Question 3 Part a"
   ]
  },
  {
   "cell_type": "markdown",
   "id": "be800317-a9e6-4719-a44e-7a5ae6173857",
   "metadata": {},
   "source": [
    "<span style=\"color: blue;\">The estimated slope is 1.92. This means that, on average, for each additional minute of walking time on a hike, the elevation gain increases by about 1.92 feet.<span>"
   ]
  },
  {
   "cell_type": "markdown",
   "id": "3fe69b85-7dc8-4856-9403-2c83e21f7b2e",
   "metadata": {},
   "source": [
    "### Question 3 Part b"
   ]
  },
  {
   "cell_type": "code",
   "execution_count": 23,
   "id": "f88ef817-6172-4197-ae7f-fbdb2bd9f8da",
   "metadata": {},
   "outputs": [
    {
     "data": {
      "text/html": [
       "<style>\n",
       ".list-inline {list-style: none; margin:0; padding: 0}\n",
       ".list-inline>li {display: inline-block}\n",
       ".list-inline>li:not(:last-child)::after {content: \"\\00b7\"; padding: 0 .5ex}\n",
       "</style>\n",
       "<ol class=list-inline><li>0.877178376246311</li><li>2.96182162375369</li></ol>\n"
      ],
      "text/latex": [
       "\\begin{enumerate*}\n",
       "\\item 0.877178376246311\n",
       "\\item 2.96182162375369\n",
       "\\end{enumerate*}\n"
      ],
      "text/markdown": [
       "1. 0.877178376246311\n",
       "2. 2.96182162375369\n",
       "\n",
       "\n"
      ],
      "text/plain": [
       "[1] 0.8771784 2.9618216"
      ]
     },
     "metadata": {},
     "output_type": "display_data"
    }
   ],
   "source": [
    "b <- 1.9195\n",
    "se <- 0.6253\n",
    "\n",
    "df <- 72 - 2\n",
    "alpha <- 0.10\n",
    "t_crit <- qt(1 - alpha/2, df)\n",
    "\n",
    "lower <- b - t_crit * se\n",
    "upper <- b + t_crit * se\n",
    "\n",
    "c(lower, upper)"
   ]
  },
  {
   "cell_type": "markdown",
   "id": "8bbf110f-2334-482d-b408-cd42271d2651",
   "metadata": {},
   "source": [
    "### Question 3 Part c"
   ]
  },
  {
   "cell_type": "markdown",
   "id": "8466e856-2d46-4632-ab7e-0df917b6af9a",
   "metadata": {},
   "source": [
    "<span style=\"color: blue;\">R^2 = 0.119, which means that about 11.9% of the variability in elevation gain among these hikes can be explained by the walking time. The remaining 88.1% of the variation is due to other factors not included in the model.<span>"
   ]
  },
  {
   "cell_type": "markdown",
   "id": "527a346a-dbcc-4060-98af-c27ef8e6a833",
   "metadata": {},
   "source": [
    "### Question 4 Model A"
   ]
  },
  {
   "cell_type": "markdown",
   "id": "3cfe1ce3-4afc-4b4b-9637-7fffb2d72a3f",
   "metadata": {},
   "source": [
    "<span style=\"color: blue;\">Linearity: The residuals have a strong curvature with the middle section all being below 0 -> Problematic.\n",
    "\n",
    "<span style=\"color: blue;\">Equal variance: The spread of residuals doesn't look constant across fitted values -> Problematic.\n",
    "\n",
    "<span style=\"color: blue;\">Normality: We can’t judge normality from a residual vs. fitted plot; we would need a Q-Q plot or histogram -> Can’t judge.\n",
    "\n",
    "<span style=\"color: blue;\">Independence: A residual vs. fitted plot does not show correlation over time/order -> Can’t judge."
   ]
  },
  {
   "cell_type": "markdown",
   "id": "8cb06fd1-6d85-4020-9088-059f0334ae22",
   "metadata": {},
   "source": [
    "### Question 4 Model B"
   ]
  },
  {
   "cell_type": "markdown",
   "id": "79c961e2-cc9a-4c37-980b-0d0417cc3166",
   "metadata": {},
   "source": [
    "<span style=\"color: blue;\">Linearity: This plot is for normality, not for checking linearity → Can’t judge.\n",
    "\n",
    "<span style=\"color: blue;\">Equal variance: Equal variance can't be seen from a Q-Q plot → Can’t judge.\n",
    "\n",
    "<span style=\"color: blue;\">Normality: The points follow the line in the middle, but at the right and left ends, it curves up → Problematic.\n",
    "\n",
    "<span style=\"color: blue;\">Independence: Can’t be assessed from a Q-Q plot → Can’t judge."
   ]
  },
  {
   "cell_type": "markdown",
   "id": "3ed17baf-1d3f-41af-b73f-860214ca3f9c",
   "metadata": {},
   "source": [
    "### Question 5"
   ]
  },
  {
   "cell_type": "markdown",
   "id": "92411649-1192-4d8e-bedb-5ea15099e671",
   "metadata": {},
   "source": [
    "<span style=\"color: blue;\">Goal:\n",
    "$$\n",
    "\\frac{\\widehat\\beta_1}{\\operatorname{SE}(\\widehat\\beta_1)}\n",
    "= \\frac{r\\sqrt{n-2}}{\\sqrt{1-r^2}}.\n",
    "$$\n",
    "\n",
    "<span style=\"color: blue;\">Step 1. Define sums of squares:\n",
    "$$\n",
    "S_{xx} = \\sum_{i}(x_i-\\bar x)^2, \\quad\n",
    "S_{yy} = \\sum_{i}(y_i-\\bar y)^2, \\quad\n",
    "S_{xy} = \\sum_{i}(x_i-\\bar x)(y_i-\\bar y).\n",
    "$$\n",
    "\n",
    "<span style=\"color: blue;\">Step 2. Define correlation and slope:\n",
    "$$\n",
    "r = \\frac{S_{xy}}{\\sqrt{S_{xx}S_{yy}}}, \\quad\n",
    "\\widehat\\beta_1 = \\frac{S_{xy}}{S_{xx}}.\n",
    "$$\n",
    "\n",
    "<span style=\"color: blue;\">Step 3. Error variance and SE of slope:\n",
    "$$\n",
    "s_e^2 = \\frac{\\text{SSE}}{n-2}\n",
    "= \\frac{S_{yy} - \\widehat\\beta_1 S_{xy}}{n-2},\n",
    "$$\n",
    "$$\n",
    "\\operatorname{SE}(\\widehat\\beta_1) = \\sqrt{\\frac{s_e^2}{S_{xx}}}.\n",
    "$$\n",
    "\n",
    "<span style=\"color: blue;\">Step 4. t-statistic for slope:\n",
    "$$\n",
    "t = \\frac{\\widehat\\beta_1}{\\operatorname{SE}(\\widehat\\beta_1)}\n",
    "= \\frac{\\widehat\\beta_1 \\sqrt{S_{xx}}}{s_e}.\n",
    "$$\n",
    "\n",
    "<span style=\"color: blue;\">Step 5. Substitute definitions:\n",
    "$$\n",
    "t = \\frac{\\tfrac{S_{xy}}{S_{xx}} \\sqrt{S_{xx}}}\n",
    "{\\sqrt{\\dfrac{S_{yy} - \\tfrac{S_{xy}^2}{S_{xx}}}{n-2}}}\n",
    "= \\frac{S_{xy}\\sqrt{n-2}}{\\sqrt{S_{xx}S_{yy} - S_{xy}^2}}.\n",
    "$$\n",
    "\n",
    "<span style=\"color: blue;\">Step 6. Replace $S_{xy} = r\\sqrt{S_{xx}S_{yy}}$:\n",
    "$$\n",
    "t = \\frac{r\\sqrt{S_{xx}S_{yy}} \\sqrt{n-2}}\n",
    "{\\sqrt{S_{xx}S_{yy}(1-r^2)}}.\n",
    "$$\n",
    "\n",
    "<span style=\"color: blue;\">Final Result:\n",
    "$$\n",
    "t = \\frac{r\\sqrt{n-2}}{\\sqrt{1-r^2}}.\n",
    "$$\n"
   ]
  },
  {
   "cell_type": "code",
   "execution_count": null,
   "id": "13ceed32-9a61-4ac3-bcd5-810301ab55af",
   "metadata": {},
   "outputs": [],
   "source": []
  }
 ],
 "metadata": {
  "kernelspec": {
   "display_name": "R",
   "language": "R",
   "name": "ir"
  },
  "language_info": {
   "codemirror_mode": "r",
   "file_extension": ".r",
   "mimetype": "text/x-r-source",
   "name": "R",
   "pygments_lexer": "r",
   "version": "4.5.1"
  }
 },
 "nbformat": 4,
 "nbformat_minor": 5
}
