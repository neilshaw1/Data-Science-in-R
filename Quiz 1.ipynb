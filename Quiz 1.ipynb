{
 "cells": [
  {
   "cell_type": "markdown",
   "id": "b6ca3320-363f-40b7-bbd4-a7d20867c18d",
   "metadata": {},
   "source": [
    "# Quiz 1"
   ]
  },
  {
   "cell_type": "markdown",
   "id": "fd3fedf6-b733-487b-9fa7-d728f7401ad9",
   "metadata": {},
   "source": [
    "## Question 1"
   ]
  },
  {
   "cell_type": "markdown",
   "id": "26202d3e-4c92-4282-ad36-8635b2fe7e6a",
   "metadata": {},
   "source": [
    "### Question 1a"
   ]
  },
  {
   "cell_type": "code",
   "execution_count": 3,
   "id": "f731672b-803e-40ee-9323-80ae0150b123",
   "metadata": {},
   "outputs": [
    {
     "data": {
      "text/plain": [
       "\n",
       "Call:\n",
       "lm(formula = Time ~ Ascent, data = HighPeaks)\n",
       "\n",
       "Residuals:\n",
       "   Min     1Q Median     3Q    Max \n",
       "-4.327 -2.075 -0.150  1.414  6.529 \n",
       "\n",
       "Coefficients:\n",
       "             Estimate Std. Error t value Pr(>|t|)   \n",
       "(Intercept) 4.2100541  1.8661683   2.256  0.02909 * \n",
       "Ascent      0.0020805  0.0005909   3.521  0.00101 **\n",
       "---\n",
       "Signif. codes:  0 '***' 0.001 '**' 0.01 '*' 0.05 '.' 0.1 ' ' 1\n",
       "\n",
       "Residual standard error: 2.496 on 44 degrees of freedom\n",
       "Multiple R-squared:  0.2198,\tAdjusted R-squared:  0.2021 \n",
       "F-statistic:  12.4 on 1 and 44 DF,  p-value: 0.001014\n"
      ]
     },
     "metadata": {},
     "output_type": "display_data"
    }
   ],
   "source": [
    "HighPeaks = read.csv(\"HighPeaks.csv\")\n",
    "model_ascent = lm(Time ~ Ascent, data = HighPeaks)\n",
    "summary(model_ascent)"
   ]
  },
  {
   "cell_type": "markdown",
   "id": "d9fcf852-0bc6-4481-9a27-fe880a4704ad",
   "metadata": {},
   "source": [
    "<span style=\"color: blue;\">The test for whether Ascent is related to Time gives a slope t = 3.52 with a P-value of 0.001. Since this is much less than 0.05, we reject the null hypothesis and conclude that Ascent is significantly related to hiking Time.<span>"
   ]
  },
  {
   "cell_type": "markdown",
   "id": "6d167c92-c8a1-4402-a044-01a6b0b4f4da",
   "metadata": {},
   "source": [
    "### Question 1b"
   ]
  },
  {
   "cell_type": "markdown",
   "id": "5c31ebcf-12cd-4941-8810-dd05d723728b",
   "metadata": {},
   "source": [
    "<span style=\"color: blue;\">The slope means that for each extra foot of Ascent, expected hiking Time increases by 0.002 hours<span>"
   ]
  },
  {
   "cell_type": "markdown",
   "id": "702056ad-5c91-4007-8759-115748010c37",
   "metadata": {},
   "source": [
    "### Question 1c"
   ]
  },
  {
   "cell_type": "code",
   "execution_count": 7,
   "id": "17f2003c-e0b3-48ad-8a14-1610e06dd464",
   "metadata": {},
   "outputs": [
    {
     "data": {
      "text/html": [
       "<table class=\"dataframe\">\n",
       "<caption>A matrix: 2 × 2 of type dbl</caption>\n",
       "<thead>\n",
       "\t<tr><th></th><th scope=col>2.5 %</th><th scope=col>97.5 %</th></tr>\n",
       "</thead>\n",
       "<tbody>\n",
       "\t<tr><th scope=row>(Intercept)</th><td>0.4490389766</td><td>7.971069312</td></tr>\n",
       "\t<tr><th scope=row>Ascent</th><td>0.0008897376</td><td>0.003271313</td></tr>\n",
       "</tbody>\n",
       "</table>\n"
      ],
      "text/latex": [
       "A matrix: 2 × 2 of type dbl\n",
       "\\begin{tabular}{r|ll}\n",
       "  & 2.5 \\% & 97.5 \\%\\\\\n",
       "\\hline\n",
       "\t(Intercept) & 0.4490389766 & 7.971069312\\\\\n",
       "\tAscent & 0.0008897376 & 0.003271313\\\\\n",
       "\\end{tabular}\n"
      ],
      "text/markdown": [
       "\n",
       "A matrix: 2 × 2 of type dbl\n",
       "\n",
       "| <!--/--> | 2.5 % | 97.5 % |\n",
       "|---|---|---|\n",
       "| (Intercept) | 0.4490389766 | 7.971069312 |\n",
       "| Ascent | 0.0008897376 | 0.003271313 |\n",
       "\n"
      ],
      "text/plain": [
       "            2.5 %        97.5 %     \n",
       "(Intercept) 0.4490389766 7.971069312\n",
       "Ascent      0.0008897376 0.003271313"
      ]
     },
     "metadata": {},
     "output_type": "display_data"
    }
   ],
   "source": [
    "confint(model_ascent)"
   ]
  },
  {
   "cell_type": "markdown",
   "id": "06b14243-d795-45a3-8adc-fa0b00dc7b61",
   "metadata": {},
   "source": [
    "### Question 1d"
   ]
  },
  {
   "cell_type": "code",
   "execution_count": 8,
   "id": "2c174f48-88ab-48e5-8300-c1a4e4bdfe8c",
   "metadata": {},
   "outputs": [
    {
     "data": {
      "text/html": [
       "<table class=\"dataframe\">\n",
       "<caption>A matrix: 1 × 3 of type dbl</caption>\n",
       "<thead>\n",
       "\t<tr><th></th><th scope=col>fit</th><th scope=col>lwr</th><th scope=col>upr</th></tr>\n",
       "</thead>\n",
       "<tbody>\n",
       "\t<tr><th scope=row>1</th><td>10.45163</td><td>5.365099</td><td>15.53816</td></tr>\n",
       "</tbody>\n",
       "</table>\n"
      ],
      "text/latex": [
       "A matrix: 1 × 3 of type dbl\n",
       "\\begin{tabular}{r|lll}\n",
       "  & fit & lwr & upr\\\\\n",
       "\\hline\n",
       "\t1 & 10.45163 & 5.365099 & 15.53816\\\\\n",
       "\\end{tabular}\n"
      ],
      "text/markdown": [
       "\n",
       "A matrix: 1 × 3 of type dbl\n",
       "\n",
       "| <!--/--> | fit | lwr | upr |\n",
       "|---|---|---|---|\n",
       "| 1 | 10.45163 | 5.365099 | 15.53816 |\n",
       "\n"
      ],
      "text/plain": [
       "  fit      lwr      upr     \n",
       "1 10.45163 5.365099 15.53816"
      ]
     },
     "metadata": {},
     "output_type": "display_data"
    }
   ],
   "source": [
    "predict(model_ascent, newdata = data.frame(Ascent = 3000), \n",
    "        interval = \"prediction\", level = 0.95)"
   ]
  },
  {
   "cell_type": "markdown",
   "id": "c96c6922-8260-46ee-baf7-94b476a64d2d",
   "metadata": {},
   "source": [
    "### Question 1e"
   ]
  },
  {
   "cell_type": "code",
   "execution_count": 14,
   "id": "2b78ed01-165e-4bb4-ae2f-7611adc561f5",
   "metadata": {},
   "outputs": [
    {
     "name": "stdout",
     "output_type": "stream",
     "text": [
      "The magnitude of the largest standardized residual is: 2.656208\n",
      "There does appear two be two unusually large residual values above 2"
     ]
    },
    {
     "data": {
      "image/png": "[encoded data removed]",
      "text/plain": [
       "plot without title"
      ]
     },
     "metadata": {
      "image/png": {
       "height": 420,
       "width": 420
      }
     },
     "output_type": "display_data"
    }
   ],
   "source": [
    "std_resid = rstandard(model_ascent)\n",
    "plot(fitted(model_ascent), std_resid, xlab = \"Fitted values\", \n",
    "     ylab = \"Standardized Residuals\")\n",
    "abline(h = c(-2, 2), col = \"red\", lty = 2)\n",
    "cat(\"The magnitude of the largest standardized residual is:\", max(abs(std_resid)))\n",
    "cat(\"\\nThere does appear two be two unusually large residual values above 2\")"
   ]
  },
  {
   "cell_type": "markdown",
   "id": "7ccb8c6b-0baf-416d-9e7d-ec15aaa4dac3",
   "metadata": {},
   "source": [
    "## Question 2"
   ]
  },
  {
   "cell_type": "markdown",
   "id": "4436427e-62f1-417b-ac99-1a02f7ace7ca",
   "metadata": {},
   "source": [
    "### Question 2a"
   ]
  },
  {
   "cell_type": "code",
   "execution_count": 31,
   "id": "a4e3a3a5-4070-498e-a19d-f604c164d8d1",
   "metadata": {},
   "outputs": [
    {
     "data": {
      "image/png": "[encoded data removed]",
      "text/plain": [
       "Plot with title \"Lack of Linearity\""
      ]
     },
     "metadata": {
      "image/png": {
       "height": 420,
       "width": 420
      }
     },
     "output_type": "display_data"
    }
   ],
   "source": [
    "x = seq(0, 10, length=50)\n",
    "y_curve = x^3.141592653589793238462643383279502 + rnorm(50, 0, 5)\n",
    "plot(x, y_curve, main=\"Lack of Linearity\")"
   ]
  },
  {
   "cell_type": "markdown",
   "id": "99a642d0-992d-423d-95ee-bc400cceae68",
   "metadata": {},
   "source": [
    "### Question 2b"
   ]
  },
  {
   "cell_type": "code",
   "execution_count": 25,
   "id": "f0f2b85f-9a49-4cea-976a-7bfef4dd7baf",
   "metadata": {},
   "outputs": [
    {
     "data": {
      "image/png": "[encoded data removed]",
      "text/plain": [
       "Plot with title \"Lack of Homoscedasticity\""
      ]
     },
     "metadata": {
      "image/png": {
       "height": 420,
       "width": 420
      }
     },
     "output_type": "display_data"
    }
   ],
   "source": [
    "x = seq(0, 10, length=50)\n",
    "y_fan = 2*x + rnorm(50, 0, x)\n",
    "plot(x, y_fan, main=\"Lack of Homoscedasticity\")"
   ]
  },
  {
   "cell_type": "markdown",
   "id": "13f843cb-1ef1-448e-b7ef-5d9cefba8fc2",
   "metadata": {},
   "source": [
    "## Question 3"
   ]
  },
  {
   "cell_type": "markdown",
   "id": "34901ecd-6dec-4817-8e77-93beb9147e1c",
   "metadata": {},
   "source": [
    "### Question 3a"
   ]
  },
  {
   "cell_type": "code",
   "execution_count": 32,
   "id": "e46b985b-73bc-469a-9d26-98319eaa7742",
   "metadata": {},
   "outputs": [
    {
     "name": "stdout",
     "output_type": "stream",
     "text": [
      "r =  -0.0162768"
     ]
    }
   ],
   "source": [
    "cat(\"r = \",cor(HighPeaks$Time, HighPeaks$Elevation))"
   ]
  },
  {
   "cell_type": "markdown",
   "id": "445bd495-3358-47a2-b6cc-b2a48815dd36",
   "metadata": {},
   "source": [
    "### Question 3b"
   ]
  },
  {
   "cell_type": "code",
   "execution_count": 27,
   "id": "a16660e7-869d-44dc-9d9e-bdefa09c4c84",
   "metadata": {},
   "outputs": [
    {
     "data": {
      "text/plain": [
       "\n",
       "\tPearson's product-moment correlation\n",
       "\n",
       "data:  HighPeaks$Time and HighPeaks$Elevation\n",
       "t = -0.10798, df = 44, p-value = 0.9145\n",
       "alternative hypothesis: true correlation is not equal to 0\n",
       "95 percent confidence interval:\n",
       " -0.3051330  0.2753222\n",
       "sample estimates:\n",
       "       cor \n",
       "-0.0162768 \n"
      ]
     },
     "metadata": {},
     "output_type": "display_data"
    }
   ],
   "source": [
    "cor.test(HighPeaks$Time, HighPeaks$Elevation)"
   ]
  },
  {
   "cell_type": "markdown",
   "id": "e2d0f2cd-f145-46a0-979d-779ba978d30e",
   "metadata": {},
   "source": [
    "<span style=\"color: blue;\">The p value of 0.9145 is more than our significance valueo of 0.05. Thus we cannot reject the null. There is not sufficient statistical evidence to suppore the claim that there is a correlation between Time and Elevation.<span>"
   ]
  }
 ],
 "metadata": {
  "kernelspec": {
   "display_name": "R",
   "language": "R",
   "name": "ir"
  },
  "language_info": {
   "codemirror_mode": "r",
   "file_extension": ".r",
   "mimetype": "text/x-r-source",
   "name": "R",
   "pygments_lexer": "r",
   "version": "4.5.1"
  }
 },
 "nbformat": 4,
 "nbformat_minor": 5
}
